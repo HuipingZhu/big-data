{
 "cells": [
  {
   "cell_type": "markdown",
   "metadata": {},
   "source": [
    "# License \n",
    "***\n",
    "Copyright (C) 2017 J. Patrick Hall, jphall@gwu.edu\n",
    "\n",
    "Permission is hereby granted, free of charge, to any person obtaining a copy of this software and associated documentation files (the \"Software\"), to deal in the Software without restriction, including without limitation the rights to use, copy, modify, merge, publish, distribute, sublicense, and/or sell copies of the Software, and to permit persons to whom the Software is furnished to do so, subject to the following conditions:\n",
    "\n",
    "The above copyright notice and this permission notice shall be included in all copies or substantial portions of the Software.\n",
    "\n",
    "THE SOFTWARE IS PROVIDED \"AS IS\", WITHOUT WARRANTY OF ANY KIND, EXPRESS OR IMPLIED, INCLUDING BUT NOT LIMITED TO THE WARRANTIES OF MERCHANTABILITY, FITNESS FOR A PARTICULAR PURPOSE AND NONINFRINGEMENT. IN NO EVENT SHALL THE AUTHORS OR COPYRIGHT HOLDERS BE LIABLE FOR ANY CLAIM, DAMAGES OR OTHER LIABILITY, WHETHER IN AN ACTION OF CONTRACT, TORT OR OTHERWISE, ARISING FROM, OUT OF OR IN CONNECTION WITH THE SOFTWARE OR THE USE OR OTHER DEALINGS IN THE SOFTWARE.\n"
   ]
  },
  {
   "cell_type": "markdown",
   "metadata": {},
   "source": [
    "***\n",
    "# R: Part 0 - Basics, dplyr, and ggplot2\n",
    "\n",
    "## 1. Standard output\n",
    "\n",
    "Two primary R core functions are used to print information to the console:\n",
    "* `print()`: a generic function that responds differently to different classes of R objects\n",
    "* `cat()`: simply attempts to print string literals"
   ]
  },
  {
   "cell_type": "code",
   "execution_count": 3,
   "metadata": {
    "collapsed": false,
    "scrolled": true
   },
   "outputs": [
    {
     "name": "stdout",
     "output_type": "stream",
     "text": [
      "[1] \"Hello World!\"\n",
      "Hello World!"
     ]
    },
    {
     "data": {
      "text/html": [
       "'Hello World!'"
      ],
      "text/latex": [
       "'Hello World!'"
      ],
      "text/markdown": [
       "'Hello World!'"
      ],
      "text/plain": [
       "[1] \"Hello World!\""
      ]
     },
     "metadata": {},
     "output_type": "display_data"
    },
    {
     "name": "stdout",
     "output_type": "stream",
     "text": [
      "[1] \"Hello World!\"\n",
      "attr(,\"class\")\n",
      "[1] \"some.class\"\n",
      "Hello World!"
     ]
    }
   ],
   "source": [
    "x <- 'Hello World!'\n",
    "print(x)\n",
    "cat(x)\n",
    "x\n",
    "\n",
    "class(x) <- 'some.class' # '.' is just a character, it does not denote object membership\n",
    "print(x)\n",
    "cat(x) "
   ]
  },
  {
   "cell_type": "code",
   "execution_count": 4,
   "metadata": {
    "collapsed": false
   },
   "outputs": [
    {
     "data": {
      "text/plain": [
       "[1] \"Hello World!\"\n",
       "attr(,\"class\")\n",
       "[1] \"some.class\""
      ]
     },
     "metadata": {},
     "output_type": "display_data"
    }
   ],
   "source": [
    "# An object with no functions or operators is also printed to the console\n",
    "x "
   ]
  },
  {
   "cell_type": "markdown",
   "metadata": {},
   "source": [
    "***\n",
    "## 2. Importing libraries"
   ]
  },
  {
   "cell_type": "markdown",
   "metadata": {},
   "source": [
    "R contains thousands of libraries, often called *packages*, for many different purposes\n",
    "\n",
    "Packages are:\n",
    "* Nearly always free and open source\n",
    "* Installed using the `install.packages()` function or a GUI command\n",
    "* Of varying quality and licensing\n",
    "* Loaded using the `library()` function, after being installed"
   ]
  },
  {
   "cell_type": "code",
   "execution_count": 5,
   "metadata": {
    "collapsed": false
   },
   "outputs": [],
   "source": [
    "library(dplyr)   # popular package for data wrangling with consistent syntax\n",
    "library(ggplot2) # popular package for plotting with consistent syntax"
   ]
  },
  {
   "cell_type": "markdown",
   "metadata": {},
   "source": [
    "***\n",
    "## 3. Setting the working directory\n",
    "\n",
    "#### Enter the directory location of this file within single quotes"
   ]
  },
  {
   "cell_type": "code",
   "execution_count": 6,
   "metadata": {
    "collapsed": false
   },
   "outputs": [],
   "source": [
    "# '<-' is the preferred assignment operator in R\n",
    "# '/' is the safest directory separator character to use\n",
    "\n",
    "git_dir <- 'C:/path/to/GWU_data_mining/01_basic_data_prep/src/notebooks/r'"
   ]
  },
  {
   "cell_type": "markdown",
   "metadata": {},
   "source": [
    "#### Set the working directory\n",
    "\n",
    "* The working directory is where files are written to and read from by default\n",
    "* `setwd()` sets the working directory\n",
    "* `getwd()` prints the current working directory"
   ]
  },
  {
   "cell_type": "code",
   "execution_count": 7,
   "metadata": {
    "collapsed": false
   },
   "outputs": [
    {
     "data": {
      "text/html": [
       "'C:/workspace/GWU_data_mining/01_basic_data_prep/src/notebooks/r'"
      ],
      "text/latex": [
       "'C:/workspace/GWU\\_data\\_mining/01\\_basic\\_data\\_prep/src/notebooks/r'"
      ],
      "text/markdown": [
       "'C:/workspace/GWU_data_mining/01_basic_data_prep/src/notebooks/r'"
      ],
      "text/plain": [
       "[1] \"C:/workspace/GWU_data_mining/01_basic_data_prep/src/notebooks/r\""
      ]
     },
     "metadata": {},
     "output_type": "display_data"
    }
   ],
   "source": [
    "setwd(git_dir)\n",
    "getwd()"
   ]
  },
  {
   "cell_type": "markdown",
   "metadata": {},
   "source": [
    "***\n",
    "## 4. Generating a sample data set\n",
    "\n",
    "#### Set the number of rows and columns for the sample data set"
   ]
  },
  {
   "cell_type": "code",
   "execution_count": 8,
   "metadata": {
    "collapsed": false
   },
   "outputs": [],
   "source": [
    "n_rows <- 1000\n",
    "n_vars <- 2"
   ]
  },
  {
   "cell_type": "markdown",
   "metadata": {},
   "source": [
    "#### Create a key variable\n",
    "* A key variable has a unique value for each row of a data set\n",
    "* `seq()` generates values from a number (default = 1), to another number, by a certain value (default = 1)\n",
    "* Many types of data structures in R have key variables (a.k.a. row names) by default"
   ]
  },
  {
   "cell_type": "code",
   "execution_count": 9,
   "metadata": {
    "collapsed": false
   },
   "outputs": [],
   "source": [
    "key <- seq(n_rows)"
   ]
  },
  {
   "cell_type": "markdown",
   "metadata": {},
   "source": [
    "#### Show the first five elements of `key`\n",
    "\n",
    "Most data structures in R can be 'sliced', i.e. using numeric indices to select a subset of items "
   ]
  },
  {
   "cell_type": "code",
   "execution_count": 10,
   "metadata": {
    "collapsed": false
   },
   "outputs": [
    {
     "data": {
      "text/html": [
       "<ol class=list-inline>\n",
       "\t<li>1</li>\n",
       "\t<li>2</li>\n",
       "\t<li>3</li>\n",
       "\t<li>4</li>\n",
       "\t<li>5</li>\n",
       "</ol>\n"
      ],
      "text/latex": [
       "\\begin{enumerate*}\n",
       "\\item 1\n",
       "\\item 2\n",
       "\\item 3\n",
       "\\item 4\n",
       "\\item 5\n",
       "\\end{enumerate*}\n"
      ],
      "text/markdown": [
       "1. 1\n",
       "2. 2\n",
       "3. 3\n",
       "4. 4\n",
       "5. 5\n",
       "\n",
       "\n"
      ],
      "text/plain": [
       "[1] 1 2 3 4 5"
      ]
     },
     "metadata": {},
     "output_type": "display_data"
    }
   ],
   "source": [
    "key[1:5] "
   ]
  },
  {
   "cell_type": "markdown",
   "metadata": {},
   "source": [
    "#### Create lists of strings that will become column names\n",
    "`paste()` concatentates strings with a separator character in between them"
   ]
  },
  {
   "cell_type": "code",
   "execution_count": 11,
   "metadata": {
    "collapsed": false
   },
   "outputs": [
    {
     "data": {
      "text/html": [
       "<ol class=list-inline>\n",
       "\t<li>'numeric1'</li>\n",
       "\t<li>'numeric2'</li>\n",
       "</ol>\n"
      ],
      "text/latex": [
       "\\begin{enumerate*}\n",
       "\\item 'numeric1'\n",
       "\\item 'numeric2'\n",
       "\\end{enumerate*}\n"
      ],
      "text/markdown": [
       "1. 'numeric1'\n",
       "2. 'numeric2'\n",
       "\n",
       "\n"
      ],
      "text/plain": [
       "[1] \"numeric1\" \"numeric2\""
      ]
     },
     "metadata": {},
     "output_type": "display_data"
    },
    {
     "data": {
      "text/html": [
       "<ol class=list-inline>\n",
       "\t<li>'char1'</li>\n",
       "\t<li>'char2'</li>\n",
       "</ol>\n"
      ],
      "text/latex": [
       "\\begin{enumerate*}\n",
       "\\item 'char1'\n",
       "\\item 'char2'\n",
       "\\end{enumerate*}\n"
      ],
      "text/markdown": [
       "1. 'char1'\n",
       "2. 'char2'\n",
       "\n",
       "\n"
      ],
      "text/plain": [
       "[1] \"char1\" \"char2\""
      ]
     },
     "metadata": {},
     "output_type": "display_data"
    }
   ],
   "source": [
    "num_vars <- paste('numeric', seq_len(n_vars), sep = '')\n",
    "num_vars \n",
    "\n",
    "char_vars <- paste('char', seq_len(n_vars), sep = '')\n",
    "char_vars"
   ]
  },
  {
   "cell_type": "markdown",
   "metadata": {},
   "source": [
    "#### Initialize a data.frame with the key variable"
   ]
  },
  {
   "cell_type": "code",
   "execution_count": 12,
   "metadata": {
    "collapsed": false
   },
   "outputs": [
    {
     "data": {
      "text/html": [
       "<table>\n",
       "<thead><tr><th scope=col>INDEX</th></tr></thead>\n",
       "<tbody>\n",
       "\t<tr><td>1</td></tr>\n",
       "\t<tr><td>2</td></tr>\n",
       "\t<tr><td>3</td></tr>\n",
       "\t<tr><td>4</td></tr>\n",
       "\t<tr><td>5</td></tr>\n",
       "\t<tr><td>6</td></tr>\n",
       "</tbody>\n",
       "</table>\n"
      ],
      "text/latex": [
       "\\begin{tabular}{r|l}\n",
       " INDEX\\\\\n",
       "\\hline\n",
       "\t 1\\\\\n",
       "\t 2\\\\\n",
       "\t 3\\\\\n",
       "\t 4\\\\\n",
       "\t 5\\\\\n",
       "\t 6\\\\\n",
       "\\end{tabular}\n"
      ],
      "text/plain": [
       "  INDEX\n",
       "1 1    \n",
       "2 2    \n",
       "3 3    \n",
       "4 4    \n",
       "5 5    \n",
       "6 6    "
      ]
     },
     "metadata": {},
     "output_type": "display_data"
    }
   ],
   "source": [
    "scratch_df <- data.frame(INDEX = key)\n",
    "\n",
    "# head() displays the top of a data structure\n",
    "head(scratch_df) "
   ]
  },
  {
   "cell_type": "markdown",
   "metadata": {},
   "source": [
    "#### Add n_var numeric columns, each with n_row rows, to the data.frame\n",
    "* Each column contains random uniform numeric values generated by runif()\n",
    "* `replicate()` replicates `n_row` length lists of numeric values `n_vars` times"
   ]
  },
  {
   "cell_type": "code",
   "execution_count": 13,
   "metadata": {
    "collapsed": false
   },
   "outputs": [
    {
     "data": {
      "text/html": [
       "<table>\n",
       "<thead><tr><th scope=col>INDEX</th><th scope=col>numeric1</th><th scope=col>numeric2</th></tr></thead>\n",
       "<tbody>\n",
       "\t<tr><td>1           </td><td>0.3474129   </td><td>0.4332860769</td></tr>\n",
       "\t<tr><td>2           </td><td>0.6859666   </td><td>0.9104925687</td></tr>\n",
       "\t<tr><td>3           </td><td>0.8332253   </td><td>0.0006273664</td></tr>\n",
       "\t<tr><td>4           </td><td>0.1599061   </td><td>0.9637706790</td></tr>\n",
       "\t<tr><td>5           </td><td>0.6742479   </td><td>0.7491531989</td></tr>\n",
       "\t<tr><td>6           </td><td>0.8877142   </td><td>0.7471935684</td></tr>\n",
       "</tbody>\n",
       "</table>\n"
      ],
      "text/latex": [
       "\\begin{tabular}{r|lll}\n",
       " INDEX & numeric1 & numeric2\\\\\n",
       "\\hline\n",
       "\t 1            & 0.3474129    & 0.4332860769\\\\\n",
       "\t 2            & 0.6859666    & 0.9104925687\\\\\n",
       "\t 3            & 0.8332253    & 0.0006273664\\\\\n",
       "\t 4            & 0.1599061    & 0.9637706790\\\\\n",
       "\t 5            & 0.6742479    & 0.7491531989\\\\\n",
       "\t 6            & 0.8877142    & 0.7471935684\\\\\n",
       "\\end{tabular}\n"
      ],
      "text/plain": [
       "  INDEX numeric1  numeric2    \n",
       "1 1     0.3474129 0.4332860769\n",
       "2 2     0.6859666 0.9104925687\n",
       "3 3     0.8332253 0.0006273664\n",
       "4 4     0.1599061 0.9637706790\n",
       "5 5     0.6742479 0.7491531989\n",
       "6 6     0.8877142 0.7471935684"
      ]
     },
     "metadata": {},
     "output_type": "display_data"
    }
   ],
   "source": [
    "scratch_df[, num_vars] <- replicate(n_vars, runif(n_rows))\n",
    "head(scratch_df)"
   ]
  },
  {
   "cell_type": "markdown",
   "metadata": {},
   "source": [
    "#### Add n_var character columns, each with n_row rows, to the data.frame\n",
    "* Create a list of strings from which to generate random text variables\n",
    "* `sapply()` applies a function to a sequence of values\n",
    "* `LETTERS` is a character vector containing uppercase letters\n",
    "* An anonymous function is defined that replicates a value 8 times with no seperator character\n",
    "* `replicate()` replicates n_var lists of n_row elements from text_draw sampled randomly from `test_draw` using the `sample()` function"
   ]
  },
  {
   "cell_type": "code",
   "execution_count": 14,
   "metadata": {
    "collapsed": false,
    "scrolled": true
   },
   "outputs": [
    {
     "data": {
      "text/html": [
       "<dl class=dl-horizontal>\n",
       "\t<dt>A</dt>\n",
       "\t\t<dd>'AAAAAAAA'</dd>\n",
       "\t<dt>B</dt>\n",
       "\t\t<dd>'BBBBBBBB'</dd>\n",
       "\t<dt>C</dt>\n",
       "\t\t<dd>'CCCCCCCC'</dd>\n",
       "\t<dt>D</dt>\n",
       "\t\t<dd>'DDDDDDDD'</dd>\n",
       "\t<dt>E</dt>\n",
       "\t\t<dd>'EEEEEEEE'</dd>\n",
       "\t<dt>F</dt>\n",
       "\t\t<dd>'FFFFFFFF'</dd>\n",
       "\t<dt>G</dt>\n",
       "\t\t<dd>'GGGGGGGG'</dd>\n",
       "</dl>\n"
      ],
      "text/latex": [
       "\\begin{description*}\n",
       "\\item[A] 'AAAAAAAA'\n",
       "\\item[B] 'BBBBBBBB'\n",
       "\\item[C] 'CCCCCCCC'\n",
       "\\item[D] 'DDDDDDDD'\n",
       "\\item[E] 'EEEEEEEE'\n",
       "\\item[F] 'FFFFFFFF'\n",
       "\\item[G] 'GGGGGGGG'\n",
       "\\end{description*}\n"
      ],
      "text/markdown": [
       "A\n",
       ":   'AAAAAAAA'B\n",
       ":   'BBBBBBBB'C\n",
       ":   'CCCCCCCC'D\n",
       ":   'DDDDDDDD'E\n",
       ":   'EEEEEEEE'F\n",
       ":   'FFFFFFFF'G\n",
       ":   'GGGGGGGG'\n",
       "\n"
      ],
      "text/plain": [
       "         A          B          C          D          E          F          G \n",
       "\"AAAAAAAA\" \"BBBBBBBB\" \"CCCCCCCC\" \"DDDDDDDD\" \"EEEEEEEE\" \"FFFFFFFF\" \"GGGGGGGG\" "
      ]
     },
     "metadata": {},
     "output_type": "display_data"
    }
   ],
   "source": [
    "text_draw <- sapply(LETTERS[1:7],\n",
    "                    FUN = function(x) paste(rep(x, 8), collapse = \"\"))\n",
    "text_draw                                     "
   ]
  },
  {
   "cell_type": "code",
   "execution_count": 15,
   "metadata": {
    "collapsed": false,
    "scrolled": true
   },
   "outputs": [
    {
     "data": {
      "text/html": [
       "<table>\n",
       "<thead><tr><th scope=col>INDEX</th><th scope=col>numeric1</th><th scope=col>numeric2</th><th scope=col>char1</th><th scope=col>char2</th></tr></thead>\n",
       "<tbody>\n",
       "\t<tr><td>1           </td><td>0.3474129   </td><td>0.4332860769</td><td>CCCCCCCC    </td><td>GGGGGGGG    </td></tr>\n",
       "\t<tr><td>2           </td><td>0.6859666   </td><td>0.9104925687</td><td>EEEEEEEE    </td><td>AAAAAAAA    </td></tr>\n",
       "\t<tr><td>3           </td><td>0.8332253   </td><td>0.0006273664</td><td>GGGGGGGG    </td><td>DDDDDDDD    </td></tr>\n",
       "\t<tr><td>4           </td><td>0.1599061   </td><td>0.9637706790</td><td>BBBBBBBB    </td><td>AAAAAAAA    </td></tr>\n",
       "\t<tr><td>5           </td><td>0.6742479   </td><td>0.7491531989</td><td>AAAAAAAA    </td><td>BBBBBBBB    </td></tr>\n",
       "\t<tr><td>6           </td><td>0.8877142   </td><td>0.7471935684</td><td>FFFFFFFF    </td><td>BBBBBBBB    </td></tr>\n",
       "</tbody>\n",
       "</table>\n"
      ],
      "text/latex": [
       "\\begin{tabular}{r|lllll}\n",
       " INDEX & numeric1 & numeric2 & char1 & char2\\\\\n",
       "\\hline\n",
       "\t 1            & 0.3474129    & 0.4332860769 & CCCCCCCC     & GGGGGGGG    \\\\\n",
       "\t 2            & 0.6859666    & 0.9104925687 & EEEEEEEE     & AAAAAAAA    \\\\\n",
       "\t 3            & 0.8332253    & 0.0006273664 & GGGGGGGG     & DDDDDDDD    \\\\\n",
       "\t 4            & 0.1599061    & 0.9637706790 & BBBBBBBB     & AAAAAAAA    \\\\\n",
       "\t 5            & 0.6742479    & 0.7491531989 & AAAAAAAA     & BBBBBBBB    \\\\\n",
       "\t 6            & 0.8877142    & 0.7471935684 & FFFFFFFF     & BBBBBBBB    \\\\\n",
       "\\end{tabular}\n"
      ],
      "text/plain": [
       "  INDEX numeric1  numeric2     char1    char2   \n",
       "1 1     0.3474129 0.4332860769 CCCCCCCC GGGGGGGG\n",
       "2 2     0.6859666 0.9104925687 EEEEEEEE AAAAAAAA\n",
       "3 3     0.8332253 0.0006273664 GGGGGGGG DDDDDDDD\n",
       "4 4     0.1599061 0.9637706790 BBBBBBBB AAAAAAAA\n",
       "5 5     0.6742479 0.7491531989 AAAAAAAA BBBBBBBB\n",
       "6 6     0.8877142 0.7471935684 FFFFFFFF BBBBBBBB"
      ]
     },
     "metadata": {},
     "output_type": "display_data"
    }
   ],
   "source": [
    "scratch_df[, char_vars] <- replicate(n_vars,\n",
    "                                     sample(text_draw, n_rows, replace = TRUE))\n",
    "head(scratch_df) "
   ]
  },
  {
   "cell_type": "markdown",
   "metadata": {},
   "source": [
    "#### Convert from standard data.frame to dlpyr table\n",
    "* `dplyr` is a popular, intuitive, and effcient package for manipulating data sets\n",
    "* R has many other data types, here are few: http://www.statmethods.net/input/datatypes.html"
   ]
  },
  {
   "cell_type": "code",
   "execution_count": 16,
   "metadata": {
    "collapsed": false
   },
   "outputs": [],
   "source": [
    "scratch_tbl <- tbl_df(scratch_df)"
   ]
  },
  {
   "cell_type": "markdown",
   "metadata": {},
   "source": [
    "#### Use the dplyr::glimpse function to see a summary of the generated data set \n",
    "\n",
    "`<package>::<method>` notation is used to specify a method (or function) is a member of certain package, i.e. in the 'namespace' of a certain package\n"
   ]
  },
  {
   "cell_type": "code",
   "execution_count": 17,
   "metadata": {
    "collapsed": false
   },
   "outputs": [
    {
     "name": "stdout",
     "output_type": "stream",
     "text": [
      "Observations: 1,000\n",
      "Variables: 5\n",
      "$ INDEX    <int> 1, 2, 3, 4, 5, 6, 7, 8, 9, 10, 11, 12, 13, 14, 15, 16, 17,...\n",
      "$ numeric1 <dbl> 0.34741287, 0.68596664, 0.83322530, 0.15990611, 0.67424790...\n",
      "$ numeric2 <dbl> 0.4332860769, 0.9104925687, 0.0006273664, 0.9637706790, 0....\n",
      "$ char1    <chr> \"CCCCCCCC\", \"EEEEEEEE\", \"GGGGGGGG\", \"BBBBBBBB\", \"AAAAAAAA\"...\n",
      "$ char2    <chr> \"GGGGGGGG\", \"AAAAAAAA\", \"DDDDDDDD\", \"AAAAAAAA\", \"BBBBBBBB\"...\n"
     ]
    }
   ],
   "source": [
    "glimpse(scratch_tbl)"
   ]
  },
  {
   "cell_type": "markdown",
   "metadata": {},
   "source": [
    "***\n",
    "## 5. Plotting variables in a table\n",
    "\n",
    "#### Use  `ggplot` to plot univariate densities of numeric1 and char1 with `geom_bar()`\n",
    "* `ggplot` allows you to overlay graphics using the '+' operator\n",
    "* `gtitle` adds title\n",
    "* `coord_flip` rotates the bar chart"
   ]
  },
  {
   "cell_type": "code",
   "execution_count": 18,
   "metadata": {
    "collapsed": false
   },
   "outputs": [
    {
     "data": {},
     "metadata": {},
     "output_type": "display_data"
    },
    {
     "data": {
      "image/png": "[encoded data removed]",
      "text/plain": [
       "plot without title"
      ]
     },
     "metadata": {},
     "output_type": "display_data"
    }
   ],
   "source": [
    "ggplot(scratch_tbl, aes(numeric1)) +\n",
    "  geom_bar(stat = \"bin\", fill = \"blue\", bins = 100) +\n",
    "  ggtitle('Histogram of Numeric1')"
   ]
  },
  {
   "cell_type": "code",
   "execution_count": 19,
   "metadata": {
    "collapsed": false
   },
   "outputs": [
    {
     "data": {},
     "metadata": {},
     "output_type": "display_data"
    },
    {
     "data": {
      "image/png": "[encoded data removed]",
      "text/plain": [
       "plot without title"
      ]
     },
     "metadata": {},
     "output_type": "display_data"
    }
   ],
   "source": [
    "ggplot(scratch_tbl, aes(char1)) +\n",
    "  geom_bar(aes(fill=char1)) +\n",
    "  ggtitle('Histogram of Char1') +\n",
    "  coord_flip()"
   ]
  },
  {
   "cell_type": "markdown",
   "metadata": {},
   "source": [
    "***\n",
    "## 6. Subsetting tables"
   ]
  },
  {
   "cell_type": "markdown",
   "metadata": {},
   "source": [
    "#### Subset columns using `dplyr::select`"
   ]
  },
  {
   "cell_type": "markdown",
   "metadata": {},
   "source": [
    "Subset a range of variables with similar names and numeric suffixes"
   ]
  },
  {
   "cell_type": "code",
   "execution_count": 20,
   "metadata": {
    "collapsed": false
   },
   "outputs": [
    {
     "data": {
      "text/html": [
       "<table>\n",
       "<thead><tr><th scope=col>numeric1</th><th scope=col>numeric2</th></tr></thead>\n",
       "<tbody>\n",
       "\t<tr><td>0.3474129   </td><td>0.4332860769</td></tr>\n",
       "\t<tr><td>0.6859666   </td><td>0.9104925687</td></tr>\n",
       "\t<tr><td>0.8332253   </td><td>0.0006273664</td></tr>\n",
       "\t<tr><td>0.1599061   </td><td>0.9637706790</td></tr>\n",
       "\t<tr><td>0.6742479   </td><td>0.7491531989</td></tr>\n",
       "\t<tr><td>0.8877142   </td><td>0.7471935684</td></tr>\n",
       "</tbody>\n",
       "</table>\n"
      ],
      "text/latex": [
       "\\begin{tabular}{r|ll}\n",
       " numeric1 & numeric2\\\\\n",
       "\\hline\n",
       "\t 0.3474129    & 0.4332860769\\\\\n",
       "\t 0.6859666    & 0.9104925687\\\\\n",
       "\t 0.8332253    & 0.0006273664\\\\\n",
       "\t 0.1599061    & 0.9637706790\\\\\n",
       "\t 0.6742479    & 0.7491531989\\\\\n",
       "\t 0.8877142    & 0.7471935684\\\\\n",
       "\\end{tabular}\n"
      ],
      "text/plain": [
       "  numeric1  numeric2    \n",
       "1 0.3474129 0.4332860769\n",
       "2 0.6859666 0.9104925687\n",
       "3 0.8332253 0.0006273664\n",
       "4 0.1599061 0.9637706790\n",
       "5 0.6742479 0.7491531989\n",
       "6 0.8877142 0.7471935684"
      ]
     },
     "metadata": {},
     "output_type": "display_data"
    }
   ],
   "source": [
    "num_vars <- select(scratch_tbl, num_range('numeric', 1:n_vars))\n",
    "head(num_vars)"
   ]
  },
  {
   "cell_type": "markdown",
   "metadata": {},
   "source": [
    "Subset all the variables whose names begin with 'char'"
   ]
  },
  {
   "cell_type": "code",
   "execution_count": 21,
   "metadata": {
    "collapsed": false
   },
   "outputs": [
    {
     "data": {
      "text/html": [
       "<table>\n",
       "<thead><tr><th scope=col>char1</th><th scope=col>char2</th></tr></thead>\n",
       "<tbody>\n",
       "\t<tr><td>CCCCCCCC</td><td>GGGGGGGG</td></tr>\n",
       "\t<tr><td>EEEEEEEE</td><td>AAAAAAAA</td></tr>\n",
       "\t<tr><td>GGGGGGGG</td><td>DDDDDDDD</td></tr>\n",
       "\t<tr><td>BBBBBBBB</td><td>AAAAAAAA</td></tr>\n",
       "\t<tr><td>AAAAAAAA</td><td>BBBBBBBB</td></tr>\n",
       "\t<tr><td>FFFFFFFF</td><td>BBBBBBBB</td></tr>\n",
       "</tbody>\n",
       "</table>\n"
      ],
      "text/latex": [
       "\\begin{tabular}{r|ll}\n",
       " char1 & char2\\\\\n",
       "\\hline\n",
       "\t CCCCCCCC & GGGGGGGG\\\\\n",
       "\t EEEEEEEE & AAAAAAAA\\\\\n",
       "\t GGGGGGGG & DDDDDDDD\\\\\n",
       "\t BBBBBBBB & AAAAAAAA\\\\\n",
       "\t AAAAAAAA & BBBBBBBB\\\\\n",
       "\t FFFFFFFF & BBBBBBBB\\\\\n",
       "\\end{tabular}\n"
      ],
      "text/plain": [
       "  char1    char2   \n",
       "1 CCCCCCCC GGGGGGGG\n",
       "2 EEEEEEEE AAAAAAAA\n",
       "3 GGGGGGGG DDDDDDDD\n",
       "4 BBBBBBBB AAAAAAAA\n",
       "5 AAAAAAAA BBBBBBBB\n",
       "6 FFFFFFFF BBBBBBBB"
      ]
     },
     "metadata": {},
     "output_type": "display_data"
    }
   ],
   "source": [
    "char_vars <- select(scratch_tbl, starts_with('char'))\n",
    "head(char_vars)"
   ]
  },
  {
   "cell_type": "markdown",
   "metadata": {},
   "source": [
    "Subset variables by their names"
   ]
  },
  {
   "cell_type": "code",
   "execution_count": 22,
   "metadata": {
    "collapsed": false
   },
   "outputs": [
    {
     "data": {
      "text/html": [
       "<table>\n",
       "<thead><tr><th scope=col>numeric1</th><th scope=col>char1</th></tr></thead>\n",
       "<tbody>\n",
       "\t<tr><td>0.3474129</td><td>CCCCCCCC </td></tr>\n",
       "\t<tr><td>0.6859666</td><td>EEEEEEEE </td></tr>\n",
       "\t<tr><td>0.8332253</td><td>GGGGGGGG </td></tr>\n",
       "\t<tr><td>0.1599061</td><td>BBBBBBBB </td></tr>\n",
       "\t<tr><td>0.6742479</td><td>AAAAAAAA </td></tr>\n",
       "\t<tr><td>0.8877142</td><td>FFFFFFFF </td></tr>\n",
       "</tbody>\n",
       "</table>\n"
      ],
      "text/latex": [
       "\\begin{tabular}{r|ll}\n",
       " numeric1 & char1\\\\\n",
       "\\hline\n",
       "\t 0.3474129 & CCCCCCCC \\\\\n",
       "\t 0.6859666 & EEEEEEEE \\\\\n",
       "\t 0.8332253 & GGGGGGGG \\\\\n",
       "\t 0.1599061 & BBBBBBBB \\\\\n",
       "\t 0.6742479 & AAAAAAAA \\\\\n",
       "\t 0.8877142 & FFFFFFFF \\\\\n",
       "\\end{tabular}\n"
      ],
      "text/plain": [
       "  numeric1  char1   \n",
       "1 0.3474129 CCCCCCCC\n",
       "2 0.6859666 EEEEEEEE\n",
       "3 0.8332253 GGGGGGGG\n",
       "4 0.1599061 BBBBBBBB\n",
       "5 0.6742479 AAAAAAAA\n",
       "6 0.8877142 FFFFFFFF"
      ]
     },
     "metadata": {},
     "output_type": "display_data"
    }
   ],
   "source": [
    "mixed_vars <- select(scratch_tbl, one_of('numeric1', 'char1'))\n",
    "head(mixed_vars)"
   ]
  },
  {
   "cell_type": "markdown",
   "metadata": {},
   "source": [
    "#### Subset columns with several different `dplyr` methods"
   ]
  },
  {
   "cell_type": "markdown",
   "metadata": {},
   "source": [
    "Subset/slice rows using their numeric indices"
   ]
  },
  {
   "cell_type": "code",
   "execution_count": 23,
   "metadata": {
    "collapsed": false
   },
   "outputs": [
    {
     "data": {
      "text/html": [
       "<table>\n",
       "<thead><tr><th scope=col>INDEX</th><th scope=col>numeric1</th><th scope=col>numeric2</th><th scope=col>char1</th><th scope=col>char2</th></tr></thead>\n",
       "<tbody>\n",
       "\t<tr><td> 1          </td><td>0.3474129   </td><td>0.4332860769</td><td>CCCCCCCC    </td><td>GGGGGGGG    </td></tr>\n",
       "\t<tr><td> 2          </td><td>0.6859666   </td><td>0.9104925687</td><td>EEEEEEEE    </td><td>AAAAAAAA    </td></tr>\n",
       "\t<tr><td> 3          </td><td>0.8332253   </td><td>0.0006273664</td><td>GGGGGGGG    </td><td>DDDDDDDD    </td></tr>\n",
       "\t<tr><td> 4          </td><td>0.1599061   </td><td>0.9637706790</td><td>BBBBBBBB    </td><td>AAAAAAAA    </td></tr>\n",
       "\t<tr><td> 5          </td><td>0.6742479   </td><td>0.7491531989</td><td>AAAAAAAA    </td><td>BBBBBBBB    </td></tr>\n",
       "\t<tr><td> 6          </td><td>0.8877142   </td><td>0.7471935684</td><td>FFFFFFFF    </td><td>BBBBBBBB    </td></tr>\n",
       "\t<tr><td> 7          </td><td>0.8268970   </td><td>0.7529136408</td><td>GGGGGGGG    </td><td>GGGGGGGG    </td></tr>\n",
       "\t<tr><td> 8          </td><td>0.3910927   </td><td>0.2017313016</td><td>GGGGGGGG    </td><td>CCCCCCCC    </td></tr>\n",
       "\t<tr><td> 9          </td><td>0.8908531   </td><td>0.7093369325</td><td>DDDDDDDD    </td><td>GGGGGGGG    </td></tr>\n",
       "\t<tr><td>10          </td><td>0.9922066   </td><td>0.0265828427</td><td>FFFFFFFF    </td><td>DDDDDDDD    </td></tr>\n",
       "</tbody>\n",
       "</table>\n"
      ],
      "text/latex": [
       "\\begin{tabular}{r|lllll}\n",
       " INDEX & numeric1 & numeric2 & char1 & char2\\\\\n",
       "\\hline\n",
       "\t  1           & 0.3474129    & 0.4332860769 & CCCCCCCC     & GGGGGGGG    \\\\\n",
       "\t  2           & 0.6859666    & 0.9104925687 & EEEEEEEE     & AAAAAAAA    \\\\\n",
       "\t  3           & 0.8332253    & 0.0006273664 & GGGGGGGG     & DDDDDDDD    \\\\\n",
       "\t  4           & 0.1599061    & 0.9637706790 & BBBBBBBB     & AAAAAAAA    \\\\\n",
       "\t  5           & 0.6742479    & 0.7491531989 & AAAAAAAA     & BBBBBBBB    \\\\\n",
       "\t  6           & 0.8877142    & 0.7471935684 & FFFFFFFF     & BBBBBBBB    \\\\\n",
       "\t  7           & 0.8268970    & 0.7529136408 & GGGGGGGG     & GGGGGGGG    \\\\\n",
       "\t  8           & 0.3910927    & 0.2017313016 & GGGGGGGG     & CCCCCCCC    \\\\\n",
       "\t  9           & 0.8908531    & 0.7093369325 & DDDDDDDD     & GGGGGGGG    \\\\\n",
       "\t 10           & 0.9922066    & 0.0265828427 & FFFFFFFF     & DDDDDDDD    \\\\\n",
       "\\end{tabular}\n"
      ],
      "text/plain": [
       "   INDEX numeric1  numeric2     char1    char2   \n",
       "1   1    0.3474129 0.4332860769 CCCCCCCC GGGGGGGG\n",
       "2   2    0.6859666 0.9104925687 EEEEEEEE AAAAAAAA\n",
       "3   3    0.8332253 0.0006273664 GGGGGGGG DDDDDDDD\n",
       "4   4    0.1599061 0.9637706790 BBBBBBBB AAAAAAAA\n",
       "5   5    0.6742479 0.7491531989 AAAAAAAA BBBBBBBB\n",
       "6   6    0.8877142 0.7471935684 FFFFFFFF BBBBBBBB\n",
       "7   7    0.8268970 0.7529136408 GGGGGGGG GGGGGGGG\n",
       "8   8    0.3910927 0.2017313016 GGGGGGGG CCCCCCCC\n",
       "9   9    0.8908531 0.7093369325 DDDDDDDD GGGGGGGG\n",
       "10 10    0.9922066 0.0265828427 FFFFFFFF DDDDDDDD"
      ]
     },
     "metadata": {},
     "output_type": "display_data"
    }
   ],
   "source": [
    "some_rows <- slice(scratch_tbl, 1:10)\n",
    "some_rows"
   ]
  },
  {
   "cell_type": "markdown",
   "metadata": {},
   "source": [
    "Subset top rows based on the value of a certain variable"
   ]
  },
  {
   "cell_type": "code",
   "execution_count": 24,
   "metadata": {
    "collapsed": false
   },
   "outputs": [
    {
     "data": {
      "text/html": [
       "<table>\n",
       "<thead><tr><th scope=col>INDEX</th><th scope=col>numeric1</th><th scope=col>numeric2</th><th scope=col>char1</th><th scope=col>char2</th></tr></thead>\n",
       "<tbody>\n",
       "\t<tr><td> 10       </td><td>0.9922066 </td><td>0.02658284</td><td>FFFFFFFF  </td><td>DDDDDDDD  </td></tr>\n",
       "\t<tr><td> 68       </td><td>0.9977602 </td><td>0.85634274</td><td>DDDDDDDD  </td><td>DDDDDDDD  </td></tr>\n",
       "\t<tr><td>101       </td><td>0.9972045 </td><td>0.80539363</td><td>AAAAAAAA  </td><td>CCCCCCCC  </td></tr>\n",
       "\t<tr><td>106       </td><td>0.9987065 </td><td>0.11530087</td><td>CCCCCCCC  </td><td>GGGGGGGG  </td></tr>\n",
       "\t<tr><td>241       </td><td>0.9942145 </td><td>0.73674233</td><td>EEEEEEEE  </td><td>FFFFFFFF  </td></tr>\n",
       "\t<tr><td>404       </td><td>0.9984709 </td><td>0.48149003</td><td>BBBBBBBB  </td><td>FFFFFFFF  </td></tr>\n",
       "\t<tr><td>518       </td><td>0.9946709 </td><td>0.57738147</td><td>EEEEEEEE  </td><td>FFFFFFFF  </td></tr>\n",
       "\t<tr><td>582       </td><td>0.9936982 </td><td>0.95461096</td><td>AAAAAAAA  </td><td>CCCCCCCC  </td></tr>\n",
       "\t<tr><td>656       </td><td>0.9944665 </td><td>0.71217725</td><td>CCCCCCCC  </td><td>BBBBBBBB  </td></tr>\n",
       "\t<tr><td>721       </td><td>0.9977745 </td><td>0.57664150</td><td>FFFFFFFF  </td><td>AAAAAAAA  </td></tr>\n",
       "</tbody>\n",
       "</table>\n"
      ],
      "text/latex": [
       "\\begin{tabular}{r|lllll}\n",
       " INDEX & numeric1 & numeric2 & char1 & char2\\\\\n",
       "\\hline\n",
       "\t  10        & 0.9922066  & 0.02658284 & FFFFFFFF   & DDDDDDDD  \\\\\n",
       "\t  68        & 0.9977602  & 0.85634274 & DDDDDDDD   & DDDDDDDD  \\\\\n",
       "\t 101        & 0.9972045  & 0.80539363 & AAAAAAAA   & CCCCCCCC  \\\\\n",
       "\t 106        & 0.9987065  & 0.11530087 & CCCCCCCC   & GGGGGGGG  \\\\\n",
       "\t 241        & 0.9942145  & 0.73674233 & EEEEEEEE   & FFFFFFFF  \\\\\n",
       "\t 404        & 0.9984709  & 0.48149003 & BBBBBBBB   & FFFFFFFF  \\\\\n",
       "\t 518        & 0.9946709  & 0.57738147 & EEEEEEEE   & FFFFFFFF  \\\\\n",
       "\t 582        & 0.9936982  & 0.95461096 & AAAAAAAA   & CCCCCCCC  \\\\\n",
       "\t 656        & 0.9944665  & 0.71217725 & CCCCCCCC   & BBBBBBBB  \\\\\n",
       "\t 721        & 0.9977745  & 0.57664150 & FFFFFFFF   & AAAAAAAA  \\\\\n",
       "\\end{tabular}\n"
      ],
      "text/plain": [
       "   INDEX numeric1  numeric2   char1    char2   \n",
       "1   10   0.9922066 0.02658284 FFFFFFFF DDDDDDDD\n",
       "2   68   0.9977602 0.85634274 DDDDDDDD DDDDDDDD\n",
       "3  101   0.9972045 0.80539363 AAAAAAAA CCCCCCCC\n",
       "4  106   0.9987065 0.11530087 CCCCCCCC GGGGGGGG\n",
       "5  241   0.9942145 0.73674233 EEEEEEEE FFFFFFFF\n",
       "6  404   0.9984709 0.48149003 BBBBBBBB FFFFFFFF\n",
       "7  518   0.9946709 0.57738147 EEEEEEEE FFFFFFFF\n",
       "8  582   0.9936982 0.95461096 AAAAAAAA CCCCCCCC\n",
       "9  656   0.9944665 0.71217725 CCCCCCCC BBBBBBBB\n",
       "10 721   0.9977745 0.57664150 FFFFFFFF AAAAAAAA"
      ]
     },
     "metadata": {},
     "output_type": "display_data"
    }
   ],
   "source": [
    "sorted_top_rows <- top_n(scratch_tbl, 10, numeric1)\n",
    "sorted_top_rows "
   ]
  },
  {
   "cell_type": "markdown",
   "metadata": {},
   "source": [
    "Subset rows where a certain variable has a certain value"
   ]
  },
  {
   "cell_type": "code",
   "execution_count": 25,
   "metadata": {
    "collapsed": false
   },
   "outputs": [
    {
     "data": {
      "text/html": [
       "<table>\n",
       "<thead><tr><th scope=col>INDEX</th><th scope=col>numeric1</th><th scope=col>numeric2</th><th scope=col>char1</th><th scope=col>char2</th></tr></thead>\n",
       "<tbody>\n",
       "\t<tr><td> 5        </td><td>0.67424790</td><td>0.7491532 </td><td>AAAAAAAA  </td><td>BBBBBBBB  </td></tr>\n",
       "\t<tr><td>13        </td><td>0.21715588</td><td>0.8610248 </td><td>AAAAAAAA  </td><td>EEEEEEEE  </td></tr>\n",
       "\t<tr><td>15        </td><td>0.12470682</td><td>0.9516568 </td><td>AAAAAAAA  </td><td>CCCCCCCC  </td></tr>\n",
       "\t<tr><td>24        </td><td>0.06737993</td><td>0.6272992 </td><td>AAAAAAAA  </td><td>EEEEEEEE  </td></tr>\n",
       "\t<tr><td>27        </td><td>0.22187690</td><td>0.6680512 </td><td>AAAAAAAA  </td><td>DDDDDDDD  </td></tr>\n",
       "\t<tr><td>28        </td><td>0.54766823</td><td>0.7143838 </td><td>AAAAAAAA  </td><td>BBBBBBBB  </td></tr>\n",
       "</tbody>\n",
       "</table>\n"
      ],
      "text/latex": [
       "\\begin{tabular}{r|lllll}\n",
       " INDEX & numeric1 & numeric2 & char1 & char2\\\\\n",
       "\\hline\n",
       "\t  5         & 0.67424790 & 0.7491532  & AAAAAAAA   & BBBBBBBB  \\\\\n",
       "\t 13         & 0.21715588 & 0.8610248  & AAAAAAAA   & EEEEEEEE  \\\\\n",
       "\t 15         & 0.12470682 & 0.9516568  & AAAAAAAA   & CCCCCCCC  \\\\\n",
       "\t 24         & 0.06737993 & 0.6272992  & AAAAAAAA   & EEEEEEEE  \\\\\n",
       "\t 27         & 0.22187690 & 0.6680512  & AAAAAAAA   & DDDDDDDD  \\\\\n",
       "\t 28         & 0.54766823 & 0.7143838  & AAAAAAAA   & BBBBBBBB  \\\\\n",
       "\\end{tabular}\n"
      ],
      "text/plain": [
       "  INDEX numeric1   numeric2  char1    char2   \n",
       "1  5    0.67424790 0.7491532 AAAAAAAA BBBBBBBB\n",
       "2 13    0.21715588 0.8610248 AAAAAAAA EEEEEEEE\n",
       "3 15    0.12470682 0.9516568 AAAAAAAA CCCCCCCC\n",
       "4 24    0.06737993 0.6272992 AAAAAAAA EEEEEEEE\n",
       "5 27    0.22187690 0.6680512 AAAAAAAA DDDDDDDD\n",
       "6 28    0.54766823 0.7143838 AAAAAAAA BBBBBBBB"
      ]
     },
     "metadata": {},
     "output_type": "display_data"
    }
   ],
   "source": [
    "AAAAAAAA_rows <- filter(scratch_tbl, char1 == 'AAAAAAAA')\n",
    "head(AAAAAAAA_rows)"
   ]
  },
  {
   "cell_type": "markdown",
   "metadata": {},
   "source": [
    "***\n",
    "## 7. Updating a table\n",
    "`dplyr`, as a best practice, does not support in-place overwrites of data "
   ]
  },
  {
   "cell_type": "markdown",
   "metadata": {},
   "source": [
    "`dplyr::transform` enables the creation of new variables from existing variables"
   ]
  },
  {
   "cell_type": "code",
   "execution_count": 26,
   "metadata": {
    "collapsed": false
   },
   "outputs": [
    {
     "data": {
      "text/html": [
       "<table>\n",
       "<thead><tr><th scope=col>INDEX</th><th scope=col>numeric1</th><th scope=col>numeric2</th><th scope=col>char1</th><th scope=col>char2</th><th scope=col>new_numeric</th></tr></thead>\n",
       "<tbody>\n",
       "\t<tr><td>1           </td><td>0.3474129   </td><td>0.4332860769</td><td>CCCCCCCC    </td><td>GGGGGGGG    </td><td>0.3         </td></tr>\n",
       "\t<tr><td>2           </td><td>0.6859666   </td><td>0.9104925687</td><td>EEEEEEEE    </td><td>AAAAAAAA    </td><td>0.7         </td></tr>\n",
       "\t<tr><td>3           </td><td>0.8332253   </td><td>0.0006273664</td><td>GGGGGGGG    </td><td>DDDDDDDD    </td><td>0.8         </td></tr>\n",
       "\t<tr><td>4           </td><td>0.1599061   </td><td>0.9637706790</td><td>BBBBBBBB    </td><td>AAAAAAAA    </td><td>0.2         </td></tr>\n",
       "\t<tr><td>5           </td><td>0.6742479   </td><td>0.7491531989</td><td>AAAAAAAA    </td><td>BBBBBBBB    </td><td>0.7         </td></tr>\n",
       "\t<tr><td>6           </td><td>0.8877142   </td><td>0.7471935684</td><td>FFFFFFFF    </td><td>BBBBBBBB    </td><td>0.9         </td></tr>\n",
       "</tbody>\n",
       "</table>\n"
      ],
      "text/latex": [
       "\\begin{tabular}{r|llllll}\n",
       " INDEX & numeric1 & numeric2 & char1 & char2 & new\\_numeric\\\\\n",
       "\\hline\n",
       "\t 1            & 0.3474129    & 0.4332860769 & CCCCCCCC     & GGGGGGGG     & 0.3         \\\\\n",
       "\t 2            & 0.6859666    & 0.9104925687 & EEEEEEEE     & AAAAAAAA     & 0.7         \\\\\n",
       "\t 3            & 0.8332253    & 0.0006273664 & GGGGGGGG     & DDDDDDDD     & 0.8         \\\\\n",
       "\t 4            & 0.1599061    & 0.9637706790 & BBBBBBBB     & AAAAAAAA     & 0.2         \\\\\n",
       "\t 5            & 0.6742479    & 0.7491531989 & AAAAAAAA     & BBBBBBBB     & 0.7         \\\\\n",
       "\t 6            & 0.8877142    & 0.7471935684 & FFFFFFFF     & BBBBBBBB     & 0.9         \\\\\n",
       "\\end{tabular}\n"
      ],
      "text/plain": [
       "  INDEX numeric1  numeric2     char1    char2    new_numeric\n",
       "1 1     0.3474129 0.4332860769 CCCCCCCC GGGGGGGG 0.3        \n",
       "2 2     0.6859666 0.9104925687 EEEEEEEE AAAAAAAA 0.7        \n",
       "3 3     0.8332253 0.0006273664 GGGGGGGG DDDDDDDD 0.8        \n",
       "4 4     0.1599061 0.9637706790 BBBBBBBB AAAAAAAA 0.2        \n",
       "5 5     0.6742479 0.7491531989 AAAAAAAA BBBBBBBB 0.7        \n",
       "6 6     0.8877142 0.7471935684 FFFFFFFF BBBBBBBB 0.9        "
      ]
     },
     "metadata": {},
     "output_type": "display_data"
    }
   ],
   "source": [
    "scratch_tbl2 <- transform(scratch_tbl, \n",
    "                          new_numeric = round(numeric1, 1))\n",
    "head(scratch_tbl2)"
   ]
  },
  {
   "cell_type": "markdown",
   "metadata": {},
   "source": [
    "`dplyr::mutate` enables the creation of new variables from existing variables and computed variables"
   ]
  },
  {
   "cell_type": "code",
   "execution_count": 27,
   "metadata": {
    "collapsed": false,
    "scrolled": true
   },
   "outputs": [
    {
     "data": {
      "text/html": [
       "<table>\n",
       "<thead><tr><th scope=col>INDEX</th><th scope=col>numeric1</th><th scope=col>numeric2</th><th scope=col>char1</th><th scope=col>char2</th><th scope=col>new_numeric</th><th scope=col>new_numeric2</th></tr></thead>\n",
       "<tbody>\n",
       "\t<tr><td>1           </td><td>0.3474129   </td><td>0.4332860769</td><td>CCCCCCCC    </td><td>GGGGGGGG    </td><td>0.3         </td><td>3           </td></tr>\n",
       "\t<tr><td>2           </td><td>0.6859666   </td><td>0.9104925687</td><td>EEEEEEEE    </td><td>AAAAAAAA    </td><td>0.7         </td><td>7           </td></tr>\n",
       "\t<tr><td>3           </td><td>0.8332253   </td><td>0.0006273664</td><td>GGGGGGGG    </td><td>DDDDDDDD    </td><td>0.8         </td><td>8           </td></tr>\n",
       "\t<tr><td>4           </td><td>0.1599061   </td><td>0.9637706790</td><td>BBBBBBBB    </td><td>AAAAAAAA    </td><td>0.2         </td><td>2           </td></tr>\n",
       "\t<tr><td>5           </td><td>0.6742479   </td><td>0.7491531989</td><td>AAAAAAAA    </td><td>BBBBBBBB    </td><td>0.7         </td><td>7           </td></tr>\n",
       "\t<tr><td>6           </td><td>0.8877142   </td><td>0.7471935684</td><td>FFFFFFFF    </td><td>BBBBBBBB    </td><td>0.9         </td><td>9           </td></tr>\n",
       "</tbody>\n",
       "</table>\n"
      ],
      "text/latex": [
       "\\begin{tabular}{r|lllllll}\n",
       " INDEX & numeric1 & numeric2 & char1 & char2 & new\\_numeric & new\\_numeric2\\\\\n",
       "\\hline\n",
       "\t 1            & 0.3474129    & 0.4332860769 & CCCCCCCC     & GGGGGGGG     & 0.3          & 3           \\\\\n",
       "\t 2            & 0.6859666    & 0.9104925687 & EEEEEEEE     & AAAAAAAA     & 0.7          & 7           \\\\\n",
       "\t 3            & 0.8332253    & 0.0006273664 & GGGGGGGG     & DDDDDDDD     & 0.8          & 8           \\\\\n",
       "\t 4            & 0.1599061    & 0.9637706790 & BBBBBBBB     & AAAAAAAA     & 0.2          & 2           \\\\\n",
       "\t 5            & 0.6742479    & 0.7491531989 & AAAAAAAA     & BBBBBBBB     & 0.7          & 7           \\\\\n",
       "\t 6            & 0.8877142    & 0.7471935684 & FFFFFFFF     & BBBBBBBB     & 0.9          & 9           \\\\\n",
       "\\end{tabular}\n"
      ],
      "text/plain": [
       "  INDEX numeric1  numeric2     char1    char2    new_numeric new_numeric2\n",
       "1 1     0.3474129 0.4332860769 CCCCCCCC GGGGGGGG 0.3         3           \n",
       "2 2     0.6859666 0.9104925687 EEEEEEEE AAAAAAAA 0.7         7           \n",
       "3 3     0.8332253 0.0006273664 GGGGGGGG DDDDDDDD 0.8         8           \n",
       "4 4     0.1599061 0.9637706790 BBBBBBBB AAAAAAAA 0.2         2           \n",
       "5 5     0.6742479 0.7491531989 AAAAAAAA BBBBBBBB 0.7         7           \n",
       "6 6     0.8877142 0.7471935684 FFFFFFFF BBBBBBBB 0.9         9           "
      ]
     },
     "metadata": {},
     "output_type": "display_data"
    }
   ],
   "source": [
    "scratch_tbl2 <- mutate(scratch_tbl, \n",
    "                       new_numeric = round(numeric1, 1), \n",
    "                       new_numeric2 = new_numeric * 10)\n",
    "head(scratch_tbl2)"
   ]
  },
  {
   "cell_type": "markdown",
   "metadata": {},
   "source": [
    "`dplyr::transmute` enables the creation of new variables from existing variables and computed variables, but keeps only newly created variables"
   ]
  },
  {
   "cell_type": "code",
   "execution_count": 28,
   "metadata": {
    "collapsed": false
   },
   "outputs": [
    {
     "data": {
      "text/html": [
       "<table>\n",
       "<thead><tr><th scope=col>new_numeric</th><th scope=col>new_numeric2</th></tr></thead>\n",
       "<tbody>\n",
       "\t<tr><td>0.3</td><td>3  </td></tr>\n",
       "\t<tr><td>0.7</td><td>7  </td></tr>\n",
       "\t<tr><td>0.8</td><td>8  </td></tr>\n",
       "\t<tr><td>0.2</td><td>2  </td></tr>\n",
       "\t<tr><td>0.7</td><td>7  </td></tr>\n",
       "\t<tr><td>0.9</td><td>9  </td></tr>\n",
       "</tbody>\n",
       "</table>\n"
      ],
      "text/latex": [
       "\\begin{tabular}{r|ll}\n",
       " new\\_numeric & new\\_numeric2\\\\\n",
       "\\hline\n",
       "\t 0.3 & 3  \\\\\n",
       "\t 0.7 & 7  \\\\\n",
       "\t 0.8 & 8  \\\\\n",
       "\t 0.2 & 2  \\\\\n",
       "\t 0.7 & 7  \\\\\n",
       "\t 0.9 & 9  \\\\\n",
       "\\end{tabular}\n"
      ],
      "text/plain": [
       "  new_numeric new_numeric2\n",
       "1 0.3         3           \n",
       "2 0.7         7           \n",
       "3 0.8         8           \n",
       "4 0.2         2           \n",
       "5 0.7         7           \n",
       "6 0.9         9           "
      ]
     },
     "metadata": {},
     "output_type": "display_data"
    }
   ],
   "source": [
    "scratch_tbl2 <- transmute(scratch_tbl, \n",
    "                          new_numeric = round(numeric1, 1), \n",
    "                          new_numeric2 = new_numeric * 10)\n",
    "head(scratch_tbl2)"
   ]
  },
  {
   "cell_type": "markdown",
   "metadata": {},
   "source": [
    "***\n",
    "## 8. Sorting a table \n",
    "Sort tables by one variable or more variables using `dplyr::arrange`"
   ]
  },
  {
   "cell_type": "code",
   "execution_count": 29,
   "metadata": {
    "collapsed": false
   },
   "outputs": [
    {
     "data": {
      "text/html": [
       "<table>\n",
       "<thead><tr><th scope=col>char1</th><th scope=col>char2</th></tr></thead>\n",
       "<tbody>\n",
       "\t<tr><td>AAAAAAAA</td><td>BBBBBBBB</td></tr>\n",
       "\t<tr><td>AAAAAAAA</td><td>EEEEEEEE</td></tr>\n",
       "\t<tr><td>AAAAAAAA</td><td>CCCCCCCC</td></tr>\n",
       "\t<tr><td>AAAAAAAA</td><td>EEEEEEEE</td></tr>\n",
       "\t<tr><td>AAAAAAAA</td><td>DDDDDDDD</td></tr>\n",
       "\t<tr><td>AAAAAAAA</td><td>BBBBBBBB</td></tr>\n",
       "</tbody>\n",
       "</table>\n"
      ],
      "text/latex": [
       "\\begin{tabular}{r|ll}\n",
       " char1 & char2\\\\\n",
       "\\hline\n",
       "\t AAAAAAAA & BBBBBBBB\\\\\n",
       "\t AAAAAAAA & EEEEEEEE\\\\\n",
       "\t AAAAAAAA & CCCCCCCC\\\\\n",
       "\t AAAAAAAA & EEEEEEEE\\\\\n",
       "\t AAAAAAAA & DDDDDDDD\\\\\n",
       "\t AAAAAAAA & BBBBBBBB\\\\\n",
       "\\end{tabular}\n"
      ],
      "text/plain": [
       "  char1    char2   \n",
       "1 AAAAAAAA BBBBBBBB\n",
       "2 AAAAAAAA EEEEEEEE\n",
       "3 AAAAAAAA CCCCCCCC\n",
       "4 AAAAAAAA EEEEEEEE\n",
       "5 AAAAAAAA DDDDDDDD\n",
       "6 AAAAAAAA BBBBBBBB"
      ]
     },
     "metadata": {},
     "output_type": "display_data"
    }
   ],
   "source": [
    "# one sort var: char1\n",
    "sorted <- arrange(char_vars, char1)\n",
    "head(sorted)"
   ]
  },
  {
   "cell_type": "code",
   "execution_count": 30,
   "metadata": {
    "collapsed": false
   },
   "outputs": [
    {
     "data": {
      "text/html": [
       "<table>\n",
       "<thead><tr><th scope=col>char1</th><th scope=col>char2</th></tr></thead>\n",
       "<tbody>\n",
       "\t<tr><td>AAAAAAAA</td><td>AAAAAAAA</td></tr>\n",
       "\t<tr><td>AAAAAAAA</td><td>AAAAAAAA</td></tr>\n",
       "\t<tr><td>AAAAAAAA</td><td>AAAAAAAA</td></tr>\n",
       "\t<tr><td>AAAAAAAA</td><td>AAAAAAAA</td></tr>\n",
       "\t<tr><td>AAAAAAAA</td><td>AAAAAAAA</td></tr>\n",
       "\t<tr><td>AAAAAAAA</td><td>AAAAAAAA</td></tr>\n",
       "</tbody>\n",
       "</table>\n"
      ],
      "text/latex": [
       "\\begin{tabular}{r|ll}\n",
       " char1 & char2\\\\\n",
       "\\hline\n",
       "\t AAAAAAAA & AAAAAAAA\\\\\n",
       "\t AAAAAAAA & AAAAAAAA\\\\\n",
       "\t AAAAAAAA & AAAAAAAA\\\\\n",
       "\t AAAAAAAA & AAAAAAAA\\\\\n",
       "\t AAAAAAAA & AAAAAAAA\\\\\n",
       "\t AAAAAAAA & AAAAAAAA\\\\\n",
       "\\end{tabular}\n"
      ],
      "text/plain": [
       "  char1    char2   \n",
       "1 AAAAAAAA AAAAAAAA\n",
       "2 AAAAAAAA AAAAAAAA\n",
       "3 AAAAAAAA AAAAAAAA\n",
       "4 AAAAAAAA AAAAAAAA\n",
       "5 AAAAAAAA AAAAAAAA\n",
       "6 AAAAAAAA AAAAAAAA"
      ]
     },
     "metadata": {},
     "output_type": "display_data"
    }
   ],
   "source": [
    "# two sort vars: char1, char2\n",
    "sorted2 <- arrange(char_vars, char1, char2)\n",
    "head(sorted2)"
   ]
  },
  {
   "cell_type": "markdown",
   "metadata": {},
   "source": [
    "***\n",
    "## 9. Adding data to the table\n",
    "Add data to a table using `dplyr:: bind` and `dplyr::join`\n",
    "* Bind methods smash tables together\n",
    "  * `bindr` stacks data sets vertically\n",
    "  * `bindc` combines data sets horizontally\n",
    "* `join` combines tables based on matching values of a shared key (or 'by') variable"
   ]
  },
  {
   "cell_type": "code",
   "execution_count": 31,
   "metadata": {
    "collapsed": false
   },
   "outputs": [
    {
     "data": {
      "text/html": [
       "2000"
      ],
      "text/latex": [
       "2000"
      ],
      "text/markdown": [
       "2000"
      ],
      "text/plain": [
       "[1] 2000"
      ]
     },
     "metadata": {},
     "output_type": "display_data"
    }
   ],
   "source": [
    "bindr <- bind_rows(sorted, sorted2)\n",
    "nrow(bindr) #nrow - number of rows"
   ]
  },
  {
   "cell_type": "code",
   "execution_count": 32,
   "metadata": {
    "collapsed": false
   },
   "outputs": [
    {
     "data": {
      "text/html": [
       "4"
      ],
      "text/latex": [
       "4"
      ],
      "text/markdown": [
       "4"
      ],
      "text/plain": [
       "[1] 4"
      ]
     },
     "metadata": {},
     "output_type": "display_data"
    }
   ],
   "source": [
    "bindc <- bind_cols(sorted, sorted2)\n",
    "ncol(bindc) # ncol - number of columns"
   ]
  },
  {
   "cell_type": "markdown",
   "metadata": {},
   "source": [
    "#### Create two tables to join on a key variable "
   ]
  },
  {
   "cell_type": "code",
   "execution_count": 33,
   "metadata": {
    "collapsed": true
   },
   "outputs": [],
   "source": [
    "sorted_left <- arrange(select(scratch_tbl, one_of('INDEX', 'char1')), char1)\n",
    "right <- select(scratch_tbl, one_of('INDEX', 'numeric1'))"
   ]
  },
  {
   "cell_type": "markdown",
   "metadata": {},
   "source": [
    "#### Perform join\n",
    "Joined table contains `char1` from the left table and `numeric1` from the right table matched by the value of `INDEX`"
   ]
  },
  {
   "cell_type": "code",
   "execution_count": 34,
   "metadata": {
    "collapsed": false
   },
   "outputs": [
    {
     "data": {
      "text/html": [
       "<table>\n",
       "<thead><tr><th scope=col>INDEX</th><th scope=col>char1</th><th scope=col>numeric1</th></tr></thead>\n",
       "<tbody>\n",
       "\t<tr><td> 5        </td><td>AAAAAAAA  </td><td>0.67424790</td></tr>\n",
       "\t<tr><td>13        </td><td>AAAAAAAA  </td><td>0.21715588</td></tr>\n",
       "\t<tr><td>15        </td><td>AAAAAAAA  </td><td>0.12470682</td></tr>\n",
       "\t<tr><td>24        </td><td>AAAAAAAA  </td><td>0.06737993</td></tr>\n",
       "\t<tr><td>27        </td><td>AAAAAAAA  </td><td>0.22187690</td></tr>\n",
       "\t<tr><td>28        </td><td>AAAAAAAA  </td><td>0.54766823</td></tr>\n",
       "</tbody>\n",
       "</table>\n"
      ],
      "text/latex": [
       "\\begin{tabular}{r|lll}\n",
       " INDEX & char1 & numeric1\\\\\n",
       "\\hline\n",
       "\t  5         & AAAAAAAA   & 0.67424790\\\\\n",
       "\t 13         & AAAAAAAA   & 0.21715588\\\\\n",
       "\t 15         & AAAAAAAA   & 0.12470682\\\\\n",
       "\t 24         & AAAAAAAA   & 0.06737993\\\\\n",
       "\t 27         & AAAAAAAA   & 0.22187690\\\\\n",
       "\t 28         & AAAAAAAA   & 0.54766823\\\\\n",
       "\\end{tabular}\n"
      ],
      "text/plain": [
       "  INDEX char1    numeric1  \n",
       "1  5    AAAAAAAA 0.67424790\n",
       "2 13    AAAAAAAA 0.21715588\n",
       "3 15    AAAAAAAA 0.12470682\n",
       "4 24    AAAAAAAA 0.06737993\n",
       "5 27    AAAAAAAA 0.22187690\n",
       "6 28    AAAAAAAA 0.54766823"
      ]
     },
     "metadata": {},
     "output_type": "display_data"
    }
   ],
   "source": [
    "joined <- left_join(sorted_left, right, by = 'INDEX')\n",
    "head(joined)"
   ]
  },
  {
   "cell_type": "markdown",
   "metadata": {},
   "source": [
    "***\n",
    "## 10. Comparing tables using `dplyr::all.equal`\n",
    "* `dplyr::all.equal` will test tables for equality despite the order of rowsand/or columns\n",
    "* Very useful for keeping track of changes to important tables"
   ]
  },
  {
   "cell_type": "markdown",
   "metadata": {},
   "source": [
    "#### Create a table for comparision \n",
    "`test` will have the same values as `joined` but in a different order"
   ]
  },
  {
   "cell_type": "code",
   "execution_count": 35,
   "metadata": {
    "collapsed": true
   },
   "outputs": [],
   "source": [
    "test <- select(scratch_tbl, one_of('INDEX', 'numeric1', 'char1'))"
   ]
  },
  {
   "cell_type": "markdown",
   "metadata": {},
   "source": [
    "#### Perform comparisons"
   ]
  },
  {
   "cell_type": "code",
   "execution_count": 36,
   "metadata": {
    "collapsed": false
   },
   "outputs": [
    {
     "name": "stdout",
     "output_type": "stream",
     "text": [
      "[1] \"Same row values, but different order\"\n"
     ]
    }
   ],
   "source": [
    "print(all.equal(joined, test, ignore_row_order = FALSE))"
   ]
  },
  {
   "cell_type": "code",
   "execution_count": 37,
   "metadata": {
    "collapsed": false
   },
   "outputs": [
    {
     "name": "stdout",
     "output_type": "stream",
     "text": [
      "[1] \"Same column names, but different order\"\n"
     ]
    }
   ],
   "source": [
    "print(all.equal(joined, test, ignore_col_order = FALSE))"
   ]
  },
  {
   "cell_type": "code",
   "execution_count": 38,
   "metadata": {
    "collapsed": false
   },
   "outputs": [
    {
     "name": "stdout",
     "output_type": "stream",
     "text": [
      "[1] TRUE\n"
     ]
    }
   ],
   "source": [
    "print(all.equal(joined, test))"
   ]
  },
  {
   "cell_type": "markdown",
   "metadata": {},
   "source": [
    "***\n",
    "## 11. Summarizing tables\n",
    "Combine rows of tables into summary values, like means or sums, using:\n",
    "* `dplyr::summarise` \n",
    "* `dplyr::summarise_each`"
   ]
  },
  {
   "cell_type": "code",
   "execution_count": 39,
   "metadata": {
    "collapsed": false
   },
   "outputs": [
    {
     "data": {
      "text/html": [
       "<table>\n",
       "<thead><tr><th scope=col>avg</th></tr></thead>\n",
       "<tbody>\n",
       "\t<tr><td>0.4963676</td></tr>\n",
       "</tbody>\n",
       "</table>\n"
      ],
      "text/latex": [
       "\\begin{tabular}{r|l}\n",
       " avg\\\\\n",
       "\\hline\n",
       "\t 0.4963676\\\\\n",
       "\\end{tabular}\n"
      ],
      "text/plain": [
       "  avg      \n",
       "1 0.4963676"
      ]
     },
     "metadata": {},
     "output_type": "display_data"
    }
   ],
   "source": [
    "ave <- summarise(num_vars, avg = mean(numeric1)) # avg is the name of the new variable\n",
    "ave"
   ]
  },
  {
   "cell_type": "code",
   "execution_count": 40,
   "metadata": {
    "collapsed": false
   },
   "outputs": [
    {
     "data": {
      "text/html": [
       "<table>\n",
       "<thead><tr><th scope=col>numeric1</th><th scope=col>numeric2</th></tr></thead>\n",
       "<tbody>\n",
       "\t<tr><td>0.4963676</td><td>0.50781  </td></tr>\n",
       "</tbody>\n",
       "</table>\n"
      ],
      "text/latex": [
       "\\begin{tabular}{r|ll}\n",
       " numeric1 & numeric2\\\\\n",
       "\\hline\n",
       "\t 0.4963676 & 0.50781  \\\\\n",
       "\\end{tabular}\n"
      ],
      "text/plain": [
       "  numeric1  numeric2\n",
       "1 0.4963676 0.50781 "
      ]
     },
     "metadata": {},
     "output_type": "display_data"
    }
   ],
   "source": [
    "all_aves <-summarise_each(num_vars, funs(mean)) # funs() defines the summary function\n",
    "all_aves"
   ]
  },
  {
   "cell_type": "markdown",
   "metadata": {},
   "source": [
    "***\n",
    "## 12. By group processing\n",
    "By groups allow you to divide and process a data set based on the values of a certain variable\n",
    "* `dplyr::group_by` groups a data set together based on the values of a certain variable\n",
    "* Operations can then be applied to groups"
   ]
  },
  {
   "cell_type": "code",
   "execution_count": 41,
   "metadata": {
    "collapsed": true
   },
   "outputs": [],
   "source": [
    "grouped <- group_by(joined, char1)"
   ]
  },
  {
   "cell_type": "code",
   "execution_count": 42,
   "metadata": {
    "collapsed": false
   },
   "outputs": [
    {
     "data": {
      "text/html": [
       "<table>\n",
       "<thead><tr><th scope=col>char1</th><th scope=col>avg</th></tr></thead>\n",
       "<tbody>\n",
       "\t<tr><td>AAAAAAAA </td><td>0.4920375</td></tr>\n",
       "\t<tr><td>BBBBBBBB </td><td>0.5358034</td></tr>\n",
       "\t<tr><td>CCCCCCCC </td><td>0.5129227</td></tr>\n",
       "\t<tr><td>DDDDDDDD </td><td>0.4786441</td></tr>\n",
       "\t<tr><td>EEEEEEEE </td><td>0.4459109</td></tr>\n",
       "\t<tr><td>FFFFFFFF </td><td>0.4992131</td></tr>\n",
       "\t<tr><td>GGGGGGGG </td><td>0.5048102</td></tr>\n",
       "</tbody>\n",
       "</table>\n"
      ],
      "text/latex": [
       "\\begin{tabular}{r|ll}\n",
       " char1 & avg\\\\\n",
       "\\hline\n",
       "\t AAAAAAAA  & 0.4920375\\\\\n",
       "\t BBBBBBBB  & 0.5358034\\\\\n",
       "\t CCCCCCCC  & 0.5129227\\\\\n",
       "\t DDDDDDDD  & 0.4786441\\\\\n",
       "\t EEEEEEEE  & 0.4459109\\\\\n",
       "\t FFFFFFFF  & 0.4992131\\\\\n",
       "\t GGGGGGGG  & 0.5048102\\\\\n",
       "\\end{tabular}\n"
      ],
      "text/plain": [
       "  char1    avg      \n",
       "1 AAAAAAAA 0.4920375\n",
       "2 BBBBBBBB 0.5358034\n",
       "3 CCCCCCCC 0.5129227\n",
       "4 DDDDDDDD 0.4786441\n",
       "5 EEEEEEEE 0.4459109\n",
       "6 FFFFFFFF 0.4992131\n",
       "7 GGGGGGGG 0.5048102"
      ]
     },
     "metadata": {},
     "output_type": "display_data"
    }
   ],
   "source": [
    "grouped <- summarise(grouped, avg = mean(numeric1)) # avg is the name of the new variable\n",
    "grouped"
   ]
  },
  {
   "cell_type": "markdown",
   "metadata": {},
   "source": [
    "***\n",
    "## 13. Transposing a table\n",
    "* Transposing a matrix simply switches row and columns values\n",
    "* Transposing a data.frame or dplyr table is more complex because of metadata associated with variable names and row indices"
   ]
  },
  {
   "cell_type": "code",
   "execution_count": 43,
   "metadata": {
    "collapsed": false
   },
   "outputs": [
    {
     "name": "stdout",
     "output_type": "stream",
     "text": [
      " chr [1:5, 1:1000] \"   1\" \"0.3474128747\" \"0.4332860769\" \"CCCCCCCC\" ...\n",
      " - attr(*, \"dimnames\")=List of 2\n",
      "  ..$ : chr [1:5] \"INDEX\" \"numeric1\" \"numeric2\" \"char1\" ...\n",
      "  ..$ : NULL\n"
     ]
    }
   ],
   "source": [
    "transposed = t(scratch_tbl)\n",
    "glimpse(transposed)"
   ]
  },
  {
   "cell_type": "markdown",
   "metadata": {},
   "source": [
    "Often, instead of simply transposing, a data set will need to be reformatted in a **melt/stack** - **column split** - **cast** action described in Hadley Wickham's *Tidy Data*:\n",
    "https://www.jstatsoft.org/article/view/v059i10\n",
    "\n",
    "See also dplyr::gather and dplyr::spread()"
   ]
  },
  {
   "cell_type": "markdown",
   "metadata": {},
   "source": [
    "***\n",
    "## 14. Exporting and importing a table\n",
    "* The R core function `write.table` enables writing text files\n",
    "  * Use the `sep` option to specifiy the columns delimiter character\n",
    "  * `row.names = FALSE` indicates not to save the row number to the text file\n",
    "* The similar R core function `read.table` enables reading text files"
   ]
  },
  {
   "cell_type": "code",
   "execution_count": 44,
   "metadata": {
    "collapsed": false
   },
   "outputs": [],
   "source": [
    "# export\n",
    "filename <- paste(git_dir, 'scratch.csv', sep = '/') \n",
    "write.table(scratch_tbl, file = filename, quote = FALSE, sep = ',',\n",
    "            row.names = FALSE) "
   ]
  },
  {
   "cell_type": "code",
   "execution_count": 45,
   "metadata": {
    "collapsed": true
   },
   "outputs": [],
   "source": [
    "# import\n",
    "import <- read.table(filename, header = TRUE, sep = ',')"
   ]
  }
 ],
 "metadata": {
  "anaconda-cloud": {},
  "kernelspec": {
   "display_name": "R",
   "language": "R",
   "name": "ir"
  },
  "language_info": {
   "codemirror_mode": "r",
   "file_extension": ".r",
   "mimetype": "text/x-r-source",
   "name": "R",
   "pygments_lexer": "r",
   "version": "3.3.2"
  }
 },
 "nbformat": 4,
 "nbformat_minor": 1
}
