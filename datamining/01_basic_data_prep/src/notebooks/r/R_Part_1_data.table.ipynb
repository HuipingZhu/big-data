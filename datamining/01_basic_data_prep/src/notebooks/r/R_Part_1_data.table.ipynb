{
 "cells": [
  {
   "cell_type": "markdown",
   "metadata": {},
   "source": [
    "# License \n",
    "***\n",
    "Copyright (C) 2017 J. Patrick Hall, jphall@gwu.edu\n",
    "\n",
    "Permission is hereby granted, free of charge, to any person obtaining a copy of this software and associated documentation files (the \"Software\"), to deal in the Software without restriction, including without limitation the rights to use, copy, modify, merge, publish, distribute, sublicense, and/or sell copies of the Software, and to permit persons to whom the Software is furnished to do so, subject to the following conditions:\n",
    "\n",
    "The above copyright notice and this permission notice shall be included in all copies or substantial portions of the Software.\n",
    "\n",
    "THE SOFTWARE IS PROVIDED \"AS IS\", WITHOUT WARRANTY OF ANY KIND, EXPRESS OR IMPLIED, INCLUDING BUT NOT LIMITED TO THE WARRANTIES OF MERCHANTABILITY, FITNESS FOR A PARTICULAR PURPOSE AND NONINFRINGEMENT. IN NO EVENT SHALL THE AUTHORS OR COPYRIGHT HOLDERS BE LIABLE FOR ANY CLAIM, DAMAGES OR OTHER LIABILITY, WHETHER IN AN ACTION OF CONTRACT, TORT OR OTHERWISE, ARISING FROM, OUT OF OR IN CONNECTION WITH THE SOFTWARE OR THE USE OR OTHER DEALINGS IN THE SOFTWARE."
   ]
  },
  {
   "cell_type": "markdown",
   "metadata": {},
   "source": [
    "***\n",
    "# R: Part 1 - data.table\n",
    "\n",
    "## 1. Load library\n",
    "\n",
    "`data.table` is an efficient package for manipulating data sets\n",
    "* data.table is implemented in optimized C and often attempts to update items by reference to avoid copying large amounts of data\n",
    "* data.table is a subclass of data.frame and generally accepts data.frame syntax \n",
    "* general form of a `data.table` is `dt[i, j, by]`\n",
    "  * `i` is row index, indexed from 1 ...\n",
    "  * `j` is col index, indexed from 1 ...\n",
    "  * by is by-group var name"
   ]
  },
  {
   "cell_type": "code",
   "execution_count": 1,
   "metadata": {
    "collapsed": true
   },
   "outputs": [],
   "source": [
    "library(data.table)"
   ]
  },
  {
   "cell_type": "markdown",
   "metadata": {},
   "source": [
    "***\n",
    "## 2. Setting the working directory\n",
    "\n",
    "#### Enter the directory location of this file within single quotes"
   ]
  },
  {
   "cell_type": "code",
   "execution_count": 2,
   "metadata": {
    "collapsed": true
   },
   "outputs": [],
   "source": [
    "# '<-' is the preferred assignment operator in R\n",
    "# '/' is the safest directory separator character to use\n",
    "\n",
    "git_dir <- 'C:/path/to/GWU_data_mining/01_basic_data_prep/src/notebooks/r'"
   ]
  },
  {
   "cell_type": "markdown",
   "metadata": {},
   "source": [
    "#### Set the working directory\n",
    "\n",
    "* The working directory is where files are written to and read from by default\n",
    "* `setwd()` sets the working directory\n",
    "* `getwd()` prints the current working directory"
   ]
  },
  {
   "cell_type": "code",
   "execution_count": 3,
   "metadata": {
    "collapsed": false
   },
   "outputs": [
    {
     "data": {
      "text/html": [
       "'C:/workspace/GWU_data_mining/01_basic_data_prep/src/notebooks/r'"
      ],
      "text/latex": [
       "'C:/workspace/GWU\\_data\\_mining/01\\_basic\\_data\\_prep/src/notebooks/r'"
      ],
      "text/markdown": [
       "'C:/workspace/GWU_data_mining/01_basic_data_prep/src/notebooks/r'"
      ],
      "text/plain": [
       "[1] \"C:/workspace/GWU_data_mining/01_basic_data_prep/src/notebooks/r\""
      ]
     },
     "metadata": {},
     "output_type": "display_data"
    }
   ],
   "source": [
    "setwd(git_dir)\n",
    "getwd()"
   ]
  },
  {
   "cell_type": "markdown",
   "metadata": {
    "collapsed": true
   },
   "source": [
    "***\n",
    "## 3. Generating a sample data set\n",
    "\n",
    "#### Set the number of rows and columns for the sample data set"
   ]
  },
  {
   "cell_type": "code",
   "execution_count": 4,
   "metadata": {
    "collapsed": true
   },
   "outputs": [],
   "source": [
    "n_rows <- 1000\n",
    "n_vars <- 2"
   ]
  },
  {
   "cell_type": "markdown",
   "metadata": {},
   "source": [
    "#### Create a key variable\n",
    "* A key variable has a unique value for each row of a data set\n",
    "* `seq()` generates values from a number (default = 1), to another number, by a certain value (default = 1)\n",
    "* Many types of data structures in R have key variables (a.k.a. row names) by default"
   ]
  },
  {
   "cell_type": "code",
   "execution_count": 5,
   "metadata": {
    "collapsed": true
   },
   "outputs": [],
   "source": [
    "key <- seq(n_rows)"
   ]
  },
  {
   "cell_type": "markdown",
   "metadata": {},
   "source": [
    "#### Show the first five elements of `key`\n",
    "\n",
    "Most data structures in R can be 'sliced', i.e. using numeric indices to select a subset of items "
   ]
  },
  {
   "cell_type": "code",
   "execution_count": 6,
   "metadata": {
    "collapsed": false
   },
   "outputs": [
    {
     "data": {
      "text/html": [
       "<ol class=list-inline>\n",
       "\t<li>1</li>\n",
       "\t<li>2</li>\n",
       "\t<li>3</li>\n",
       "\t<li>4</li>\n",
       "\t<li>5</li>\n",
       "</ol>\n"
      ],
      "text/latex": [
       "\\begin{enumerate*}\n",
       "\\item 1\n",
       "\\item 2\n",
       "\\item 3\n",
       "\\item 4\n",
       "\\item 5\n",
       "\\end{enumerate*}\n"
      ],
      "text/markdown": [
       "1. 1\n",
       "2. 2\n",
       "3. 3\n",
       "4. 4\n",
       "5. 5\n",
       "\n",
       "\n"
      ],
      "text/plain": [
       "[1] 1 2 3 4 5"
      ]
     },
     "metadata": {},
     "output_type": "display_data"
    }
   ],
   "source": [
    "key[1:5] "
   ]
  },
  {
   "cell_type": "markdown",
   "metadata": {},
   "source": [
    "#### Create lists of strings that will become column names\n",
    "\n",
    "`paste()` concatentates strings with a separator character in between them"
   ]
  },
  {
   "cell_type": "code",
   "execution_count": 7,
   "metadata": {
    "collapsed": false
   },
   "outputs": [
    {
     "data": {
      "text/html": [
       "<ol class=list-inline>\n",
       "\t<li>'numeric1'</li>\n",
       "\t<li>'numeric2'</li>\n",
       "</ol>\n"
      ],
      "text/latex": [
       "\\begin{enumerate*}\n",
       "\\item 'numeric1'\n",
       "\\item 'numeric2'\n",
       "\\end{enumerate*}\n"
      ],
      "text/markdown": [
       "1. 'numeric1'\n",
       "2. 'numeric2'\n",
       "\n",
       "\n"
      ],
      "text/plain": [
       "[1] \"numeric1\" \"numeric2\""
      ]
     },
     "metadata": {},
     "output_type": "display_data"
    },
    {
     "data": {
      "text/html": [
       "<ol class=list-inline>\n",
       "\t<li>'char1'</li>\n",
       "\t<li>'char2'</li>\n",
       "</ol>\n"
      ],
      "text/latex": [
       "\\begin{enumerate*}\n",
       "\\item 'char1'\n",
       "\\item 'char2'\n",
       "\\end{enumerate*}\n"
      ],
      "text/markdown": [
       "1. 'char1'\n",
       "2. 'char2'\n",
       "\n",
       "\n"
      ],
      "text/plain": [
       "[1] \"char1\" \"char2\""
      ]
     },
     "metadata": {},
     "output_type": "display_data"
    }
   ],
   "source": [
    "num_vars <- paste('numeric', seq_len(n_vars), sep = '')\n",
    "num_vars \n",
    "\n",
    "char_vars <- paste('char', seq_len(n_vars), sep = '')\n",
    "char_vars"
   ]
  },
  {
   "cell_type": "markdown",
   "metadata": {},
   "source": [
    "#### Create a list of strings from which to generate random text variables\n",
    "* `sapply()` applies a function to a sequence of values\n",
    "* `LETTERS` is a character vector containing uppercase letters\n",
    "* An anonymous function is defined that replicates a value 8 times with no seperator character"
   ]
  },
  {
   "cell_type": "code",
   "execution_count": 8,
   "metadata": {
    "collapsed": false
   },
   "outputs": [
    {
     "data": {
      "text/html": [
       "<dl class=dl-horizontal>\n",
       "\t<dt>A</dt>\n",
       "\t\t<dd>'AAAAAAAA'</dd>\n",
       "\t<dt>B</dt>\n",
       "\t\t<dd>'BBBBBBBB'</dd>\n",
       "\t<dt>C</dt>\n",
       "\t\t<dd>'CCCCCCCC'</dd>\n",
       "\t<dt>D</dt>\n",
       "\t\t<dd>'DDDDDDDD'</dd>\n",
       "\t<dt>E</dt>\n",
       "\t\t<dd>'EEEEEEEE'</dd>\n",
       "\t<dt>F</dt>\n",
       "\t\t<dd>'FFFFFFFF'</dd>\n",
       "\t<dt>G</dt>\n",
       "\t\t<dd>'GGGGGGGG'</dd>\n",
       "</dl>\n"
      ],
      "text/latex": [
       "\\begin{description*}\n",
       "\\item[A] 'AAAAAAAA'\n",
       "\\item[B] 'BBBBBBBB'\n",
       "\\item[C] 'CCCCCCCC'\n",
       "\\item[D] 'DDDDDDDD'\n",
       "\\item[E] 'EEEEEEEE'\n",
       "\\item[F] 'FFFFFFFF'\n",
       "\\item[G] 'GGGGGGGG'\n",
       "\\end{description*}\n"
      ],
      "text/markdown": [
       "A\n",
       ":   'AAAAAAAA'B\n",
       ":   'BBBBBBBB'C\n",
       ":   'CCCCCCCC'D\n",
       ":   'DDDDDDDD'E\n",
       ":   'EEEEEEEE'F\n",
       ":   'FFFFFFFF'G\n",
       ":   'GGGGGGGG'\n",
       "\n"
      ],
      "text/plain": [
       "         A          B          C          D          E          F          G \n",
       "\"AAAAAAAA\" \"BBBBBBBB\" \"CCCCCCCC\" \"DDDDDDDD\" \"EEEEEEEE\" \"FFFFFFFF\" \"GGGGGGGG\" "
      ]
     },
     "metadata": {},
     "output_type": "display_data"
    }
   ],
   "source": [
    "text_draw <- sapply(LETTERS[1:7],\n",
    "                    FUN = function(x) paste(rep(x, 8), collapse = \"\"))\n",
    "text_draw "
   ]
  },
  {
   "cell_type": "markdown",
   "metadata": {},
   "source": [
    "#### Create a sample `data.table`\n",
    "* `replicate()` replicates `n_row` length lists of numeric values `n_vars` times\n",
    "* `replicate()` replicates n_var lists of n_row elements from text_draw sampled randomly from `test_draw` using the `sample()` function"
   ]
  },
  {
   "cell_type": "code",
   "execution_count": 9,
   "metadata": {
    "collapsed": true
   },
   "outputs": [],
   "source": [
    "scratch_dt <- data.table(key,\n",
    "                         replicate(n_vars, runif(n_rows)), \n",
    "                         replicate(n_vars, sample(text_draw, n_rows, \n",
    "                                                  replace = TRUE)))"
   ]
  },
  {
   "cell_type": "markdown",
   "metadata": {},
   "source": [
    "The `data.table::set*` family of methods in data.table always updates items by reference for efficiency"
   ]
  },
  {
   "cell_type": "code",
   "execution_count": 10,
   "metadata": {
    "collapsed": true
   },
   "outputs": [],
   "source": [
    "setnames(scratch_dt, c('key', num_vars, char_vars))"
   ]
  },
  {
   "cell_type": "markdown",
   "metadata": {},
   "source": [
    "Set option to print first 5 and last 5 rows of `data.table` by default"
   ]
  },
  {
   "cell_type": "code",
   "execution_count": 11,
   "metadata": {
    "collapsed": false
   },
   "outputs": [
    {
     "name": "stdout",
     "output_type": "stream",
     "text": [
      "       key    numeric1   numeric2    char1    char2\n",
      "   1:    1 0.259996684 0.46904710 GGGGGGGG EEEEEEEE\n",
      "   2:    2 0.732081677 0.98525640 FFFFFFFF AAAAAAAA\n",
      "   3:    3 0.003667001 0.44219657 FFFFFFFF CCCCCCCC\n",
      "   4:    4 0.035518094 0.33271310 EEEEEEEE BBBBBBBB\n",
      "   5:    5 0.634085899 0.39789319 EEEEEEEE FFFFFFFF\n",
      "  ---                                              \n",
      " 996:  996 0.149284828 0.06582848 CCCCCCCC GGGGGGGG\n",
      " 997:  997 0.664694987 0.35249160 GGGGGGGG AAAAAAAA\n",
      " 998:  998 0.119148107 0.66886333 DDDDDDDD GGGGGGGG\n",
      " 999:  999 0.299141358 0.78567161 FFFFFFFF FFFFFFFF\n",
      "1000: 1000 0.169459480 0.31053551 EEEEEEEE GGGGGGGG\n"
     ]
    }
   ],
   "source": [
    "options(datatable.print.topn=5)\n",
    "print(scratch_dt)"
   ]
  },
  {
   "cell_type": "markdown",
   "metadata": {},
   "source": [
    "***\n",
    "## 4. Plotting variables in a table\n",
    "`data.table` enables simple plotting for numeric variables"
   ]
  },
  {
   "cell_type": "code",
   "execution_count": 12,
   "metadata": {
    "collapsed": false
   },
   "outputs": [
    {
     "data": {
      "text/plain": [
       "NULL"
      ]
     },
     "metadata": {},
     "output_type": "display_data"
    },
    {
     "data": {
      "image/png": "[encoded data removed]",
      "text/plain": [
       "plot without title"
      ]
     },
     "metadata": {},
     "output_type": "display_data"
    }
   ],
   "source": [
    "scratch_dt[,plot(numeric1, numeric2)]"
   ]
  },
  {
   "cell_type": "markdown",
   "metadata": {},
   "source": [
    "***\n",
    "## 5. Subsetting tables"
   ]
  },
  {
   "cell_type": "markdown",
   "metadata": {},
   "source": [
    "### Subsetting a `data.table` by column"
   ]
  },
  {
   "cell_type": "markdown",
   "metadata": {},
   "source": [
    "Selecting a single column results in a vector"
   ]
  },
  {
   "cell_type": "code",
   "execution_count": 13,
   "metadata": {
    "collapsed": false
   },
   "outputs": [
    {
     "data": {
      "text/html": [
       "'character'"
      ],
      "text/latex": [
       "'character'"
      ],
      "text/markdown": [
       "'character'"
      ],
      "text/plain": [
       "[1] \"character\""
      ]
     },
     "metadata": {},
     "output_type": "display_data"
    },
    {
     "data": {
      "text/html": [
       "1000"
      ],
      "text/latex": [
       "1000"
      ],
      "text/markdown": [
       "1000"
      ],
      "text/plain": [
       "[1] 1000"
      ]
     },
     "metadata": {},
     "output_type": "display_data"
    }
   ],
   "source": [
    "class(scratch_dt[,char1])\n",
    "length(scratch_dt[,char1])"
   ]
  },
  {
   "cell_type": "markdown",
   "metadata": {},
   "source": [
    "##### Multiple columns can be selected"
   ]
  },
  {
   "cell_type": "markdown",
   "metadata": {},
   "source": [
    "Specifying multiple columns by a vector results in a concatenated vector"
   ]
  },
  {
   "cell_type": "code",
   "execution_count": 14,
   "metadata": {
    "collapsed": false
   },
   "outputs": [
    {
     "data": {
      "text/html": [
       "'character'"
      ],
      "text/latex": [
       "'character'"
      ],
      "text/markdown": [
       "'character'"
      ],
      "text/plain": [
       "[1] \"character\""
      ]
     },
     "metadata": {},
     "output_type": "display_data"
    },
    {
     "data": {
      "text/html": [
       "2000"
      ],
      "text/latex": [
       "2000"
      ],
      "text/markdown": [
       "2000"
      ],
      "text/plain": [
       "[1] 2000"
      ]
     },
     "metadata": {},
     "output_type": "display_data"
    }
   ],
   "source": [
    "class(scratch_dt[,c(numeric1, char1)])\n",
    "length(scratch_dt[,c(numeric1, char1)])"
   ]
  },
  {
   "cell_type": "markdown",
   "metadata": {},
   "source": [
    "Specifying multiple columns by list results in a `data.table`"
   ]
  },
  {
   "cell_type": "code",
   "execution_count": 15,
   "metadata": {
    "collapsed": false
   },
   "outputs": [
    {
     "data": {
      "text/html": [
       "<ol class=list-inline>\n",
       "\t<li>'data.table'</li>\n",
       "\t<li>'data.frame'</li>\n",
       "</ol>\n"
      ],
      "text/latex": [
       "\\begin{enumerate*}\n",
       "\\item 'data.table'\n",
       "\\item 'data.frame'\n",
       "\\end{enumerate*}\n"
      ],
      "text/markdown": [
       "1. 'data.table'\n",
       "2. 'data.frame'\n",
       "\n",
       "\n"
      ],
      "text/plain": [
       "[1] \"data.table\" \"data.frame\""
      ]
     },
     "metadata": {},
     "output_type": "display_data"
    },
    {
     "name": "stdout",
     "output_type": "stream",
     "text": [
      "         numeric1    char1\n",
      "   1: 0.259996684 GGGGGGGG\n",
      "   2: 0.732081677 FFFFFFFF\n",
      "   3: 0.003667001 FFFFFFFF\n",
      "   4: 0.035518094 EEEEEEEE\n",
      "   5: 0.634085899 EEEEEEEE\n",
      "  ---                     \n",
      " 996: 0.149284828 CCCCCCCC\n",
      " 997: 0.664694987 GGGGGGGG\n",
      " 998: 0.119148107 DDDDDDDD\n",
      " 999: 0.299141358 FFFFFFFF\n",
      "1000: 0.169459480 EEEEEEEE\n"
     ]
    }
   ],
   "source": [
    "class(scratch_dt[,list(numeric1, char1)])\n",
    "print(scratch_dt[,list(numeric1, char1)])"
   ]
  },
  {
   "cell_type": "markdown",
   "metadata": {},
   "source": [
    "'.' is an alias for 'list'"
   ]
  },
  {
   "cell_type": "code",
   "execution_count": 16,
   "metadata": {
    "collapsed": false
   },
   "outputs": [
    {
     "data": {
      "text/html": [
       "<ol class=list-inline>\n",
       "\t<li>'data.table'</li>\n",
       "\t<li>'data.frame'</li>\n",
       "</ol>\n"
      ],
      "text/latex": [
       "\\begin{enumerate*}\n",
       "\\item 'data.table'\n",
       "\\item 'data.frame'\n",
       "\\end{enumerate*}\n"
      ],
      "text/markdown": [
       "1. 'data.table'\n",
       "2. 'data.frame'\n",
       "\n",
       "\n"
      ],
      "text/plain": [
       "[1] \"data.table\" \"data.frame\""
      ]
     },
     "metadata": {},
     "output_type": "display_data"
    },
    {
     "name": "stdout",
     "output_type": "stream",
     "text": [
      "         numeric1    char1\n",
      "   1: 0.259996684 GGGGGGGG\n",
      "   2: 0.732081677 FFFFFFFF\n",
      "   3: 0.003667001 FFFFFFFF\n",
      "   4: 0.035518094 EEEEEEEE\n",
      "   5: 0.634085899 EEEEEEEE\n",
      "  ---                     \n",
      " 996: 0.149284828 CCCCCCCC\n",
      " 997: 0.664694987 GGGGGGGG\n",
      " 998: 0.119148107 DDDDDDDD\n",
      " 999: 0.299141358 FFFFFFFF\n",
      "1000: 0.169459480 EEEEEEEE\n"
     ]
    }
   ],
   "source": [
    "class(scratch_dt[,.(numeric1, char1)] )\n",
    "print(scratch_dt[,.(numeric1, char1)])"
   ]
  },
  {
   "cell_type": "markdown",
   "metadata": {},
   "source": [
    "##### Computed columns"
   ]
  },
  {
   "cell_type": "markdown",
   "metadata": {},
   "source": [
    "Compute a standalone vector and display first five elements"
   ]
  },
  {
   "cell_type": "code",
   "execution_count": 17,
   "metadata": {
    "collapsed": false
   },
   "outputs": [
    {
     "data": {
      "text/html": [
       "<ol class=list-inline>\n",
       "\t<li>0.3</li>\n",
       "\t<li>0.7</li>\n",
       "\t<li>0</li>\n",
       "\t<li>0</li>\n",
       "\t<li>0.6</li>\n",
       "</ol>\n"
      ],
      "text/latex": [
       "\\begin{enumerate*}\n",
       "\\item 0.3\n",
       "\\item 0.7\n",
       "\\item 0\n",
       "\\item 0\n",
       "\\item 0.6\n",
       "\\end{enumerate*}\n"
      ],
      "text/markdown": [
       "1. 0.3\n",
       "2. 0.7\n",
       "3. 0\n",
       "4. 0\n",
       "5. 0.6\n",
       "\n",
       "\n"
      ],
      "text/plain": [
       "[1] 0.3 0.7 0.0 0.0 0.6"
      ]
     },
     "metadata": {},
     "output_type": "display_data"
    }
   ],
   "source": [
    "scratch_dt[1:5, round(numeric1, 1)] # compute standalone vector"
   ]
  },
  {
   "cell_type": "markdown",
   "metadata": {},
   "source": [
    "Compute a new column with assigned name"
   ]
  },
  {
   "cell_type": "code",
   "execution_count": 18,
   "metadata": {
    "collapsed": false
   },
   "outputs": [
    {
     "name": "stdout",
     "output_type": "stream",
     "text": [
      "      new_numeric\n",
      "   1:         0.3\n",
      "   2:         0.7\n",
      "   3:         0.0\n",
      "   4:         0.0\n",
      "   5:         0.6\n",
      "  ---            \n",
      " 996:         0.1\n",
      " 997:         0.7\n",
      " 998:         0.1\n",
      " 999:         0.3\n",
      "1000:         0.2\n"
     ]
    }
   ],
   "source": [
    "print(scratch_dt[, .(new_numeric = round(numeric1, 1))]) # assign name"
   ]
  },
  {
   "cell_type": "markdown",
   "metadata": {},
   "source": [
    "### Subsetting a `data.table` by row"
   ]
  },
  {
   "cell_type": "markdown",
   "metadata": {},
   "source": [
    "Use numeric indices (or 'slicing')"
   ]
  },
  {
   "cell_type": "code",
   "execution_count": 19,
   "metadata": {
    "collapsed": false
   },
   "outputs": [
    {
     "data": {
      "text/html": [
       "<table>\n",
       "<thead><tr><th scope=col>key</th><th scope=col>numeric1</th><th scope=col>numeric2</th><th scope=col>char1</th><th scope=col>char2</th></tr></thead>\n",
       "<tbody>\n",
       "\t<tr><td>3          </td><td>0.003667001</td><td>0.4421966  </td><td>FFFFFFFF   </td><td>CCCCCCCC   </td></tr>\n",
       "\t<tr><td>4          </td><td>0.035518094</td><td>0.3327131  </td><td>EEEEEEEE   </td><td>BBBBBBBB   </td></tr>\n",
       "\t<tr><td>5          </td><td>0.634085899</td><td>0.3978932  </td><td>EEEEEEEE   </td><td>FFFFFFFF   </td></tr>\n",
       "</tbody>\n",
       "</table>\n"
      ],
      "text/latex": [
       "\\begin{tabular}{r|lllll}\n",
       " key & numeric1 & numeric2 & char1 & char2\\\\\n",
       "\\hline\n",
       "\t 3           & 0.003667001 & 0.4421966   & FFFFFFFF    & CCCCCCCC   \\\\\n",
       "\t 4           & 0.035518094 & 0.3327131   & EEEEEEEE    & BBBBBBBB   \\\\\n",
       "\t 5           & 0.634085899 & 0.3978932   & EEEEEEEE    & FFFFFFFF   \\\\\n",
       "\\end{tabular}\n"
      ],
      "text/plain": [
       "  key numeric1    numeric2  char1    char2   \n",
       "1 3   0.003667001 0.4421966 FFFFFFFF CCCCCCCC\n",
       "2 4   0.035518094 0.3327131 EEEEEEEE BBBBBBBB\n",
       "3 5   0.634085899 0.3978932 EEEEEEEE FFFFFFFF"
      ]
     },
     "metadata": {},
     "output_type": "display_data"
    }
   ],
   "source": [
    "scratch_dt[3:5]"
   ]
  },
  {
   "cell_type": "code",
   "execution_count": 20,
   "metadata": {
    "collapsed": false
   },
   "outputs": [
    {
     "data": {
      "text/html": [
       "<table>\n",
       "<thead><tr><th scope=col>key</th><th scope=col>numeric1</th><th scope=col>numeric2</th><th scope=col>char1</th><th scope=col>char2</th></tr></thead>\n",
       "<tbody>\n",
       "\t<tr><td>3          </td><td>0.003667001</td><td>0.4421966  </td><td>FFFFFFFF   </td><td>CCCCCCCC   </td></tr>\n",
       "\t<tr><td>4          </td><td>0.035518094</td><td>0.3327131  </td><td>EEEEEEEE   </td><td>BBBBBBBB   </td></tr>\n",
       "\t<tr><td>5          </td><td>0.634085899</td><td>0.3978932  </td><td>EEEEEEEE   </td><td>FFFFFFFF   </td></tr>\n",
       "</tbody>\n",
       "</table>\n"
      ],
      "text/latex": [
       "\\begin{tabular}{r|lllll}\n",
       " key & numeric1 & numeric2 & char1 & char2\\\\\n",
       "\\hline\n",
       "\t 3           & 0.003667001 & 0.4421966   & FFFFFFFF    & CCCCCCCC   \\\\\n",
       "\t 4           & 0.035518094 & 0.3327131   & EEEEEEEE    & BBBBBBBB   \\\\\n",
       "\t 5           & 0.634085899 & 0.3978932   & EEEEEEEE    & FFFFFFFF   \\\\\n",
       "\\end{tabular}\n"
      ],
      "text/plain": [
       "  key numeric1    numeric2  char1    char2   \n",
       "1 3   0.003667001 0.4421966 FFFFFFFF CCCCCCCC\n",
       "2 4   0.035518094 0.3327131 EEEEEEEE BBBBBBBB\n",
       "3 5   0.634085899 0.3978932 EEEEEEEE FFFFFFFF"
      ]
     },
     "metadata": {},
     "output_type": "display_data"
    }
   ],
   "source": [
    "scratch_dt[3:5,] # comma is optional"
   ]
  },
  {
   "cell_type": "markdown",
   "metadata": {},
   "source": [
    "Use variable values"
   ]
  },
  {
   "cell_type": "code",
   "execution_count": 21,
   "metadata": {
    "collapsed": false
   },
   "outputs": [
    {
     "name": "stdout",
     "output_type": "stream",
     "text": [
      "     key   numeric1   numeric2    char1    char2\n",
      "  1:  18 0.77342184 0.31187663 DDDDDDDD CCCCCCCC\n",
      "  2:  25 0.32552511 0.02781991 DDDDDDDD EEEEEEEE\n",
      "  3:  29 0.67213389 0.91959072 DDDDDDDD GGGGGGGG\n",
      "  4:  42 0.12872212 0.44037910 DDDDDDDD EEEEEEEE\n",
      "  5:  44 0.28204772 0.94455718 DDDDDDDD AAAAAAAA\n",
      " ---                                            \n",
      "127: 964 0.03882007 0.90117101 DDDDDDDD CCCCCCCC\n",
      "128: 968 0.06489768 0.97608891 DDDDDDDD DDDDDDDD\n",
      "129: 969 0.82980244 0.70093445 DDDDDDDD BBBBBBBB\n",
      "130: 970 0.30456941 0.77411254 DDDDDDDD CCCCCCCC\n",
      "131: 998 0.11914811 0.66886333 DDDDDDDD GGGGGGGG\n"
     ]
    }
   ],
   "source": [
    "print(scratch_dt[char1 == 'DDDDDDDD'])"
   ]
  },
  {
   "cell_type": "code",
   "execution_count": 22,
   "metadata": {
    "collapsed": false
   },
   "outputs": [
    {
     "name": "stdout",
     "output_type": "stream",
     "text": [
      "      key   numeric1  numeric2    char1    char2\n",
      "  1:    4 0.03551809 0.3327131 EEEEEEEE BBBBBBBB\n",
      "  2:    5 0.63408590 0.3978932 EEEEEEEE FFFFFFFF\n",
      "  3:   11 0.84197527 0.5039631 EEEEEEEE CCCCCCCC\n",
      "  4:   14 0.50103007 0.7063631 EEEEEEEE AAAAAAAA\n",
      "  5:   16 0.09726815 0.1038322 EEEEEEEE AAAAAAAA\n",
      " ---                                            \n",
      "277:  979 0.31631015 0.8999229 EEEEEEEE BBBBBBBB\n",
      "278:  984 0.38788661 0.5133926 EEEEEEEE EEEEEEEE\n",
      "279:  987 0.54909619 0.7445486 EEEEEEEE FFFFFFFF\n",
      "280:  998 0.11914811 0.6688633 DDDDDDDD GGGGGGGG\n",
      "281: 1000 0.16945948 0.3105355 EEEEEEEE GGGGGGGG\n"
     ]
    }
   ],
   "source": [
    "print(scratch_dt[char1 %in% c('DDDDDDDD', 'EEEEEEEE')])"
   ]
  },
  {
   "cell_type": "markdown",
   "metadata": {},
   "source": [
    "##### .N operator\n",
    "* Used in `i` (i.e. as a row  index) `.N` represents the numeric value of the last row of a `data.table`\n",
    "* Used in `j` (i.e. as a column index) `.N` represents the number of rows in a `data.table`"
   ]
  },
  {
   "cell_type": "code",
   "execution_count": 23,
   "metadata": {
    "collapsed": false
   },
   "outputs": [
    {
     "data": {
      "text/html": [
       "<table>\n",
       "<thead><tr><th scope=col>key</th><th scope=col>numeric1</th><th scope=col>numeric2</th><th scope=col>char1</th><th scope=col>char2</th></tr></thead>\n",
       "<tbody>\n",
       "\t<tr><td>1000     </td><td>0.1694595</td><td>0.3105355</td><td>EEEEEEEE </td><td>GGGGGGGG </td></tr>\n",
       "</tbody>\n",
       "</table>\n"
      ],
      "text/latex": [
       "\\begin{tabular}{r|lllll}\n",
       " key & numeric1 & numeric2 & char1 & char2\\\\\n",
       "\\hline\n",
       "\t 1000      & 0.1694595 & 0.3105355 & EEEEEEEE  & GGGGGGGG \\\\\n",
       "\\end{tabular}\n"
      ],
      "text/plain": [
       "  key  numeric1  numeric2  char1    char2   \n",
       "1 1000 0.1694595 0.3105355 EEEEEEEE GGGGGGGG"
      ]
     },
     "metadata": {},
     "output_type": "display_data"
    }
   ],
   "source": [
    "scratch_dt[.N]"
   ]
  },
  {
   "cell_type": "code",
   "execution_count": 24,
   "metadata": {
    "collapsed": false
   },
   "outputs": [
    {
     "data": {
      "text/html": [
       "1000"
      ],
      "text/latex": [
       "1000"
      ],
      "text/markdown": [
       "1000"
      ],
      "text/plain": [
       "[1] 1000"
      ]
     },
     "metadata": {},
     "output_type": "display_data"
    }
   ],
   "source": [
    "scratch_dt[,.N]"
   ]
  },
  {
   "cell_type": "markdown",
   "metadata": {},
   "source": [
    "***\n",
    "## 6. Sorting a table "
   ]
  },
  {
   "cell_type": "markdown",
   "metadata": {},
   "source": [
    "`data.table::setorder` reorders columns by reference"
   ]
  },
  {
   "cell_type": "code",
   "execution_count": 25,
   "metadata": {
    "collapsed": false
   },
   "outputs": [
    {
     "name": "stdout",
     "output_type": "stream",
     "text": [
      "      key   numeric1    numeric2    char1    char2\n",
      "   1:  35 0.69515565 0.004905779 AAAAAAAA AAAAAAAA\n",
      "   2:  47 0.37059339 0.869991876 AAAAAAAA BBBBBBBB\n",
      "   3:  51 0.04640185 0.883355444 AAAAAAAA DDDDDDDD\n",
      "   4:  53 0.36996356 0.423926687 AAAAAAAA AAAAAAAA\n",
      "   5:  59 0.36241661 0.642012189 AAAAAAAA CCCCCCCC\n",
      "  ---                                             \n",
      " 996: 931 0.41697288 0.001541809 GGGGGGGG GGGGGGGG\n",
      " 997: 956 0.03146415 0.537123892 GGGGGGGG AAAAAAAA\n",
      " 998: 977 0.94039200 0.537894669 GGGGGGGG EEEEEEEE\n",
      " 999: 982 0.68691456 0.586067937 GGGGGGGG FFFFFFFF\n",
      "1000: 997 0.66469499 0.352491600 GGGGGGGG AAAAAAAA\n"
     ]
    }
   ],
   "source": [
    "sorted <- setorder(scratch_dt, char1)\n",
    "print(sorted)"
   ]
  },
  {
   "cell_type": "markdown",
   "metadata": {},
   "source": [
    "When used in `data.table`, `order()` also reorders columns by reference"
   ]
  },
  {
   "cell_type": "code",
   "execution_count": 26,
   "metadata": {
    "collapsed": false
   },
   "outputs": [
    {
     "name": "stdout",
     "output_type": "stream",
     "text": [
      "      key   numeric1    numeric2    char1    char2\n",
      "   1:  35 0.69515565 0.004905779 AAAAAAAA AAAAAAAA\n",
      "   2:  47 0.37059339 0.869991876 AAAAAAAA BBBBBBBB\n",
      "   3:  51 0.04640185 0.883355444 AAAAAAAA DDDDDDDD\n",
      "   4:  53 0.36996356 0.423926687 AAAAAAAA AAAAAAAA\n",
      "   5:  59 0.36241661 0.642012189 AAAAAAAA CCCCCCCC\n",
      "  ---                                             \n",
      " 996: 931 0.41697288 0.001541809 GGGGGGGG GGGGGGGG\n",
      " 997: 956 0.03146415 0.537123892 GGGGGGGG AAAAAAAA\n",
      " 998: 977 0.94039200 0.537894669 GGGGGGGG EEEEEEEE\n",
      " 999: 982 0.68691456 0.586067937 GGGGGGGG FFFFFFFF\n",
      "1000: 997 0.66469499 0.352491600 GGGGGGGG AAAAAAAA\n"
     ]
    }
   ],
   "source": [
    "sorted <- scratch_dt[order(char1)]\n",
    "print(sorted)"
   ]
  },
  {
   "cell_type": "markdown",
   "metadata": {},
   "source": [
    "Sort orders can be specified by using `order()`"
   ]
  },
  {
   "cell_type": "code",
   "execution_count": 27,
   "metadata": {
    "collapsed": false
   },
   "outputs": [
    {
     "name": "stdout",
     "output_type": "stream",
     "text": [
      "      key    numeric1   numeric2    char1    char2\n",
      "   1: 361 0.988891296 0.02420181 AAAAAAAA DDDDDDDD\n",
      "   2:  95 0.988878589 0.18766972 AAAAAAAA GGGGGGGG\n",
      "   3: 848 0.985371143 0.72682615 AAAAAAAA AAAAAAAA\n",
      "   4: 108 0.977229631 0.22178106 AAAAAAAA DDDDDDDD\n",
      "   5: 826 0.973477794 0.57627465 AAAAAAAA EEEEEEEE\n",
      "  ---                                             \n",
      " 996: 414 0.026325888 0.95853580 GGGGGGGG EEEEEEEE\n",
      " 997: 210 0.011404102 0.37012387 GGGGGGGG DDDDDDDD\n",
      " 998: 750 0.010638036 0.31127618 GGGGGGGG AAAAAAAA\n",
      " 999: 649 0.007135095 0.10497346 GGGGGGGG BBBBBBBB\n",
      "1000: 518 0.006429464 0.11806816 GGGGGGGG FFFFFFFF\n"
     ]
    }
   ],
   "source": [
    "sorted2 <- scratch_dt[order(char1, -numeric1)]\n",
    "print(sorted2)"
   ]
  },
  {
   "cell_type": "markdown",
   "metadata": {},
   "source": [
    "#### data.table::setkey\n",
    "* Reorders columns by reference by the specified key variable (here called 'key')\n",
    "* Sets the variable to the key of the data.table for future operations\n",
    "* Subsetting and selecting by the key variable will be more efficient in future operations    "
   ]
  },
  {
   "cell_type": "code",
   "execution_count": 28,
   "metadata": {
    "collapsed": false
   },
   "outputs": [
    {
     "name": "stdout",
     "output_type": "stream",
     "text": [
      "       key    numeric1   numeric2    char1    char2\n",
      "   1:    1 0.259996684 0.46904710 GGGGGGGG EEEEEEEE\n",
      "   2:    2 0.732081677 0.98525640 FFFFFFFF AAAAAAAA\n",
      "   3:    3 0.003667001 0.44219657 FFFFFFFF CCCCCCCC\n",
      "   4:    4 0.035518094 0.33271310 EEEEEEEE BBBBBBBB\n",
      "   5:    5 0.634085899 0.39789319 EEEEEEEE FFFFFFFF\n",
      "  ---                                              \n",
      " 996:  996 0.149284828 0.06582848 CCCCCCCC GGGGGGGG\n",
      " 997:  997 0.664694987 0.35249160 GGGGGGGG AAAAAAAA\n",
      " 998:  998 0.119148107 0.66886333 DDDDDDDD GGGGGGGG\n",
      " 999:  999 0.299141358 0.78567161 FFFFFFFF FFFFFFFF\n",
      "1000: 1000 0.169459480 0.31053551 EEEEEEEE GGGGGGGG\n"
     ]
    }
   ],
   "source": [
    "sorted3 <- setkey(scratch_dt, key)\n",
    "print(sorted3)"
   ]
  },
  {
   "cell_type": "markdown",
   "metadata": {},
   "source": [
    "***\n",
    "## 7. Updating a table"
   ]
  },
  {
   "cell_type": "markdown",
   "metadata": {},
   "source": [
    "#### Update rows by reference using the := operator\n",
    "##### (data.table supports overwrite of data)"
   ]
  },
  {
   "cell_type": "code",
   "execution_count": 29,
   "metadata": {
    "collapsed": false
   },
   "outputs": [
    {
     "name": "stdout",
     "output_type": "stream",
     "text": [
      "       key    numeric1   numeric2    char1    char2\n",
      "   1:    1 0.259996684 0.46904710 GGGGGGGG EEEEEEEE\n",
      "   2:    2 0.732081677 0.98525640 FFFFFFFF AAAAAAAA\n",
      "   3:    3 0.003667001 0.44219657 FFFFFFFF CCCCCCCC\n",
      "   4:    4 0.035518094 0.33271310 EEEEEEEE BBBBBBBB\n",
      "   5:    5 0.634085899 0.39789319 EEEEEEEE FFFFFFFF\n",
      "  ---                                              \n",
      " 996:  996 0.149284828 0.06582848 ZZZZZZZZ GGGGGGGG\n",
      " 997:  997 0.664694987 0.35249160 ZZZZZZZZ AAAAAAAA\n",
      " 998:  998 0.119148107 0.66886333 ZZZZZZZZ GGGGGGGG\n",
      " 999:  999 0.299141358 0.78567161 ZZZZZZZZ FFFFFFFF\n",
      "1000: 1000 0.169459480 0.31053551 ZZZZZZZZ GGGGGGGG\n"
     ]
    }
   ],
   "source": [
    "scratch_dt2 <- scratch_dt[key > 500, char1 := 'ZZZZZZZZ']\n",
    "print(scratch_dt2)"
   ]
  },
  {
   "cell_type": "markdown",
   "metadata": {},
   "source": [
    "#### Create new columns by reference using the := operator"
   ]
  },
  {
   "cell_type": "code",
   "execution_count": 30,
   "metadata": {
    "collapsed": false
   },
   "outputs": [
    {
     "data": {
      "text/html": [
       "<table>\n",
       "<thead><tr><th scope=col>key</th><th scope=col>numeric1</th><th scope=col>numeric2</th><th scope=col>char1</th><th scope=col>char2</th><th scope=col>new_numeric</th></tr></thead>\n",
       "<tbody>\n",
       "\t<tr><td>1          </td><td>0.259996684</td><td>0.4690471  </td><td>GGGGGGGG   </td><td>EEEEEEEE   </td><td>0.3        </td></tr>\n",
       "\t<tr><td>2          </td><td>0.732081677</td><td>0.9852564  </td><td>FFFFFFFF   </td><td>AAAAAAAA   </td><td>0.7        </td></tr>\n",
       "\t<tr><td>3          </td><td>0.003667001</td><td>0.4421966  </td><td>FFFFFFFF   </td><td>CCCCCCCC   </td><td>0.0        </td></tr>\n",
       "\t<tr><td>4          </td><td>0.035518094</td><td>0.3327131  </td><td>EEEEEEEE   </td><td>BBBBBBBB   </td><td>0.0        </td></tr>\n",
       "\t<tr><td>5          </td><td>0.634085899</td><td>0.3978932  </td><td>EEEEEEEE   </td><td>FFFFFFFF   </td><td>0.6        </td></tr>\n",
       "\t<tr><td>6          </td><td>0.958804426</td><td>0.4134339  </td><td>FFFFFFFF   </td><td>CCCCCCCC   </td><td>1.0        </td></tr>\n",
       "</tbody>\n",
       "</table>\n"
      ],
      "text/latex": [
       "\\begin{tabular}{r|llllll}\n",
       " key & numeric1 & numeric2 & char1 & char2 & new\\_numeric\\\\\n",
       "\\hline\n",
       "\t 1           & 0.259996684 & 0.4690471   & GGGGGGGG    & EEEEEEEE    & 0.3        \\\\\n",
       "\t 2           & 0.732081677 & 0.9852564   & FFFFFFFF    & AAAAAAAA    & 0.7        \\\\\n",
       "\t 3           & 0.003667001 & 0.4421966   & FFFFFFFF    & CCCCCCCC    & 0.0        \\\\\n",
       "\t 4           & 0.035518094 & 0.3327131   & EEEEEEEE    & BBBBBBBB    & 0.0        \\\\\n",
       "\t 5           & 0.634085899 & 0.3978932   & EEEEEEEE    & FFFFFFFF    & 0.6        \\\\\n",
       "\t 6           & 0.958804426 & 0.4134339   & FFFFFFFF    & CCCCCCCC    & 1.0        \\\\\n",
       "\\end{tabular}\n"
      ],
      "text/plain": [
       "  key numeric1    numeric2  char1    char2    new_numeric\n",
       "1 1   0.259996684 0.4690471 GGGGGGGG EEEEEEEE 0.3        \n",
       "2 2   0.732081677 0.9852564 FFFFFFFF AAAAAAAA 0.7        \n",
       "3 3   0.003667001 0.4421966 FFFFFFFF CCCCCCCC 0.0        \n",
       "4 4   0.035518094 0.3327131 EEEEEEEE BBBBBBBB 0.0        \n",
       "5 5   0.634085899 0.3978932 EEEEEEEE FFFFFFFF 0.6        \n",
       "6 6   0.958804426 0.4134339 FFFFFFFF CCCCCCCC 1.0        "
      ]
     },
     "metadata": {},
     "output_type": "display_data"
    }
   ],
   "source": [
    "head(scratch_dt2[, new_numeric := round(numeric1, 1)])"
   ]
  },
  {
   "cell_type": "markdown",
   "metadata": {},
   "source": [
    "## 8. Adding data to the table"
   ]
  },
  {
   "cell_type": "markdown",
   "metadata": {},
   "source": [
    "Use `data.table::rbindlist` to stack `data.tables` vertically"
   ]
  },
  {
   "cell_type": "code",
   "execution_count": 31,
   "metadata": {
    "collapsed": false
   },
   "outputs": [
    {
     "data": {
      "text/html": [
       "2000"
      ],
      "text/latex": [
       "2000"
      ],
      "text/markdown": [
       "2000"
      ],
      "text/plain": [
       "[1] 2000"
      ]
     },
     "metadata": {},
     "output_type": "display_data"
    }
   ],
   "source": [
    "bindr <- rbindlist(list(sorted, sorted2))\n",
    "nrow(bindr)"
   ]
  },
  {
   "cell_type": "markdown",
   "metadata": {},
   "source": [
    "#### `data.table::merge` joins tables side-by-side using a common key (or 'by') variable \n",
    "* Joining data.tables without prespecified keys (i.e. by using data.table::setkey) requires that a key for the join be specified\n",
    "* joining data.tables with prespecified keys does not require that a key be specified when data.table::merge is called\n",
    "* The prefix 'x.' is added to the left table variable names by default\n",
    "* The prefix 'y.' is added to the right table variables names by default"
   ]
  },
  {
   "cell_type": "code",
   "execution_count": 32,
   "metadata": {
    "collapsed": false
   },
   "outputs": [
    {
     "name": "stdout",
     "output_type": "stream",
     "text": [
      "       key  numeric1.x numeric2.x  char1.x  char2.x  numeric1.y numeric2.y\n",
      "   1:    1 0.259996684 0.46904710 GGGGGGGG EEEEEEEE 0.259996684 0.46904710\n",
      "   2:    2 0.732081677 0.98525640 FFFFFFFF AAAAAAAA 0.732081677 0.98525640\n",
      "   3:    3 0.003667001 0.44219657 FFFFFFFF CCCCCCCC 0.003667001 0.44219657\n",
      "   4:    4 0.035518094 0.33271310 EEEEEEEE BBBBBBBB 0.035518094 0.33271310\n",
      "   5:    5 0.634085899 0.39789319 EEEEEEEE FFFFFFFF 0.634085899 0.39789319\n",
      "  ---                                                                     \n",
      " 996:  996 0.149284828 0.06582848 CCCCCCCC GGGGGGGG 0.149284828 0.06582848\n",
      " 997:  997 0.664694987 0.35249160 GGGGGGGG AAAAAAAA 0.664694987 0.35249160\n",
      " 998:  998 0.119148107 0.66886333 DDDDDDDD GGGGGGGG 0.119148107 0.66886333\n",
      " 999:  999 0.299141358 0.78567161 FFFFFFFF FFFFFFFF 0.299141358 0.78567161\n",
      "1000: 1000 0.169459480 0.31053551 EEEEEEEE GGGGGGGG 0.169459480 0.31053551\n",
      "       char1.y  char2.y\n",
      "   1: GGGGGGGG EEEEEEEE\n",
      "   2: FFFFFFFF AAAAAAAA\n",
      "   3: FFFFFFFF CCCCCCCC\n",
      "   4: EEEEEEEE BBBBBBBB\n",
      "   5: EEEEEEEE FFFFFFFF\n",
      "  ---                  \n",
      " 996: CCCCCCCC GGGGGGGG\n",
      " 997: GGGGGGGG AAAAAAAA\n",
      " 998: DDDDDDDD GGGGGGGG\n",
      " 999: FFFFFFFF FFFFFFFF\n",
      "1000: EEEEEEEE GGGGGGGG\n"
     ]
    }
   ],
   "source": [
    "joined1 <- merge(sorted, sorted2, by = c('key'))\n",
    "print(joined1)"
   ]
  },
  {
   "cell_type": "markdown",
   "metadata": {},
   "source": [
    "Add a key to the `scratch_dt2` table"
   ]
  },
  {
   "cell_type": "code",
   "execution_count": 33,
   "metadata": {
    "collapsed": false
   },
   "outputs": [
    {
     "name": "stdout",
     "output_type": "stream",
     "text": [
      "       key    char1 new_numeric\n",
      "   1:    1 GGGGGGGG         0.3\n",
      "   2:    2 FFFFFFFF         0.7\n",
      "   3:    3 FFFFFFFF         0.0\n",
      "   4:    4 EEEEEEEE         0.0\n",
      "   5:    5 EEEEEEEE         0.6\n",
      "  ---                          \n",
      " 996:  996 ZZZZZZZZ         0.1\n",
      " 997:  997 ZZZZZZZZ         0.7\n",
      " 998:  998 ZZZZZZZZ         0.1\n",
      " 999:  999 ZZZZZZZZ         0.3\n",
      "1000: 1000 ZZZZZZZZ         0.2\n"
     ]
    }
   ],
   "source": [
    "scratch_dt2 <- setkey(scratch_dt2[,.(key, char1, new_numeric)], key)\n",
    "print(scratch_dt2)"
   ]
  },
  {
   "cell_type": "markdown",
   "metadata": {},
   "source": [
    "Now `sorted3` and `scratch_dt2` can be joined without specifiying a key"
   ]
  },
  {
   "cell_type": "code",
   "execution_count": 34,
   "metadata": {
    "collapsed": false
   },
   "outputs": [
    {
     "name": "stdout",
     "output_type": "stream",
     "text": [
      "       key    numeric1   numeric2  char1.x    char2 new_numeric.x  char1.y\n",
      "   1:    1 0.259996684 0.46904710 GGGGGGGG EEEEEEEE           0.3 GGGGGGGG\n",
      "   2:    2 0.732081677 0.98525640 FFFFFFFF AAAAAAAA           0.7 FFFFFFFF\n",
      "   3:    3 0.003667001 0.44219657 FFFFFFFF CCCCCCCC           0.0 FFFFFFFF\n",
      "   4:    4 0.035518094 0.33271310 EEEEEEEE BBBBBBBB           0.0 EEEEEEEE\n",
      "   5:    5 0.634085899 0.39789319 EEEEEEEE FFFFFFFF           0.6 EEEEEEEE\n",
      "  ---                                                                     \n",
      " 996:  996 0.149284828 0.06582848 ZZZZZZZZ GGGGGGGG           0.1 ZZZZZZZZ\n",
      " 997:  997 0.664694987 0.35249160 ZZZZZZZZ AAAAAAAA           0.7 ZZZZZZZZ\n",
      " 998:  998 0.119148107 0.66886333 ZZZZZZZZ GGGGGGGG           0.1 ZZZZZZZZ\n",
      " 999:  999 0.299141358 0.78567161 ZZZZZZZZ FFFFFFFF           0.3 ZZZZZZZZ\n",
      "1000: 1000 0.169459480 0.31053551 ZZZZZZZZ GGGGGGGG           0.2 ZZZZZZZZ\n",
      "      new_numeric.y\n",
      "   1:           0.3\n",
      "   2:           0.7\n",
      "   3:           0.0\n",
      "   4:           0.0\n",
      "   5:           0.6\n",
      "  ---              \n",
      " 996:           0.1\n",
      " 997:           0.7\n",
      " 998:           0.1\n",
      " 999:           0.3\n",
      "1000:           0.2\n"
     ]
    }
   ],
   "source": [
    "joined2 <- merge(sorted3, scratch_dt2)\n",
    "print(joined2)"
   ]
  },
  {
   "cell_type": "markdown",
   "metadata": {},
   "source": [
    "***\n",
    "## 9. By group processing\n",
    "* By groups allow you to divide and process a data set based on the values of a certain variable\n",
    "* General form of a `data.table` is `dt[i, j, by]`, where `by` is by group variable name"
   ]
  },
  {
   "cell_type": "code",
   "execution_count": 35,
   "metadata": {
    "collapsed": false
   },
   "outputs": [
    {
     "data": {
      "text/html": [
       "<table>\n",
       "<thead><tr><th scope=col>char1</th><th scope=col>V1</th></tr></thead>\n",
       "<tbody>\n",
       "\t<tr><td>GGGGGGGG</td><td> 41.4   </td></tr>\n",
       "\t<tr><td>FFFFFFFF</td><td> 31.9   </td></tr>\n",
       "\t<tr><td>EEEEEEEE</td><td> 38.0   </td></tr>\n",
       "\t<tr><td>CCCCCCCC</td><td> 41.5   </td></tr>\n",
       "\t<tr><td>BBBBBBBB</td><td> 31.6   </td></tr>\n",
       "\t<tr><td>DDDDDDDD</td><td> 28.8   </td></tr>\n",
       "\t<tr><td>AAAAAAAA</td><td> 41.5   </td></tr>\n",
       "\t<tr><td>ZZZZZZZZ</td><td>247.6   </td></tr>\n",
       "</tbody>\n",
       "</table>\n"
      ],
      "text/latex": [
       "\\begin{tabular}{r|ll}\n",
       " char1 & V1\\\\\n",
       "\\hline\n",
       "\t GGGGGGGG &  41.4   \\\\\n",
       "\t FFFFFFFF &  31.9   \\\\\n",
       "\t EEEEEEEE &  38.0   \\\\\n",
       "\t CCCCCCCC &  41.5   \\\\\n",
       "\t BBBBBBBB &  31.6   \\\\\n",
       "\t DDDDDDDD &  28.8   \\\\\n",
       "\t AAAAAAAA &  41.5   \\\\\n",
       "\t ZZZZZZZZ & 247.6   \\\\\n",
       "\\end{tabular}\n"
      ],
      "text/plain": [
       "  char1    V1   \n",
       "1 GGGGGGGG  41.4\n",
       "2 FFFFFFFF  31.9\n",
       "3 EEEEEEEE  38.0\n",
       "4 CCCCCCCC  41.5\n",
       "5 BBBBBBBB  31.6\n",
       "6 DDDDDDDD  28.8\n",
       "7 AAAAAAAA  41.5\n",
       "8 ZZZZZZZZ 247.6"
      ]
     },
     "metadata": {},
     "output_type": "display_data"
    },
    {
     "data": {
      "text/html": [
       "<table>\n",
       "<thead><tr><th scope=col>char1</th><th scope=col>V1</th></tr></thead>\n",
       "<tbody>\n",
       "\t<tr><td>GGGGGGGG</td><td>41.4    </td></tr>\n",
       "\t<tr><td>FFFFFFFF</td><td>31.9    </td></tr>\n",
       "\t<tr><td>EEEEEEEE</td><td>38.0    </td></tr>\n",
       "\t<tr><td>CCCCCCCC</td><td>41.5    </td></tr>\n",
       "\t<tr><td>BBBBBBBB</td><td>31.6    </td></tr>\n",
       "\t<tr><td>DDDDDDDD</td><td>28.8    </td></tr>\n",
       "\t<tr><td>AAAAAAAA</td><td>41.5    </td></tr>\n",
       "</tbody>\n",
       "</table>\n"
      ],
      "text/latex": [
       "\\begin{tabular}{r|ll}\n",
       " char1 & V1\\\\\n",
       "\\hline\n",
       "\t GGGGGGGG & 41.4    \\\\\n",
       "\t FFFFFFFF & 31.9    \\\\\n",
       "\t EEEEEEEE & 38.0    \\\\\n",
       "\t CCCCCCCC & 41.5    \\\\\n",
       "\t BBBBBBBB & 31.6    \\\\\n",
       "\t DDDDDDDD & 28.8    \\\\\n",
       "\t AAAAAAAA & 41.5    \\\\\n",
       "\\end{tabular}\n"
      ],
      "text/plain": [
       "  char1    V1  \n",
       "1 GGGGGGGG 41.4\n",
       "2 FFFFFFFF 31.9\n",
       "3 EEEEEEEE 38.0\n",
       "4 CCCCCCCC 41.5\n",
       "5 BBBBBBBB 31.6\n",
       "6 DDDDDDDD 28.8\n",
       "7 AAAAAAAA 41.5"
      ]
     },
     "metadata": {},
     "output_type": "display_data"
    }
   ],
   "source": [
    "scratch_dt2[, sum(new_numeric), by = char1]\n",
    "scratch_dt2[1:500, sum(new_numeric), by = char1]"
   ]
  },
  {
   "cell_type": "markdown",
   "metadata": {},
   "source": [
    "#### `.N` returns the number of rows in each by group"
   ]
  },
  {
   "cell_type": "code",
   "execution_count": 36,
   "metadata": {
    "collapsed": false
   },
   "outputs": [
    {
     "data": {
      "text/html": [
       "<table>\n",
       "<thead><tr><th scope=col>char1</th><th scope=col>N</th></tr></thead>\n",
       "<tbody>\n",
       "\t<tr><td>GGGGGGGG</td><td> 83     </td></tr>\n",
       "\t<tr><td>FFFFFFFF</td><td> 66     </td></tr>\n",
       "\t<tr><td>EEEEEEEE</td><td> 77     </td></tr>\n",
       "\t<tr><td>CCCCCCCC</td><td> 85     </td></tr>\n",
       "\t<tr><td>BBBBBBBB</td><td> 59     </td></tr>\n",
       "\t<tr><td>DDDDDDDD</td><td> 57     </td></tr>\n",
       "\t<tr><td>AAAAAAAA</td><td> 73     </td></tr>\n",
       "\t<tr><td>ZZZZZZZZ</td><td>500     </td></tr>\n",
       "</tbody>\n",
       "</table>\n"
      ],
      "text/latex": [
       "\\begin{tabular}{r|ll}\n",
       " char1 & N\\\\\n",
       "\\hline\n",
       "\t GGGGGGGG &  83     \\\\\n",
       "\t FFFFFFFF &  66     \\\\\n",
       "\t EEEEEEEE &  77     \\\\\n",
       "\t CCCCCCCC &  85     \\\\\n",
       "\t BBBBBBBB &  59     \\\\\n",
       "\t DDDDDDDD &  57     \\\\\n",
       "\t AAAAAAAA &  73     \\\\\n",
       "\t ZZZZZZZZ & 500     \\\\\n",
       "\\end{tabular}\n"
      ],
      "text/plain": [
       "  char1    N  \n",
       "1 GGGGGGGG  83\n",
       "2 FFFFFFFF  66\n",
       "3 EEEEEEEE  77\n",
       "4 CCCCCCCC  85\n",
       "5 BBBBBBBB  59\n",
       "6 DDDDDDDD  57\n",
       "7 AAAAAAAA  73\n",
       "8 ZZZZZZZZ 500"
      ]
     },
     "metadata": {},
     "output_type": "display_data"
    }
   ],
   "source": [
    "scratch_dt2[, .N, by = char1] "
   ]
  },
  {
   "cell_type": "markdown",
   "metadata": {},
   "source": [
    "#### by groups can also be a list of variables"
   ]
  },
  {
   "cell_type": "code",
   "execution_count": 37,
   "metadata": {
    "collapsed": false
   },
   "outputs": [
    {
     "data": {
      "text/html": [
       "<table>\n",
       "<thead><tr><th scope=col>char1</th><th scope=col>char2</th><th scope=col>V1</th></tr></thead>\n",
       "<tbody>\n",
       "\t<tr><td>AAAAAAAA </td><td>AAAAAAAA </td><td>0.4700000</td></tr>\n",
       "\t<tr><td>AAAAAAAA </td><td>BBBBBBBB </td><td>0.5166667</td></tr>\n",
       "\t<tr><td>AAAAAAAA </td><td>CCCCCCCC </td><td>0.5666667</td></tr>\n",
       "\t<tr><td>AAAAAAAA </td><td>DDDDDDDD </td><td>0.5928571</td></tr>\n",
       "\t<tr><td>AAAAAAAA </td><td>EEEEEEEE </td><td>0.7250000</td></tr>\n",
       "\t<tr><td>AAAAAAAA </td><td>FFFFFFFF </td><td>0.5727273</td></tr>\n",
       "\t<tr><td>AAAAAAAA </td><td>GGGGGGGG </td><td>0.5923077</td></tr>\n",
       "\t<tr><td>BBBBBBBB </td><td>AAAAAAAA </td><td>0.5833333</td></tr>\n",
       "\t<tr><td>BBBBBBBB </td><td>BBBBBBBB </td><td>0.6900000</td></tr>\n",
       "\t<tr><td>BBBBBBBB </td><td>CCCCCCCC </td><td>0.4727273</td></tr>\n",
       "\t<tr><td>BBBBBBBB </td><td>DDDDDDDD </td><td>0.2777778</td></tr>\n",
       "\t<tr><td>BBBBBBBB </td><td>EEEEEEEE </td><td>0.5200000</td></tr>\n",
       "\t<tr><td>BBBBBBBB </td><td>FFFFFFFF </td><td>0.5250000</td></tr>\n",
       "\t<tr><td>BBBBBBBB </td><td>GGGGGGGG </td><td>0.6888889</td></tr>\n",
       "\t<tr><td>CCCCCCCC </td><td>AAAAAAAA </td><td>0.4250000</td></tr>\n",
       "\t<tr><td>CCCCCCCC </td><td>BBBBBBBB </td><td>0.5125000</td></tr>\n",
       "\t<tr><td>CCCCCCCC </td><td>CCCCCCCC </td><td>0.4538462</td></tr>\n",
       "\t<tr><td>CCCCCCCC </td><td>DDDDDDDD </td><td>0.4937500</td></tr>\n",
       "\t<tr><td>CCCCCCCC </td><td>EEEEEEEE </td><td>0.5611111</td></tr>\n",
       "\t<tr><td>CCCCCCCC </td><td>FFFFFFFF </td><td>0.4363636</td></tr>\n",
       "\t<tr><td>CCCCCCCC </td><td>GGGGGGGG </td><td>0.5142857</td></tr>\n",
       "\t<tr><td>DDDDDDDD </td><td>AAAAAAAA </td><td>0.5750000</td></tr>\n",
       "\t<tr><td>DDDDDDDD </td><td>BBBBBBBB </td><td>0.5500000</td></tr>\n",
       "\t<tr><td>DDDDDDDD </td><td>CCCCCCCC </td><td>0.4750000</td></tr>\n",
       "\t<tr><td>DDDDDDDD </td><td>DDDDDDDD </td><td>0.5000000</td></tr>\n",
       "\t<tr><td>DDDDDDDD </td><td>EEEEEEEE </td><td>0.3800000</td></tr>\n",
       "\t<tr><td>DDDDDDDD </td><td>FFFFFFFF </td><td>0.6777778</td></tr>\n",
       "\t<tr><td>DDDDDDDD </td><td>GGGGGGGG </td><td>0.4285714</td></tr>\n",
       "\t<tr><td>EEEEEEEE </td><td>AAAAAAAA </td><td>0.3428571</td></tr>\n",
       "\t<tr><td>EEEEEEEE </td><td>BBBBBBBB </td><td>0.3200000</td></tr>\n",
       "\t<tr><td>EEEEEEEE </td><td>CCCCCCCC </td><td>0.4875000</td></tr>\n",
       "\t<tr><td>EEEEEEEE </td><td>DDDDDDDD </td><td>0.5111111</td></tr>\n",
       "\t<tr><td>EEEEEEEE </td><td>EEEEEEEE </td><td>0.5272727</td></tr>\n",
       "\t<tr><td>EEEEEEEE </td><td>FFFFFFFF </td><td>0.5400000</td></tr>\n",
       "\t<tr><td>EEEEEEEE </td><td>GGGGGGGG </td><td>0.6083333</td></tr>\n",
       "\t<tr><td>FFFFFFFF </td><td>AAAAAAAA </td><td>0.4500000</td></tr>\n",
       "\t<tr><td>FFFFFFFF </td><td>BBBBBBBB </td><td>0.6000000</td></tr>\n",
       "\t<tr><td>FFFFFFFF </td><td>CCCCCCCC </td><td>0.4875000</td></tr>\n",
       "\t<tr><td>FFFFFFFF </td><td>DDDDDDDD </td><td>0.3692308</td></tr>\n",
       "\t<tr><td>FFFFFFFF </td><td>EEEEEEEE </td><td>0.6666667</td></tr>\n",
       "\t<tr><td>FFFFFFFF </td><td>FFFFFFFF </td><td>0.4250000</td></tr>\n",
       "\t<tr><td>FFFFFFFF </td><td>GGGGGGGG </td><td>0.4800000</td></tr>\n",
       "\t<tr><td>GGGGGGGG </td><td>AAAAAAAA </td><td>0.6153846</td></tr>\n",
       "\t<tr><td>GGGGGGGG </td><td>BBBBBBBB </td><td>0.4692308</td></tr>\n",
       "\t<tr><td>GGGGGGGG </td><td>CCCCCCCC </td><td>0.6166667</td></tr>\n",
       "\t<tr><td>GGGGGGGG </td><td>DDDDDDDD </td><td>0.5250000</td></tr>\n",
       "\t<tr><td>GGGGGGGG </td><td>EEEEEEEE </td><td>0.4083333</td></tr>\n",
       "\t<tr><td>GGGGGGGG </td><td>FFFFFFFF </td><td>0.4363636</td></tr>\n",
       "\t<tr><td>GGGGGGGG </td><td>GGGGGGGG </td><td>0.3900000</td></tr>\n",
       "\t<tr><td>ZZZZZZZZ </td><td>AAAAAAAA </td><td>0.4945205</td></tr>\n",
       "\t<tr><td>ZZZZZZZZ </td><td>BBBBBBBB </td><td>0.5267606</td></tr>\n",
       "\t<tr><td>ZZZZZZZZ </td><td>CCCCCCCC </td><td>0.4842105</td></tr>\n",
       "\t<tr><td>ZZZZZZZZ </td><td>DDDDDDDD </td><td>0.4615385</td></tr>\n",
       "\t<tr><td>ZZZZZZZZ </td><td>EEEEEEEE </td><td>0.5500000</td></tr>\n",
       "\t<tr><td>ZZZZZZZZ </td><td>FFFFFFFF </td><td>0.5640000</td></tr>\n",
       "\t<tr><td>ZZZZZZZZ </td><td>GGGGGGGG </td><td>0.3596491</td></tr>\n",
       "</tbody>\n",
       "</table>\n"
      ],
      "text/latex": [
       "\\begin{tabular}{r|lll}\n",
       " char1 & char2 & V1\\\\\n",
       "\\hline\n",
       "\t AAAAAAAA  & AAAAAAAA  & 0.4700000\\\\\n",
       "\t AAAAAAAA  & BBBBBBBB  & 0.5166667\\\\\n",
       "\t AAAAAAAA  & CCCCCCCC  & 0.5666667\\\\\n",
       "\t AAAAAAAA  & DDDDDDDD  & 0.5928571\\\\\n",
       "\t AAAAAAAA  & EEEEEEEE  & 0.7250000\\\\\n",
       "\t AAAAAAAA  & FFFFFFFF  & 0.5727273\\\\\n",
       "\t AAAAAAAA  & GGGGGGGG  & 0.5923077\\\\\n",
       "\t BBBBBBBB  & AAAAAAAA  & 0.5833333\\\\\n",
       "\t BBBBBBBB  & BBBBBBBB  & 0.6900000\\\\\n",
       "\t BBBBBBBB  & CCCCCCCC  & 0.4727273\\\\\n",
       "\t BBBBBBBB  & DDDDDDDD  & 0.2777778\\\\\n",
       "\t BBBBBBBB  & EEEEEEEE  & 0.5200000\\\\\n",
       "\t BBBBBBBB  & FFFFFFFF  & 0.5250000\\\\\n",
       "\t BBBBBBBB  & GGGGGGGG  & 0.6888889\\\\\n",
       "\t CCCCCCCC  & AAAAAAAA  & 0.4250000\\\\\n",
       "\t CCCCCCCC  & BBBBBBBB  & 0.5125000\\\\\n",
       "\t CCCCCCCC  & CCCCCCCC  & 0.4538462\\\\\n",
       "\t CCCCCCCC  & DDDDDDDD  & 0.4937500\\\\\n",
       "\t CCCCCCCC  & EEEEEEEE  & 0.5611111\\\\\n",
       "\t CCCCCCCC  & FFFFFFFF  & 0.4363636\\\\\n",
       "\t CCCCCCCC  & GGGGGGGG  & 0.5142857\\\\\n",
       "\t DDDDDDDD  & AAAAAAAA  & 0.5750000\\\\\n",
       "\t DDDDDDDD  & BBBBBBBB  & 0.5500000\\\\\n",
       "\t DDDDDDDD  & CCCCCCCC  & 0.4750000\\\\\n",
       "\t DDDDDDDD  & DDDDDDDD  & 0.5000000\\\\\n",
       "\t DDDDDDDD  & EEEEEEEE  & 0.3800000\\\\\n",
       "\t DDDDDDDD  & FFFFFFFF  & 0.6777778\\\\\n",
       "\t DDDDDDDD  & GGGGGGGG  & 0.4285714\\\\\n",
       "\t EEEEEEEE  & AAAAAAAA  & 0.3428571\\\\\n",
       "\t EEEEEEEE  & BBBBBBBB  & 0.3200000\\\\\n",
       "\t EEEEEEEE  & CCCCCCCC  & 0.4875000\\\\\n",
       "\t EEEEEEEE  & DDDDDDDD  & 0.5111111\\\\\n",
       "\t EEEEEEEE  & EEEEEEEE  & 0.5272727\\\\\n",
       "\t EEEEEEEE  & FFFFFFFF  & 0.5400000\\\\\n",
       "\t EEEEEEEE  & GGGGGGGG  & 0.6083333\\\\\n",
       "\t FFFFFFFF  & AAAAAAAA  & 0.4500000\\\\\n",
       "\t FFFFFFFF  & BBBBBBBB  & 0.6000000\\\\\n",
       "\t FFFFFFFF  & CCCCCCCC  & 0.4875000\\\\\n",
       "\t FFFFFFFF  & DDDDDDDD  & 0.3692308\\\\\n",
       "\t FFFFFFFF  & EEEEEEEE  & 0.6666667\\\\\n",
       "\t FFFFFFFF  & FFFFFFFF  & 0.4250000\\\\\n",
       "\t FFFFFFFF  & GGGGGGGG  & 0.4800000\\\\\n",
       "\t GGGGGGGG  & AAAAAAAA  & 0.6153846\\\\\n",
       "\t GGGGGGGG  & BBBBBBBB  & 0.4692308\\\\\n",
       "\t GGGGGGGG  & CCCCCCCC  & 0.6166667\\\\\n",
       "\t GGGGGGGG  & DDDDDDDD  & 0.5250000\\\\\n",
       "\t GGGGGGGG  & EEEEEEEE  & 0.4083333\\\\\n",
       "\t GGGGGGGG  & FFFFFFFF  & 0.4363636\\\\\n",
       "\t GGGGGGGG  & GGGGGGGG  & 0.3900000\\\\\n",
       "\t ZZZZZZZZ  & AAAAAAAA  & 0.4945205\\\\\n",
       "\t ZZZZZZZZ  & BBBBBBBB  & 0.5267606\\\\\n",
       "\t ZZZZZZZZ  & CCCCCCCC  & 0.4842105\\\\\n",
       "\t ZZZZZZZZ  & DDDDDDDD  & 0.4615385\\\\\n",
       "\t ZZZZZZZZ  & EEEEEEEE  & 0.5500000\\\\\n",
       "\t ZZZZZZZZ  & FFFFFFFF  & 0.5640000\\\\\n",
       "\t ZZZZZZZZ  & GGGGGGGG  & 0.3596491\\\\\n",
       "\\end{tabular}\n"
      ],
      "text/plain": [
       "   char1    char2    V1       \n",
       "1  AAAAAAAA AAAAAAAA 0.4700000\n",
       "2  AAAAAAAA BBBBBBBB 0.5166667\n",
       "3  AAAAAAAA CCCCCCCC 0.5666667\n",
       "4  AAAAAAAA DDDDDDDD 0.5928571\n",
       "5  AAAAAAAA EEEEEEEE 0.7250000\n",
       "6  AAAAAAAA FFFFFFFF 0.5727273\n",
       "7  AAAAAAAA GGGGGGGG 0.5923077\n",
       "8  BBBBBBBB AAAAAAAA 0.5833333\n",
       "9  BBBBBBBB BBBBBBBB 0.6900000\n",
       "10 BBBBBBBB CCCCCCCC 0.4727273\n",
       "11 BBBBBBBB DDDDDDDD 0.2777778\n",
       "12 BBBBBBBB EEEEEEEE 0.5200000\n",
       "13 BBBBBBBB FFFFFFFF 0.5250000\n",
       "14 BBBBBBBB GGGGGGGG 0.6888889\n",
       "15 CCCCCCCC AAAAAAAA 0.4250000\n",
       "16 CCCCCCCC BBBBBBBB 0.5125000\n",
       "17 CCCCCCCC CCCCCCCC 0.4538462\n",
       "18 CCCCCCCC DDDDDDDD 0.4937500\n",
       "19 CCCCCCCC EEEEEEEE 0.5611111\n",
       "20 CCCCCCCC FFFFFFFF 0.4363636\n",
       "21 CCCCCCCC GGGGGGGG 0.5142857\n",
       "22 DDDDDDDD AAAAAAAA 0.5750000\n",
       "23 DDDDDDDD BBBBBBBB 0.5500000\n",
       "24 DDDDDDDD CCCCCCCC 0.4750000\n",
       "25 DDDDDDDD DDDDDDDD 0.5000000\n",
       "26 DDDDDDDD EEEEEEEE 0.3800000\n",
       "27 DDDDDDDD FFFFFFFF 0.6777778\n",
       "28 DDDDDDDD GGGGGGGG 0.4285714\n",
       "29 EEEEEEEE AAAAAAAA 0.3428571\n",
       "30 EEEEEEEE BBBBBBBB 0.3200000\n",
       "31 EEEEEEEE CCCCCCCC 0.4875000\n",
       "32 EEEEEEEE DDDDDDDD 0.5111111\n",
       "33 EEEEEEEE EEEEEEEE 0.5272727\n",
       "34 EEEEEEEE FFFFFFFF 0.5400000\n",
       "35 EEEEEEEE GGGGGGGG 0.6083333\n",
       "36 FFFFFFFF AAAAAAAA 0.4500000\n",
       "37 FFFFFFFF BBBBBBBB 0.6000000\n",
       "38 FFFFFFFF CCCCCCCC 0.4875000\n",
       "39 FFFFFFFF DDDDDDDD 0.3692308\n",
       "40 FFFFFFFF EEEEEEEE 0.6666667\n",
       "41 FFFFFFFF FFFFFFFF 0.4250000\n",
       "42 FFFFFFFF GGGGGGGG 0.4800000\n",
       "43 GGGGGGGG AAAAAAAA 0.6153846\n",
       "44 GGGGGGGG BBBBBBBB 0.4692308\n",
       "45 GGGGGGGG CCCCCCCC 0.6166667\n",
       "46 GGGGGGGG DDDDDDDD 0.5250000\n",
       "47 GGGGGGGG EEEEEEEE 0.4083333\n",
       "48 GGGGGGGG FFFFFFFF 0.4363636\n",
       "49 GGGGGGGG GGGGGGGG 0.3900000\n",
       "50 ZZZZZZZZ AAAAAAAA 0.4945205\n",
       "51 ZZZZZZZZ BBBBBBBB 0.5267606\n",
       "52 ZZZZZZZZ CCCCCCCC 0.4842105\n",
       "53 ZZZZZZZZ DDDDDDDD 0.4615385\n",
       "54 ZZZZZZZZ EEEEEEEE 0.5500000\n",
       "55 ZZZZZZZZ FFFFFFFF 0.5640000\n",
       "56 ZZZZZZZZ GGGGGGGG 0.3596491"
      ]
     },
     "metadata": {},
     "output_type": "display_data"
    }
   ],
   "source": [
    "two_by_vars <- scratch_dt[, mean(new_numeric), by = .(char1, char2)]\n",
    "two_by_vars[order(char1, char2)]"
   ]
  },
  {
   "cell_type": "markdown",
   "metadata": {},
   "source": [
    "#### `.SD` represents all the variables except the by variable(s)"
   ]
  },
  {
   "cell_type": "code",
   "execution_count": 38,
   "metadata": {
    "collapsed": false
   },
   "outputs": [
    {
     "data": {
      "text/html": [
       "<table>\n",
       "<thead><tr><th scope=col>char1</th><th scope=col>key</th><th scope=col>new_numeric</th></tr></thead>\n",
       "<tbody>\n",
       "\t<tr><td>GGGGGGGG</td><td> 21394  </td><td> 41.4   </td></tr>\n",
       "\t<tr><td>FFFFFFFF</td><td> 15475  </td><td> 31.9   </td></tr>\n",
       "\t<tr><td>EEEEEEEE</td><td> 18120  </td><td> 38.0   </td></tr>\n",
       "\t<tr><td>CCCCCCCC</td><td> 21529  </td><td> 41.5   </td></tr>\n",
       "\t<tr><td>BBBBBBBB</td><td> 13509  </td><td> 31.6   </td></tr>\n",
       "\t<tr><td>DDDDDDDD</td><td> 15001  </td><td> 28.8   </td></tr>\n",
       "\t<tr><td>AAAAAAAA</td><td> 20222  </td><td> 41.5   </td></tr>\n",
       "\t<tr><td>ZZZZZZZZ</td><td>375250  </td><td>247.6   </td></tr>\n",
       "</tbody>\n",
       "</table>\n"
      ],
      "text/latex": [
       "\\begin{tabular}{r|lll}\n",
       " char1 & key & new\\_numeric\\\\\n",
       "\\hline\n",
       "\t GGGGGGGG &  21394   &  41.4   \\\\\n",
       "\t FFFFFFFF &  15475   &  31.9   \\\\\n",
       "\t EEEEEEEE &  18120   &  38.0   \\\\\n",
       "\t CCCCCCCC &  21529   &  41.5   \\\\\n",
       "\t BBBBBBBB &  13509   &  31.6   \\\\\n",
       "\t DDDDDDDD &  15001   &  28.8   \\\\\n",
       "\t AAAAAAAA &  20222   &  41.5   \\\\\n",
       "\t ZZZZZZZZ & 375250   & 247.6   \\\\\n",
       "\\end{tabular}\n"
      ],
      "text/plain": [
       "  char1    key    new_numeric\n",
       "1 GGGGGGGG  21394  41.4      \n",
       "2 FFFFFFFF  15475  31.9      \n",
       "3 EEEEEEEE  18120  38.0      \n",
       "4 CCCCCCCC  21529  41.5      \n",
       "5 BBBBBBBB  13509  31.6      \n",
       "6 DDDDDDDD  15001  28.8      \n",
       "7 AAAAAAAA  20222  41.5      \n",
       "8 ZZZZZZZZ 375250 247.6      "
      ]
     },
     "metadata": {},
     "output_type": "display_data"
    }
   ],
   "source": [
    "scratch_dt2[, lapply(.SD, base::sum), by = char1]"
   ]
  },
  {
   "cell_type": "markdown",
   "metadata": {},
   "source": [
    "#### `.N` can be used to find the first and last rows of each by group"
   ]
  },
  {
   "cell_type": "code",
   "execution_count": 39,
   "metadata": {
    "collapsed": false
   },
   "outputs": [
    {
     "data": {
      "text/html": [
       "<table>\n",
       "<thead><tr><th scope=col>char1</th><th scope=col>key</th><th scope=col>new_numeric</th></tr></thead>\n",
       "<tbody>\n",
       "\t<tr><td>GGGGGGGG</td><td>   1    </td><td>0.3     </td></tr>\n",
       "\t<tr><td>GGGGGGGG</td><td> 500    </td><td>0.6     </td></tr>\n",
       "\t<tr><td>FFFFFFFF</td><td>   2    </td><td>0.7     </td></tr>\n",
       "\t<tr><td>FFFFFFFF</td><td> 485    </td><td>0.5     </td></tr>\n",
       "\t<tr><td>EEEEEEEE</td><td>   4    </td><td>0.0     </td></tr>\n",
       "\t<tr><td>EEEEEEEE</td><td> 490    </td><td>0.1     </td></tr>\n",
       "\t<tr><td>CCCCCCCC</td><td>   8    </td><td>0.1     </td></tr>\n",
       "\t<tr><td>CCCCCCCC</td><td> 498    </td><td>0.6     </td></tr>\n",
       "\t<tr><td>BBBBBBBB</td><td>  12    </td><td>0.1     </td></tr>\n",
       "\t<tr><td>BBBBBBBB</td><td> 496    </td><td>0.3     </td></tr>\n",
       "\t<tr><td>DDDDDDDD</td><td>  18    </td><td>0.8     </td></tr>\n",
       "\t<tr><td>DDDDDDDD</td><td> 470    </td><td>0.6     </td></tr>\n",
       "\t<tr><td>AAAAAAAA</td><td>  35    </td><td>0.7     </td></tr>\n",
       "\t<tr><td>AAAAAAAA</td><td> 499    </td><td>0.9     </td></tr>\n",
       "\t<tr><td>ZZZZZZZZ</td><td> 501    </td><td>0.5     </td></tr>\n",
       "\t<tr><td>ZZZZZZZZ</td><td>1000    </td><td>0.2     </td></tr>\n",
       "</tbody>\n",
       "</table>\n"
      ],
      "text/latex": [
       "\\begin{tabular}{r|lll}\n",
       " char1 & key & new\\_numeric\\\\\n",
       "\\hline\n",
       "\t GGGGGGGG &    1     & 0.3     \\\\\n",
       "\t GGGGGGGG &  500     & 0.6     \\\\\n",
       "\t FFFFFFFF &    2     & 0.7     \\\\\n",
       "\t FFFFFFFF &  485     & 0.5     \\\\\n",
       "\t EEEEEEEE &    4     & 0.0     \\\\\n",
       "\t EEEEEEEE &  490     & 0.1     \\\\\n",
       "\t CCCCCCCC &    8     & 0.1     \\\\\n",
       "\t CCCCCCCC &  498     & 0.6     \\\\\n",
       "\t BBBBBBBB &   12     & 0.1     \\\\\n",
       "\t BBBBBBBB &  496     & 0.3     \\\\\n",
       "\t DDDDDDDD &   18     & 0.8     \\\\\n",
       "\t DDDDDDDD &  470     & 0.6     \\\\\n",
       "\t AAAAAAAA &   35     & 0.7     \\\\\n",
       "\t AAAAAAAA &  499     & 0.9     \\\\\n",
       "\t ZZZZZZZZ &  501     & 0.5     \\\\\n",
       "\t ZZZZZZZZ & 1000     & 0.2     \\\\\n",
       "\\end{tabular}\n"
      ],
      "text/plain": [
       "   char1    key  new_numeric\n",
       "1  GGGGGGGG    1 0.3        \n",
       "2  GGGGGGGG  500 0.6        \n",
       "3  FFFFFFFF    2 0.7        \n",
       "4  FFFFFFFF  485 0.5        \n",
       "5  EEEEEEEE    4 0.0        \n",
       "6  EEEEEEEE  490 0.1        \n",
       "7  CCCCCCCC    8 0.1        \n",
       "8  CCCCCCCC  498 0.6        \n",
       "9  BBBBBBBB   12 0.1        \n",
       "10 BBBBBBBB  496 0.3        \n",
       "11 DDDDDDDD   18 0.8        \n",
       "12 DDDDDDDD  470 0.6        \n",
       "13 AAAAAAAA   35 0.7        \n",
       "14 AAAAAAAA  499 0.9        \n",
       "15 ZZZZZZZZ  501 0.5        \n",
       "16 ZZZZZZZZ 1000 0.2        "
      ]
     },
     "metadata": {},
     "output_type": "display_data"
    }
   ],
   "source": [
    "scratch_dt2[, .SD[c(1, .N)], by = char1]"
   ]
  },
  {
   "cell_type": "markdown",
   "metadata": {},
   "source": [
    "***\n",
    "## 10. Operation chaining\n",
    "Operations can be chained for more concise syntax"
   ]
  },
  {
   "cell_type": "code",
   "execution_count": 40,
   "metadata": {
    "collapsed": false
   },
   "outputs": [
    {
     "data": {
      "text/html": [
       "<table>\n",
       "<thead><tr><th scope=col>char1</th><th scope=col>new_numeric2</th></tr></thead>\n",
       "<tbody>\n",
       "\t<tr><td>GGGGGGGG</td><td> 41.4   </td></tr>\n",
       "\t<tr><td>CCCCCCCC</td><td> 41.5   </td></tr>\n",
       "\t<tr><td>AAAAAAAA</td><td> 41.5   </td></tr>\n",
       "\t<tr><td>ZZZZZZZZ</td><td>247.6   </td></tr>\n",
       "</tbody>\n",
       "</table>\n"
      ],
      "text/latex": [
       "\\begin{tabular}{r|ll}\n",
       " char1 & new\\_numeric2\\\\\n",
       "\\hline\n",
       "\t GGGGGGGG &  41.4   \\\\\n",
       "\t CCCCCCCC &  41.5   \\\\\n",
       "\t AAAAAAAA &  41.5   \\\\\n",
       "\t ZZZZZZZZ & 247.6   \\\\\n",
       "\\end{tabular}\n"
      ],
      "text/plain": [
       "  char1    new_numeric2\n",
       "1 GGGGGGGG  41.4       \n",
       "2 CCCCCCCC  41.5       \n",
       "3 AAAAAAAA  41.5       \n",
       "4 ZZZZZZZZ 247.6       "
      ]
     },
     "metadata": {},
     "output_type": "display_data"
    }
   ],
   "source": [
    "# chaining - one line of code\n",
    "scratch_dt2[, .(new_numeric2 = sum(new_numeric)), by = char1][new_numeric2 > 40]"
   ]
  },
  {
   "cell_type": "code",
   "execution_count": 41,
   "metadata": {
    "collapsed": false
   },
   "outputs": [
    {
     "data": {
      "text/html": [
       "<table>\n",
       "<thead><tr><th scope=col>char1</th><th scope=col>new_numeric2</th></tr></thead>\n",
       "<tbody>\n",
       "\t<tr><td>GGGGGGGG</td><td> 41.4   </td></tr>\n",
       "\t<tr><td>CCCCCCCC</td><td> 41.5   </td></tr>\n",
       "\t<tr><td>AAAAAAAA</td><td> 41.5   </td></tr>\n",
       "\t<tr><td>ZZZZZZZZ</td><td>247.6   </td></tr>\n",
       "</tbody>\n",
       "</table>\n"
      ],
      "text/latex": [
       "\\begin{tabular}{r|ll}\n",
       " char1 & new\\_numeric2\\\\\n",
       "\\hline\n",
       "\t GGGGGGGG &  41.4   \\\\\n",
       "\t CCCCCCCC &  41.5   \\\\\n",
       "\t AAAAAAAA &  41.5   \\\\\n",
       "\t ZZZZZZZZ & 247.6   \\\\\n",
       "\\end{tabular}\n"
      ],
      "text/plain": [
       "  char1    new_numeric2\n",
       "1 GGGGGGGG  41.4       \n",
       "2 CCCCCCCC  41.5       \n",
       "3 AAAAAAAA  41.5       \n",
       "4 ZZZZZZZZ 247.6       "
      ]
     },
     "metadata": {},
     "output_type": "display_data"
    }
   ],
   "source": [
    "# no chaining - two lines of code\n",
    "scratch_dt3 <- scratch_dt2[, .(new_numeric2 = sum(new_numeric)), by = char1]\n",
    "scratch_dt3[new_numeric2 > 40]"
   ]
  },
  {
   "cell_type": "markdown",
   "metadata": {},
   "source": [
    "***\n",
    "## 11. Transposing a table\n",
    "* Transposing a matrix simply switches row and columns values\n",
    "* Transposing a data.frame or data.table is more complex because of metadata associated with variable names and row indices"
   ]
  },
  {
   "cell_type": "code",
   "execution_count": 42,
   "metadata": {
    "collapsed": false
   },
   "outputs": [
    {
     "name": "stdout",
     "output_type": "stream",
     "text": [
      " chr [1:6, 1:1000] \"   1\" \"0.2599966838\" \"0.469047098\" \"GGGGGGGG\" ...\n",
      " - attr(*, \"dimnames\")=List of 2\n",
      "  ..$ : chr [1:6] \"key\" \"numeric1\" \"numeric2\" \"char1\" ...\n",
      "  ..$ : NULL\n"
     ]
    }
   ],
   "source": [
    "transposed = t(scratch_dt)\n",
    "str(transposed)"
   ]
  },
  {
   "cell_type": "markdown",
   "metadata": {},
   "source": [
    "Often, instead of simply transposing, a data set will need to be reformatted in a **melt/stack** - **column split** - **cast** action described in Hadley Wickham's *Tidy Data*:\n",
    "https://www.jstatsoft.org/article/view/v059i10\n",
    "\n",
    "See also dcast.data.table and melt.data.table"
   ]
  },
  {
   "cell_type": "markdown",
   "metadata": {},
   "source": [
    "***\n",
    "## 12. Exporting and importing a table"
   ]
  },
  {
   "cell_type": "markdown",
   "metadata": {},
   "source": [
    "`data.table::fread` and `data.table::fwrite` allow for optimized file i/o\n",
    "* `fwrite` only availabe in data.table version > 1.9.7\n",
    "* available from http://Rdatatable.github.io/data.table"
   ]
  },
  {
   "cell_type": "code",
   "execution_count": 42,
   "metadata": {
    "collapsed": true
   },
   "outputs": [],
   "source": [
    "# use fwrite to write a file \n",
    "fwrite(scratch_dt, 'scratch.csv')"
   ]
  },
  {
   "cell_type": "code",
   "execution_count": 43,
   "metadata": {
    "collapsed": false
   },
   "outputs": [
    {
     "name": "stdout",
     "output_type": "stream",
     "text": [
      "       key   numeric1    numeric2    char1    char2 new_numeric\n",
      "   1:    1 0.51494785 0.767991723 FFFFFFFF FFFFFFFF         0.5\n",
      "   2:    2 0.36132422 0.868816448 FFFFFFFF DDDDDDDD         0.4\n",
      "   3:    3 0.71456376 0.160537094 GGGGGGGG AAAAAAAA         0.7\n",
      "   4:    4 0.64633263 0.550704608 BBBBBBBB CCCCCCCC         0.6\n",
      "   5:    5 0.11546163 0.044725391 AAAAAAAA CCCCCCCC         0.1\n",
      "  ---                                                          \n",
      " 996:  996 0.49468994 0.908724921 ZZZZZZZZ EEEEEEEE         0.5\n",
      " 997:  997 0.07238554 0.560199407 ZZZZZZZZ GGGGGGGG         0.1\n",
      " 998:  998 0.03046075 0.008601266 ZZZZZZZZ GGGGGGGG         0.0\n",
      " 999:  999 0.12894029 0.381171830 ZZZZZZZZ BBBBBBBB         0.1\n",
      "1000: 1000 0.93970260 0.632544576 ZZZZZZZZ FFFFFFFF         0.9\n"
     ]
    }
   ],
   "source": [
    "# use fread to read a file\n",
    "scratch_dt <- fread('scratch.csv')\n",
    "print(scratch_dt)"
   ]
  }
 ],
 "metadata": {
  "anaconda-cloud": {},
  "kernelspec": {
   "display_name": "R",
   "language": "R",
   "name": "ir"
  },
  "language_info": {
   "codemirror_mode": "r",
   "file_extension": ".r",
   "mimetype": "text/x-r-source",
   "name": "R",
   "pygments_lexer": "r",
   "version": "3.3.2"
  }
 },
 "nbformat": 4,
 "nbformat_minor": 1
}
