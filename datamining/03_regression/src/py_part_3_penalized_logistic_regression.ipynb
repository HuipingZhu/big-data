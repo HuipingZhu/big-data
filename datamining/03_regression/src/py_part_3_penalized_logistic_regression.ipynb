{
 "cells": [
  {
   "cell_type": "markdown",
   "metadata": {},
   "source": [
    "# License \n",
    "***\n",
    "Copyright (C) 2017 J. Patrick Hall, jphall@gwu.edu\n",
    "\n",
    "Permission is hereby granted, free of charge, to any person obtaining a copy of this software and associated documentation files (the \"Software\"), to deal in the Software without restriction, including without limitation the rights to use, copy, modify, merge, publish, distribute, sublicense, and/or sell copies of the Software, and to permit persons to whom the Software is furnished to do so, subject to the following conditions:\n",
    "\n",
    "The above copyright notice and this permission notice shall be included in all copies or substantial portions of the Software.\n",
    "\n",
    "THE SOFTWARE IS PROVIDED \"AS IS\", WITHOUT WARRANTY OF ANY KIND, EXPRESS OR IMPLIED, INCLUDING BUT NOT LIMITED TO THE WARRANTIES OF MERCHANTABILITY, FITNESS FOR A PARTICULAR PURPOSE AND NONINFRINGEMENT. IN NO EVENT SHALL THE AUTHORS OR COPYRIGHT HOLDERS BE LIABLE FOR ANY CLAIM, DAMAGES OR OTHER LIABILITY, WHETHER IN AN ACTION OF CONTRACT, TORT OR OTHERWISE, ARISING FROM, OUT OF OR IN CONNECTION WITH THE SOFTWARE OR THE USE OR OTHER DEALINGS IN THE SOFTWARE."
   ]
  },
  {
   "cell_type": "code",
   "execution_count": 1,
   "metadata": {
    "collapsed": true
   },
   "outputs": [],
   "source": [
    "import h2o\n",
    "from h2o.estimators.glm import H2OGeneralizedLinearEstimator"
   ]
  },
  {
   "cell_type": "code",
   "execution_count": 2,
   "metadata": {
    "collapsed": false
   },
   "outputs": [
    {
     "name": "stdout",
     "output_type": "stream",
     "text": [
      "Checking whether there is an H2O instance running at http://localhost:54321..... not found.\n",
      "Attempting to start a local H2O server...\n",
      "  Java Version: java version \"1.8.0_112\"; Java(TM) SE Runtime Environment (build 1.8.0_112-b16); Java HotSpot(TM) 64-Bit Server VM (build 25.112-b16, mixed mode)\n",
      "  Starting server from /Users/phall/anaconda/lib/python3.5/site-packages/h2o/backend/bin/h2o.jar\n",
      "  Ice root: /var/folders/tc/0ss1l73113j3wdyjsxmy1j2r0000gn/T/tmpqzjvh3lj\n",
      "  JVM stdout: /var/folders/tc/0ss1l73113j3wdyjsxmy1j2r0000gn/T/tmpqzjvh3lj/h2o_phall_started_from_python.out\n",
      "  JVM stderr: /var/folders/tc/0ss1l73113j3wdyjsxmy1j2r0000gn/T/tmpqzjvh3lj/h2o_phall_started_from_python.err\n",
      "  Server is running at http://127.0.0.1:54321\n",
      "Connecting to H2O server at http://127.0.0.1:54321... successful.\n"
     ]
    },
    {
     "data": {
      "text/html": [
       "<div style=\"overflow:auto\"><table style=\"width:50%\"><tr><td>H2O cluster uptime:</td>\n",
       "<td>02 secs</td></tr>\n",
       "<tr><td>H2O cluster version:</td>\n",
       "<td>3.11.0.3873</td></tr>\n",
       "<tr><td>H2O cluster version age:</td>\n",
       "<td>11 days </td></tr>\n",
       "<tr><td>H2O cluster name:</td>\n",
       "<td>H2O_from_python_phall_ju4dpx</td></tr>\n",
       "<tr><td>H2O cluster total nodes:</td>\n",
       "<td>1</td></tr>\n",
       "<tr><td>H2O cluster free memory:</td>\n",
       "<td>3.556 Gb</td></tr>\n",
       "<tr><td>H2O cluster total cores:</td>\n",
       "<td>8</td></tr>\n",
       "<tr><td>H2O cluster allowed cores:</td>\n",
       "<td>8</td></tr>\n",
       "<tr><td>H2O cluster status:</td>\n",
       "<td>accepting new members, healthy</td></tr>\n",
       "<tr><td>H2O connection url:</td>\n",
       "<td>http://127.0.0.1:54321</td></tr>\n",
       "<tr><td>H2O connection proxy:</td>\n",
       "<td>None</td></tr>\n",
       "<tr><td>H2O internal security:</td>\n",
       "<td>False</td></tr>\n",
       "<tr><td>Python version:</td>\n",
       "<td>3.5.2 final</td></tr></table></div>"
      ],
      "text/plain": [
       "--------------------------  ------------------------------\n",
       "H2O cluster uptime:         02 secs\n",
       "H2O cluster version:        3.11.0.3873\n",
       "H2O cluster version age:    11 days\n",
       "H2O cluster name:           H2O_from_python_phall_ju4dpx\n",
       "H2O cluster total nodes:    1\n",
       "H2O cluster free memory:    3.556 Gb\n",
       "H2O cluster total cores:    8\n",
       "H2O cluster allowed cores:  8\n",
       "H2O cluster status:         accepting new members, healthy\n",
       "H2O connection url:         http://127.0.0.1:54321\n",
       "H2O connection proxy:\n",
       "H2O internal security:      False\n",
       "Python version:             3.5.2 final\n",
       "--------------------------  ------------------------------"
      ]
     },
     "metadata": {},
     "output_type": "display_data"
    }
   ],
   "source": [
    "h2o.init()"
   ]
  },
  {
   "cell_type": "code",
   "execution_count": 3,
   "metadata": {
    "collapsed": true
   },
   "outputs": [],
   "source": [
    "# location of clean file\n",
    "path = '/Users/phall/workspace/GWU_data_mining/03_regression/data/loan_clean.csv'"
   ]
  },
  {
   "cell_type": "code",
   "execution_count": 4,
   "metadata": {
    "collapsed": true
   },
   "outputs": [],
   "source": [
    "# define input variable measurement levels \n",
    "# strings automatically parsed as enums (nominal)\n",
    "# numbers automatically parsed as numeric\n",
    "col_types = {'bad_loan': 'enum'}"
   ]
  },
  {
   "cell_type": "code",
   "execution_count": 5,
   "metadata": {
    "collapsed": false
   },
   "outputs": [
    {
     "name": "stdout",
     "output_type": "stream",
     "text": [
      "Parse progress: |█████████████████████████████████████████████████████████| 100%\n"
     ]
    }
   ],
   "source": [
    "frame = h2o.import_file(path=path, col_types=col_types) # multi-threaded import"
   ]
  },
  {
   "cell_type": "code",
   "execution_count": 6,
   "metadata": {
    "collapsed": false
   },
   "outputs": [
    {
     "name": "stdout",
     "output_type": "stream",
     "text": [
      "Rows:163987\n",
      "Cols:18\n",
      "\n",
      "\n"
     ]
    },
    {
     "data": {
      "text/html": [
       "<table>\n",
       "<thead>\n",
       "<tr><th>       </th><th>id               </th><th>bad_loan  </th><th>GRP_REP_home_ownership  </th><th>GRP_addr_state    </th><th>GRP_home_ownership  </th><th>GRP_purpose       </th><th>GRP_verification_status  </th><th>_WARN_  </th><th>STD_IMP_REP_annual_inc  </th><th>STD_IMP_REP_delinq_2yrs  </th><th>STD_IMP_REP_dti      </th><th>STD_IMP_REP_emp_length  </th><th>STD_IMP_REP_int_rate  </th><th>STD_IMP_REP_loan_amnt  </th><th>STD_IMP_REP_longest_credit_lengt  </th><th>STD_IMP_REP_revol_util  </th><th>STD_IMP_REP_term_length  </th><th>STD_IMP_REP_total_acc  </th></tr>\n",
       "</thead>\n",
       "<tbody>\n",
       "<tr><td>type   </td><td>int              </td><td>enum      </td><td>int                     </td><td>int               </td><td>int                 </td><td>int               </td><td>int                      </td><td>int     </td><td>real                    </td><td>real                     </td><td>real                 </td><td>real                    </td><td>real                  </td><td>real                   </td><td>real                              </td><td>real                    </td><td>real                     </td><td>real                   </td></tr>\n",
       "<tr><td>mins   </td><td>10001.0          </td><td>          </td><td>1.0                     </td><td>1.0               </td><td>1.0                 </td><td>1.0               </td><td>1.0                      </td><td>NaN     </td><td>-1.767455639            </td><td>-0.39219617              </td><td>-2.119639396         </td><td>-1.6213902740000001     </td><td>-1.907046215          </td><td>-1.587129405           </td><td>-2.22445124                       </td><td>-2.164541326            </td><td>-0.516495577             </td><td>-2.058861889           </td></tr>\n",
       "<tr><td>mean   </td><td>91994.0          </td><td>          </td><td>2.5740028172964924      </td><td>11.409337325519703</td><td>2.5740028172964924  </td><td>3.2449401476946345</td><td>2.340356247751345        </td><td>0.0     </td><td>2.38744452882879e-11    </td><td>2.2959296297769782e-12   </td><td>6.807013811211564e-11</td><td>-3.566867876239133e-11  </td><td>-8.948753565861857e-12</td><td>8.311927579716105e-11  </td><td>5.0612534090153816e-11            </td><td>-1.4734128080190765e-11 </td><td>-1.5009542966560638e-10  </td><td>8.060924856225354e-13  </td></tr>\n",
       "<tr><td>maxs   </td><td>173987.0         </td><td>          </td><td>5.0                     </td><td>37.0              </td><td>5.0                 </td><td>14.0              </td><td>3.0                      </td><td>NaN     </td><td>4.6180619798            </td><td>4.1566950661             </td><td>3.0371487270000004   </td><td>1.2288169612            </td><td>2.8376799992          </td><td>2.7671323946           </td><td>3.1431598296                      </td><td>3.0363495275            </td><td>1.9718787627             </td><td>3.0684672884           </td></tr>\n",
       "<tr><td>sigma  </td><td>47339.11363414683</td><td>          </td><td>0.6675260435449262      </td><td>9.971926133461404 </td><td>0.6675260435449262  </td><td>2.2672892075259754</td><td>0.5040864341768772       </td><td>-0.0    </td><td>0.9999999999982868      </td><td>0.9999999999212518       </td><td>1.0000000000037712   </td><td>1.0000000000339833      </td><td>1.0000000000199503    </td><td>0.999999999985285      </td><td>0.9999999999850594                </td><td>1.000000000017688       </td><td>1.0000000000642086       </td><td>1.0000000000331841     </td></tr>\n",
       "<tr><td>zeros  </td><td>0                </td><td>          </td><td>0                       </td><td>0                 </td><td>0                   </td><td>0                 </td><td>0                        </td><td>0       </td><td>0                       </td><td>0                        </td><td>0                    </td><td>0                       </td><td>0                     </td><td>0                      </td><td>0                                 </td><td>0                       </td><td>0                        </td><td>0                      </td></tr>\n",
       "<tr><td>missing</td><td>0                </td><td>0         </td><td>0                       </td><td>0                 </td><td>0                   </td><td>0                 </td><td>0                        </td><td>163987  </td><td>0                       </td><td>0                        </td><td>0                    </td><td>0                       </td><td>0                     </td><td>0                      </td><td>0                                 </td><td>0                       </td><td>0                        </td><td>0                      </td></tr>\n",
       "<tr><td>0      </td><td>10001.0          </td><td>0         </td><td>3.0                     </td><td>14.0              </td><td>3.0                 </td><td>3.0               </td><td>2.0                      </td><td>nan     </td><td>-1.1992995020000001     </td><td>-0.39219617              </td><td>1.5712460425         </td><td>1.2288169612            </td><td>-0.7047730510000001   </td><td>-1.019182214           </td><td>1.6839024850000002                </td><td>1.1858716502            </td><td>-0.516495577             </td><td>-1.359278248           </td></tr>\n",
       "<tr><td>1      </td><td>10002.0          </td><td>1         </td><td>3.0                     </td><td>10.0              </td><td>3.0                 </td><td>8.0               </td><td>2.0                      </td><td>nan     </td><td>-1.04507688             </td><td>-0.39219617              </td><td>-1.9861534850000002  </td><td>-1.6213902740000001     </td><td>0.3572732234          </td><td>-1.3347084310000001    </td><td>-0.42059567400000003              </td><td>-1.7882703350000002     </td><td>1.9718787627             </td><td>-1.7965180230000002    </td></tr>\n",
       "<tr><td>2      </td><td>10003.0          </td><td>0         </td><td>3.0                     </td><td>7.0               </td><td>3.0                 </td><td>7.0               </td><td>3.0                      </td><td>nan     </td><td>-1.501267394            </td><td>-0.39219617              </td><td>-0.9556422520000001  </td><td>1.2288169612            </td><td>0.5158905241          </td><td>-1.34732948            </td><td>-0.7212382690000001               </td><td>1.7782983174            </td><td>-0.516495577             </td><td>-1.271830292           </td></tr>\n",
       "<tr><td>3      </td><td>10004.0          </td><td>0         </td><td>3.0                     </td><td>2.0               </td><td>3.0                 </td><td>4.0               </td><td>2.0                      </td><td>nan     </td><td>-0.303921333            </td><td>-0.39219617              </td><td>0.5500788236         </td><td>1.2288169612            </td><td>-0.051913437          </td><td>-0.388129779           </td><td>0.0303682169                      </td><td>0.0325652593            </td><td>-0.516495577             </td><td>1.089264497            </td></tr>\n",
       "<tr><td>4      </td><td>10005.0          </td><td>0         </td><td>3.0                     </td><td>14.0              </td><td>3.0                 </td><td>10.0              </td><td>2.0                      </td><td>nan     </td><td>-0.890854259            </td><td>-0.39219617              </td><td>-0.624597193         </td><td>-0.7663281030000001     </td><td>-1.3369434530000002   </td><td>-1.019182214           </td><td>-0.8220262690000001               </td><td>-1.0317254690000002     </td><td>-0.516495577             </td><td>-1.0969343820000002    </td></tr>\n",
       "<tr><td>5      </td><td>10006.0          </td><td>0         </td><td>3.0                     </td><td>2.0               </td><td>3.0                 </td><td>8.0               </td><td>2.0                      </td><td>nan     </td><td>-0.5824090160000001     </td><td>-0.39219617              </td><td>-1.4054897720000001  </td><td>0.9437962377            </td><td>1.1319693155000001    </td><td>-1.271603188           </td><td>-1.623166051                      </td><td>1.3379811999            </td><td>-0.516495577             </td><td>-1.7965180230000002    </td></tr>\n",
       "<tr><td>6      </td><td>10007.0          </td><td>1         </td><td>4.0                     </td><td>2.0               </td><td>4.0                 </td><td>7.0               </td><td>2.0                      </td><td>nan     </td><td>-0.788039178            </td><td>-0.39219617              </td><td>-1.37879259          </td><td>-0.48130738             </td><td>1.7388529011          </td><td>-0.9434559220000001    </td><td>-1.17220216                       </td><td>-0.8596015050000001     </td><td>1.9718787627             </td><td>-1.0094864270000001    </td></tr>\n",
       "<tr><td>7      </td><td>10008.0          </td><td>1         </td><td>3.0                     </td><td>4.0               </td><td>3.0                 </td><td>4.0               </td><td>2.0                      </td><td>nan     </td><td>-1.430633434            </td><td>-0.39219617              </td><td>0.2937858745         </td><td>-1.6213902740000001     </td><td>-0.235817553          </td><td>-0.971853281           </td><td>-1.17220216                       </td><td>-0.703489072            </td><td>1.9718787627             </td><td>-1.883965979           </td></tr>\n",
       "<tr><td>8      </td><td>10009.0          </td><td>0         </td><td>4.0                     </td><td>14.0              </td><td>4.0                 </td><td>2.0               </td><td>3.0                      </td><td>nan     </td><td>0.0344814697            </td><td>-0.39219617              </td><td>0.032153489          </td><td>-0.196286656            </td><td>0.2147475328          </td><td>-0.8298664840000001    </td><td>-0.270274377                      </td><td>-1.339947451            </td><td>1.9718787627             </td><td>-0.135006875           </td></tr>\n",
       "<tr><td>9      </td><td>10010.0          </td><td>0         </td><td>4.0                     </td><td>2.0               </td><td>4.0                 </td><td>2.0               </td><td>2.0                      </td><td>nan     </td><td>0.1115927805            </td><td>-0.39219617              </td><td>-0.680661276         </td><td>1.2288169612            </td><td>-0.235817553          </td><td>-0.13570880500000002   </td><td>1.0826172966                      </td><td>0.5213930910000001      </td><td>-0.516495577             </td><td>0.8269206315000001     </td></tr>\n",
       "</tbody>\n",
       "</table>"
      ]
     },
     "metadata": {},
     "output_type": "display_data"
    }
   ],
   "source": [
    "frame.describe()"
   ]
  },
  {
   "cell_type": "code",
   "execution_count": 7,
   "metadata": {
    "collapsed": false
   },
   "outputs": [],
   "source": [
    "# split into training, validation and test\n",
    "train, test = frame.split_frame([0.7])"
   ]
  },
  {
   "cell_type": "code",
   "execution_count": 8,
   "metadata": {
    "collapsed": true
   },
   "outputs": [],
   "source": [
    "# assign target and inputs for linear regression\n",
    "y = 'bad_loan'\n",
    "X = [name for name in frame.columns if name not in ['id', '_WARN_', y]]"
   ]
  },
  {
   "cell_type": "code",
   "execution_count": 9,
   "metadata": {
    "collapsed": false
   },
   "outputs": [
    {
     "name": "stdout",
     "output_type": "stream",
     "text": [
      "bad_loan\n",
      "['GRP_REP_home_ownership', 'GRP_addr_state', 'GRP_home_ownership', 'GRP_purpose', 'GRP_verification_status', 'STD_IMP_REP_annual_inc', 'STD_IMP_REP_delinq_2yrs', 'STD_IMP_REP_dti', 'STD_IMP_REP_emp_length', 'STD_IMP_REP_int_rate', 'STD_IMP_REP_loan_amnt', 'STD_IMP_REP_longest_credit_lengt', 'STD_IMP_REP_revol_util', 'STD_IMP_REP_term_length', 'STD_IMP_REP_total_acc']\n"
     ]
    }
   ],
   "source": [
    "print(y)\n",
    "print(X)"
   ]
  },
  {
   "cell_type": "code",
   "execution_count": 10,
   "metadata": {
    "collapsed": true
   },
   "outputs": [],
   "source": [
    "# set target to factor - for logisitic regression\n",
    "train[y] = train[y].asfactor()\n",
    "test[y] = test[y].asfactor()"
   ]
  },
  {
   "cell_type": "code",
   "execution_count": 11,
   "metadata": {
    "collapsed": false
   },
   "outputs": [
    {
     "name": "stdout",
     "output_type": "stream",
     "text": [
      "glm Model Build progress: |███████████████████████████████████████████████| 100%\n"
     ]
    }
   ],
   "source": [
    "# elastic net regularized regression\n",
    "#   - binomial family for logistic regression\n",
    "#   - L1 for variable selection\n",
    "#   - L2 for handling multicollinearity\n",
    "#   - IRLS for handling outliers\n",
    "#   - with lamba parameter tuning for variable selection\n",
    "\n",
    "# initialize\n",
    "loan_glm = H2OGeneralizedLinearEstimator(family='binomial',\n",
    "                                         model_id='loan_glm2',\n",
    "                                         solver='IRLSM',\n",
    "                                         standardize=True,\n",
    "                                         lambda_search=True)\n",
    "\n",
    "# train \n",
    "loan_glm.train(X, y, training_frame=train)\n",
    "\n",
    "# view detailed results at http://host:ip/flow/index.html"
   ]
  },
  {
   "cell_type": "code",
   "execution_count": 12,
   "metadata": {
    "collapsed": false
   },
   "outputs": [
    {
     "name": "stdout",
     "output_type": "stream",
     "text": [
      "0.6810696481515511\n",
      "0.6736120208845109\n"
     ]
    }
   ],
   "source": [
    "# measure train and test AUC\n",
    "print(loan_glm.auc(train=True))\n",
    "print(loan_glm.model_performance(test_data=test).auc())"
   ]
  },
  {
   "cell_type": "code",
   "execution_count": 13,
   "metadata": {
    "collapsed": false
   },
   "outputs": [
    {
     "name": "stdout",
     "output_type": "stream",
     "text": [
      "GRP_REP_home_ownership :  0.020513214688462438\n",
      "Intercept :  -1.7030791806036532\n",
      "STD_IMP_REP_int_rate :  0.42135857374495084\n",
      "GRP_verification_status :  -0.003938827536051814\n",
      "STD_IMP_REP_term_length :  0.12487952945144505\n",
      "STD_IMP_REP_dti :  0.14938938856970724\n",
      "STD_IMP_REP_annual_inc :  -0.22640948089354618\n",
      "STD_IMP_REP_delinq_2yrs :  0.007632494816369783\n",
      "GRP_addr_state :  -0.0014574882705564829\n",
      "GRP_purpose :  0.024782009588586243\n",
      "STD_IMP_REP_revol_util :  0.07328727513849898\n",
      "STD_IMP_REP_total_acc :  -0.10700058307918586\n",
      "STD_IMP_REP_loan_amnt :  0.08314512862872152\n",
      "STD_IMP_REP_longest_credit_lengt :  0.005262595727552371\n",
      "GRP_home_ownership :  0.020513214688462626\n"
     ]
    }
   ],
   "source": [
    "# print non-zero model parameters\n",
    "for name, val in loan_glm.coef().items():\n",
    "    if val != 0.0:\n",
    "        print(name, ': ', val)"
   ]
  },
  {
   "cell_type": "code",
   "execution_count": 14,
   "metadata": {
    "collapsed": false
   },
   "outputs": [
    {
     "name": "stdout",
     "output_type": "stream",
     "text": [
      "H2O session _sid_96dd closed.\n"
     ]
    }
   ],
   "source": [
    "h2o.cluster().shutdown(prompt=False)"
   ]
  }
 ],
 "metadata": {
  "anaconda-cloud": {},
  "kernelspec": {
   "display_name": "Python [conda root]",
   "language": "python",
   "name": "conda-root-py"
  },
  "language_info": {
   "codemirror_mode": {
    "name": "ipython",
    "version": 3
   },
   "file_extension": ".py",
   "mimetype": "text/x-python",
   "name": "python",
   "nbconvert_exporter": "python",
   "pygments_lexer": "ipython3",
   "version": "3.5.2"
  }
 },
 "nbformat": 4,
 "nbformat_minor": 2
}
