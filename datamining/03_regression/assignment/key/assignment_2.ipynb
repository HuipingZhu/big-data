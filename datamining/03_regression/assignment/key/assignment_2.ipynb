{
 "cells": [
  {
   "cell_type": "markdown",
   "metadata": {},
   "source": [
    "# Assignment 2 Key"
   ]
  },
  {
   "cell_type": "code",
   "execution_count": 1,
   "metadata": {
    "collapsed": true
   },
   "outputs": [],
   "source": [
    "import pandas as pd"
   ]
  },
  {
   "cell_type": "code",
   "execution_count": 2,
   "metadata": {
    "collapsed": true
   },
   "outputs": [],
   "source": [
    "import numpy as np"
   ]
  },
  {
   "cell_type": "markdown",
   "metadata": {},
   "source": [
    "#### First let's load the dataset into dataframe df"
   ]
  },
  {
   "cell_type": "code",
   "execution_count": 3,
   "metadata": {
    "collapsed": false
   },
   "outputs": [
    {
     "name": "stderr",
     "output_type": "stream",
     "text": [
      "/Users/mindabangong/anaconda3/lib/python3.6/site-packages/IPython/core/interactiveshell.py:2698: DtypeWarning: Columns (20) have mixed types. Specify dtype option on import or set low_memory=False.\n",
      "  interactivity=interactivity, compiler=compiler, result=result)\n"
     ]
    }
   ],
   "source": [
    "df = pd.read_csv(\"train_set.csv\")"
   ]
  },
  {
   "cell_type": "markdown",
   "metadata": {},
   "source": [
    "#### Take a look at the dataset first and see how many variables it has."
   ]
  },
  {
   "cell_type": "code",
   "execution_count": 4,
   "metadata": {
    "collapsed": false
   },
   "outputs": [
    {
     "data": {
      "text/html": [
       "<div>\n",
       "<style>\n",
       "    .dataframe thead tr:only-child th {\n",
       "        text-align: right;\n",
       "    }\n",
       "\n",
       "    .dataframe thead th {\n",
       "        text-align: left;\n",
       "    }\n",
       "\n",
       "    .dataframe tbody tr th {\n",
       "        vertical-align: top;\n",
       "    }\n",
       "</style>\n",
       "<table border=\"1\" class=\"dataframe\">\n",
       "  <thead>\n",
       "    <tr style=\"text-align: right;\">\n",
       "      <th></th>\n",
       "      <th>Row_ID</th>\n",
       "      <th>Household_ID</th>\n",
       "      <th>Vehicle</th>\n",
       "      <th>Calendar_Year</th>\n",
       "      <th>Model_Year</th>\n",
       "      <th>Blind_Make</th>\n",
       "      <th>Blind_Model</th>\n",
       "      <th>Blind_Submodel</th>\n",
       "      <th>Cat1</th>\n",
       "      <th>Cat2</th>\n",
       "      <th>...</th>\n",
       "      <th>Var5</th>\n",
       "      <th>Var6</th>\n",
       "      <th>Var7</th>\n",
       "      <th>Var8</th>\n",
       "      <th>NVCat</th>\n",
       "      <th>NVVar1</th>\n",
       "      <th>NVVar2</th>\n",
       "      <th>NVVar3</th>\n",
       "      <th>NVVar4</th>\n",
       "      <th>Claim_Amount</th>\n",
       "    </tr>\n",
       "  </thead>\n",
       "  <tbody>\n",
       "    <tr>\n",
       "      <th>0</th>\n",
       "      <td>1</td>\n",
       "      <td>1</td>\n",
       "      <td>3</td>\n",
       "      <td>2005</td>\n",
       "      <td>2005</td>\n",
       "      <td>K</td>\n",
       "      <td>K.78</td>\n",
       "      <td>K.78.2</td>\n",
       "      <td>D</td>\n",
       "      <td>C</td>\n",
       "      <td>...</td>\n",
       "      <td>1.008912</td>\n",
       "      <td>0.261040</td>\n",
       "      <td>0.907793</td>\n",
       "      <td>-0.077998</td>\n",
       "      <td>M</td>\n",
       "      <td>-0.23153</td>\n",
       "      <td>-0.266117</td>\n",
       "      <td>-0.272337</td>\n",
       "      <td>-0.251419</td>\n",
       "      <td>0.0</td>\n",
       "    </tr>\n",
       "    <tr>\n",
       "      <th>1</th>\n",
       "      <td>2</td>\n",
       "      <td>2</td>\n",
       "      <td>2</td>\n",
       "      <td>2005</td>\n",
       "      <td>2003</td>\n",
       "      <td>Q</td>\n",
       "      <td>Q.22</td>\n",
       "      <td>Q.22.3</td>\n",
       "      <td>B</td>\n",
       "      <td>C</td>\n",
       "      <td>...</td>\n",
       "      <td>1.240851</td>\n",
       "      <td>0.432987</td>\n",
       "      <td>-0.726459</td>\n",
       "      <td>0.204785</td>\n",
       "      <td>O</td>\n",
       "      <td>-0.23153</td>\n",
       "      <td>-0.266117</td>\n",
       "      <td>-0.272337</td>\n",
       "      <td>-0.251419</td>\n",
       "      <td>0.0</td>\n",
       "    </tr>\n",
       "    <tr>\n",
       "      <th>2</th>\n",
       "      <td>3</td>\n",
       "      <td>3</td>\n",
       "      <td>1</td>\n",
       "      <td>2005</td>\n",
       "      <td>1998</td>\n",
       "      <td>AR</td>\n",
       "      <td>AR.41</td>\n",
       "      <td>AR.41.1</td>\n",
       "      <td>B</td>\n",
       "      <td>?</td>\n",
       "      <td>...</td>\n",
       "      <td>-0.971487</td>\n",
       "      <td>-1.405797</td>\n",
       "      <td>-0.837048</td>\n",
       "      <td>-1.176858</td>\n",
       "      <td>F</td>\n",
       "      <td>-0.23153</td>\n",
       "      <td>-0.266117</td>\n",
       "      <td>-0.272337</td>\n",
       "      <td>-0.251419</td>\n",
       "      <td>0.0</td>\n",
       "    </tr>\n",
       "    <tr>\n",
       "      <th>3</th>\n",
       "      <td>4</td>\n",
       "      <td>3</td>\n",
       "      <td>1</td>\n",
       "      <td>2006</td>\n",
       "      <td>1998</td>\n",
       "      <td>AR</td>\n",
       "      <td>AR.41</td>\n",
       "      <td>AR.41.1</td>\n",
       "      <td>B</td>\n",
       "      <td>?</td>\n",
       "      <td>...</td>\n",
       "      <td>-0.971487</td>\n",
       "      <td>-1.405797</td>\n",
       "      <td>-0.837048</td>\n",
       "      <td>-1.176858</td>\n",
       "      <td>F</td>\n",
       "      <td>-0.23153</td>\n",
       "      <td>-0.266117</td>\n",
       "      <td>-0.272337</td>\n",
       "      <td>-0.251419</td>\n",
       "      <td>0.0</td>\n",
       "    </tr>\n",
       "    <tr>\n",
       "      <th>4</th>\n",
       "      <td>5</td>\n",
       "      <td>3</td>\n",
       "      <td>2</td>\n",
       "      <td>2005</td>\n",
       "      <td>2001</td>\n",
       "      <td>D</td>\n",
       "      <td>D.20</td>\n",
       "      <td>D.20.0</td>\n",
       "      <td>J</td>\n",
       "      <td>C</td>\n",
       "      <td>...</td>\n",
       "      <td>0.812656</td>\n",
       "      <td>2.112691</td>\n",
       "      <td>1.534462</td>\n",
       "      <td>2.347260</td>\n",
       "      <td>F</td>\n",
       "      <td>-0.23153</td>\n",
       "      <td>-0.266117</td>\n",
       "      <td>-0.272337</td>\n",
       "      <td>-0.251419</td>\n",
       "      <td>0.0</td>\n",
       "    </tr>\n",
       "  </tbody>\n",
       "</table>\n",
       "<p>5 rows × 35 columns</p>\n",
       "</div>"
      ],
      "text/plain": [
       "   Row_ID  Household_ID  Vehicle  Calendar_Year  Model_Year Blind_Make  \\\n",
       "0       1             1        3           2005        2005          K   \n",
       "1       2             2        2           2005        2003          Q   \n",
       "2       3             3        1           2005        1998         AR   \n",
       "3       4             3        1           2006        1998         AR   \n",
       "4       5             3        2           2005        2001          D   \n",
       "\n",
       "  Blind_Model Blind_Submodel Cat1 Cat2     ...           Var5      Var6  \\\n",
       "0        K.78         K.78.2    D    C     ...       1.008912  0.261040   \n",
       "1        Q.22         Q.22.3    B    C     ...       1.240851  0.432987   \n",
       "2       AR.41        AR.41.1    B    ?     ...      -0.971487 -1.405797   \n",
       "3       AR.41        AR.41.1    B    ?     ...      -0.971487 -1.405797   \n",
       "4        D.20         D.20.0    J    C     ...       0.812656  2.112691   \n",
       "\n",
       "       Var7      Var8 NVCat   NVVar1    NVVar2    NVVar3    NVVar4  \\\n",
       "0  0.907793 -0.077998     M -0.23153 -0.266117 -0.272337 -0.251419   \n",
       "1 -0.726459  0.204785     O -0.23153 -0.266117 -0.272337 -0.251419   \n",
       "2 -0.837048 -1.176858     F -0.23153 -0.266117 -0.272337 -0.251419   \n",
       "3 -0.837048 -1.176858     F -0.23153 -0.266117 -0.272337 -0.251419   \n",
       "4  1.534462  2.347260     F -0.23153 -0.266117 -0.272337 -0.251419   \n",
       "\n",
       "  Claim_Amount  \n",
       "0          0.0  \n",
       "1          0.0  \n",
       "2          0.0  \n",
       "3          0.0  \n",
       "4          0.0  \n",
       "\n",
       "[5 rows x 35 columns]"
      ]
     },
     "execution_count": 4,
     "metadata": {},
     "output_type": "execute_result"
    }
   ],
   "source": [
    "df.head(5)"
   ]
  },
  {
   "cell_type": "markdown",
   "metadata": {},
   "source": [
    "###    1. (1 pt.) Convert the numeric claim_amount target to a new binary variable that will be used as a target for logistic regression. Any claim_amount > 0 should be considered a claim event."
   ]
  },
  {
   "cell_type": "markdown",
   "metadata": {},
   "source": [
    "#### We converted the numeric claim_amount target to a new binary variable Claim_Event"
   ]
  },
  {
   "cell_type": "code",
   "execution_count": 5,
   "metadata": {
    "collapsed": true
   },
   "outputs": [],
   "source": [
    "df['Claim_Event'] = np.where(df['Claim_Amount']>0.0, 1, 0)"
   ]
  },
  {
   "cell_type": "markdown",
   "metadata": {},
   "source": [
    "#### Here we checked if we successfully converted the variable to a new binary variable."
   ]
  },
  {
   "cell_type": "code",
   "execution_count": 6,
   "metadata": {
    "collapsed": false
   },
   "outputs": [
    {
     "data": {
      "text/html": [
       "<div>\n",
       "<style>\n",
       "    .dataframe thead tr:only-child th {\n",
       "        text-align: right;\n",
       "    }\n",
       "\n",
       "    .dataframe thead th {\n",
       "        text-align: left;\n",
       "    }\n",
       "\n",
       "    .dataframe tbody tr th {\n",
       "        vertical-align: top;\n",
       "    }\n",
       "</style>\n",
       "<table border=\"1\" class=\"dataframe\">\n",
       "  <thead>\n",
       "    <tr style=\"text-align: right;\">\n",
       "      <th></th>\n",
       "      <th>Row_ID</th>\n",
       "      <th>Household_ID</th>\n",
       "      <th>Vehicle</th>\n",
       "      <th>Calendar_Year</th>\n",
       "      <th>Model_Year</th>\n",
       "      <th>Blind_Make</th>\n",
       "      <th>Blind_Model</th>\n",
       "      <th>Blind_Submodel</th>\n",
       "      <th>Cat1</th>\n",
       "      <th>Cat2</th>\n",
       "      <th>...</th>\n",
       "      <th>Var6</th>\n",
       "      <th>Var7</th>\n",
       "      <th>Var8</th>\n",
       "      <th>NVCat</th>\n",
       "      <th>NVVar1</th>\n",
       "      <th>NVVar2</th>\n",
       "      <th>NVVar3</th>\n",
       "      <th>NVVar4</th>\n",
       "      <th>Claim_Amount</th>\n",
       "      <th>Claim_Event</th>\n",
       "    </tr>\n",
       "  </thead>\n",
       "  <tbody>\n",
       "    <tr>\n",
       "      <th>47</th>\n",
       "      <td>48</td>\n",
       "      <td>16</td>\n",
       "      <td>3</td>\n",
       "      <td>2006</td>\n",
       "      <td>2005</td>\n",
       "      <td>X</td>\n",
       "      <td>X.38</td>\n",
       "      <td>X.38.0</td>\n",
       "      <td>C</td>\n",
       "      <td>C</td>\n",
       "      <td>...</td>\n",
       "      <td>-0.275857</td>\n",
       "      <td>-1.021362</td>\n",
       "      <td>-0.188486</td>\n",
       "      <td>N</td>\n",
       "      <td>-0.23153</td>\n",
       "      <td>2.783616</td>\n",
       "      <td>-0.272337</td>\n",
       "      <td>-0.251419</td>\n",
       "      <td>24.205590</td>\n",
       "      <td>1</td>\n",
       "    </tr>\n",
       "    <tr>\n",
       "      <th>101</th>\n",
       "      <td>102</td>\n",
       "      <td>39</td>\n",
       "      <td>1</td>\n",
       "      <td>2006</td>\n",
       "      <td>2001</td>\n",
       "      <td>BH</td>\n",
       "      <td>BH.18</td>\n",
       "      <td>BH.18.5</td>\n",
       "      <td>B</td>\n",
       "      <td>C</td>\n",
       "      <td>...</td>\n",
       "      <td>-0.650165</td>\n",
       "      <td>-0.861623</td>\n",
       "      <td>-0.527934</td>\n",
       "      <td>B</td>\n",
       "      <td>-0.23153</td>\n",
       "      <td>2.783616</td>\n",
       "      <td>2.715490</td>\n",
       "      <td>-0.251419</td>\n",
       "      <td>2.624877</td>\n",
       "      <td>1</td>\n",
       "    </tr>\n",
       "    <tr>\n",
       "      <th>154</th>\n",
       "      <td>155</td>\n",
       "      <td>76</td>\n",
       "      <td>5</td>\n",
       "      <td>2005</td>\n",
       "      <td>2001</td>\n",
       "      <td>AJ</td>\n",
       "      <td>AJ.48</td>\n",
       "      <td>AJ.48.1</td>\n",
       "      <td>D</td>\n",
       "      <td>C</td>\n",
       "      <td>...</td>\n",
       "      <td>1.162886</td>\n",
       "      <td>1.374723</td>\n",
       "      <td>0.452562</td>\n",
       "      <td>H</td>\n",
       "      <td>-0.23153</td>\n",
       "      <td>1.563723</td>\n",
       "      <td>-0.272337</td>\n",
       "      <td>2.404670</td>\n",
       "      <td>7.036577</td>\n",
       "      <td>1</td>\n",
       "    </tr>\n",
       "    <tr>\n",
       "      <th>211</th>\n",
       "      <td>212</td>\n",
       "      <td>103</td>\n",
       "      <td>1</td>\n",
       "      <td>2005</td>\n",
       "      <td>1995</td>\n",
       "      <td>AR</td>\n",
       "      <td>AR.41</td>\n",
       "      <td>AR.41.1</td>\n",
       "      <td>B</td>\n",
       "      <td>?</td>\n",
       "      <td>...</td>\n",
       "      <td>-1.405797</td>\n",
       "      <td>-0.837048</td>\n",
       "      <td>-1.193267</td>\n",
       "      <td>H</td>\n",
       "      <td>-0.23153</td>\n",
       "      <td>-0.266117</td>\n",
       "      <td>5.105752</td>\n",
       "      <td>-0.251419</td>\n",
       "      <td>8.432544</td>\n",
       "      <td>1</td>\n",
       "    </tr>\n",
       "    <tr>\n",
       "      <th>351</th>\n",
       "      <td>352</td>\n",
       "      <td>179</td>\n",
       "      <td>1</td>\n",
       "      <td>2005</td>\n",
       "      <td>1995</td>\n",
       "      <td>AJ</td>\n",
       "      <td>AJ.76</td>\n",
       "      <td>AJ.76.2</td>\n",
       "      <td>D</td>\n",
       "      <td>?</td>\n",
       "      <td>...</td>\n",
       "      <td>1.360567</td>\n",
       "      <td>1.423873</td>\n",
       "      <td>-0.479145</td>\n",
       "      <td>M</td>\n",
       "      <td>-0.23153</td>\n",
       "      <td>-0.266117</td>\n",
       "      <td>-0.272337</td>\n",
       "      <td>-0.251419</td>\n",
       "      <td>89.927240</td>\n",
       "      <td>1</td>\n",
       "    </tr>\n",
       "  </tbody>\n",
       "</table>\n",
       "<p>5 rows × 36 columns</p>\n",
       "</div>"
      ],
      "text/plain": [
       "     Row_ID  Household_ID  Vehicle  Calendar_Year  Model_Year Blind_Make  \\\n",
       "47       48            16        3           2006        2005          X   \n",
       "101     102            39        1           2006        2001         BH   \n",
       "154     155            76        5           2005        2001         AJ   \n",
       "211     212           103        1           2005        1995         AR   \n",
       "351     352           179        1           2005        1995         AJ   \n",
       "\n",
       "    Blind_Model Blind_Submodel Cat1 Cat2     ...          Var6      Var7  \\\n",
       "47         X.38         X.38.0    C    C     ...     -0.275857 -1.021362   \n",
       "101       BH.18        BH.18.5    B    C     ...     -0.650165 -0.861623   \n",
       "154       AJ.48        AJ.48.1    D    C     ...      1.162886  1.374723   \n",
       "211       AR.41        AR.41.1    B    ?     ...     -1.405797 -0.837048   \n",
       "351       AJ.76        AJ.76.2    D    ?     ...      1.360567  1.423873   \n",
       "\n",
       "         Var8 NVCat   NVVar1    NVVar2    NVVar3    NVVar4 Claim_Amount  \\\n",
       "47  -0.188486     N -0.23153  2.783616 -0.272337 -0.251419    24.205590   \n",
       "101 -0.527934     B -0.23153  2.783616  2.715490 -0.251419     2.624877   \n",
       "154  0.452562     H -0.23153  1.563723 -0.272337  2.404670     7.036577   \n",
       "211 -1.193267     H -0.23153 -0.266117  5.105752 -0.251419     8.432544   \n",
       "351 -0.479145     M -0.23153 -0.266117 -0.272337 -0.251419    89.927240   \n",
       "\n",
       "    Claim_Event  \n",
       "47            1  \n",
       "101           1  \n",
       "154           1  \n",
       "211           1  \n",
       "351           1  \n",
       "\n",
       "[5 rows x 36 columns]"
      ]
     },
     "execution_count": 6,
     "metadata": {},
     "output_type": "execute_result"
    }
   ],
   "source": [
    "df[df.Claim_Amount!=0.0].head(5)"
   ]
  },
  {
   "cell_type": "code",
   "execution_count": 7,
   "metadata": {
    "collapsed": false
   },
   "outputs": [
    {
     "data": {
      "text/plain": [
       "13184290"
      ]
     },
     "execution_count": 7,
     "metadata": {},
     "output_type": "execute_result"
    }
   ],
   "source": [
    "len(df)"
   ]
  },
  {
   "cell_type": "markdown",
   "metadata": {},
   "source": [
    "### 2. (1 pt.) Over- or under-sample the data to create a more balanced target distribution for training your logistic regression model."
   ]
  },
  {
   "cell_type": "markdown",
   "metadata": {},
   "source": [
    "#### The dataset is total imbalanced. For the Claim_Event, we have too many 0s more than 1s in the data. And since this dataset would become too large if we oversample it, we use the following codes to undersample the data and make sure that we have the same number of 0 and 1 for the Claim_Event."
   ]
  },
  {
   "cell_type": "code",
   "execution_count": 8,
   "metadata": {
    "collapsed": false
   },
   "outputs": [
    {
     "data": {
      "text/plain": [
       "Claim_Event\n",
       "0    13088685\n",
       "1       95605\n",
       "dtype: int64"
      ]
     },
     "execution_count": 8,
     "metadata": {},
     "output_type": "execute_result"
    }
   ],
   "source": [
    "df.groupby('Claim_Event').size()"
   ]
  },
  {
   "cell_type": "markdown",
   "metadata": {},
   "source": [
    "#### Separate majority and minority classes."
   ]
  },
  {
   "cell_type": "code",
   "execution_count": 9,
   "metadata": {
    "collapsed": true
   },
   "outputs": [],
   "source": [
    "df_majority = df[df.Claim_Event==0]\n",
    "df_minority = df[df.Claim_Event==1]"
   ]
  },
  {
   "cell_type": "code",
   "execution_count": 10,
   "metadata": {
    "collapsed": true
   },
   "outputs": [],
   "source": [
    "from sklearn.utils import resample"
   ]
  },
  {
   "cell_type": "code",
   "execution_count": 11,
   "metadata": {
    "collapsed": true
   },
   "outputs": [],
   "source": [
    "# Downsample majority class\n",
    "df_majority_downsampled = resample(df_majority, \n",
    "                                 replace=False,\n",
    "                                 n_samples=95605, \n",
    "                                 random_state=123) "
   ]
  },
  {
   "cell_type": "markdown",
   "metadata": {},
   "source": [
    "#### Combine minority class with downsampled majority class"
   ]
  },
  {
   "cell_type": "code",
   "execution_count": 12,
   "metadata": {
    "collapsed": true
   },
   "outputs": [],
   "source": [
    "df_downsampled = pd.concat([df_majority_downsampled, df_minority])"
   ]
  },
  {
   "cell_type": "markdown",
   "metadata": {},
   "source": [
    "#### There are a lot of \"?\"  and null values in the dataset. Here we converted all the \"?\" to null values."
   ]
  },
  {
   "cell_type": "code",
   "execution_count": 13,
   "metadata": {
    "collapsed": true
   },
   "outputs": [],
   "source": [
    "df_downsampled = df_downsampled.replace('?',np.nan)"
   ]
  },
  {
   "cell_type": "code",
   "execution_count": 14,
   "metadata": {
    "collapsed": false
   },
   "outputs": [
    {
     "data": {
      "text/plain": [
       "191210"
      ]
     },
     "execution_count": 14,
     "metadata": {},
     "output_type": "execute_result"
    }
   ],
   "source": [
    "len(df_downsampled)"
   ]
  },
  {
   "cell_type": "markdown",
   "metadata": {},
   "source": [
    "### 3. (1 pt.) Partition your data appropriately. Create a 30% test partition along with other partitions you may need."
   ]
  },
  {
   "cell_type": "markdown",
   "metadata": {},
   "source": [
    "#### We checked how many missing values we still have and where these missing values located."
   ]
  },
  {
   "cell_type": "code",
   "execution_count": 15,
   "metadata": {
    "collapsed": false
   },
   "outputs": [
    {
     "data": {
      "text/plain": [
       "Row_ID                 0\n",
       "Household_ID           0\n",
       "Vehicle                0\n",
       "Calendar_Year          0\n",
       "Model_Year             0\n",
       "Blind_Make           105\n",
       "Blind_Model          105\n",
       "Blind_Submodel       105\n",
       "Cat1                 320\n",
       "Cat2               69334\n",
       "Cat3                  62\n",
       "Cat4               79116\n",
       "Cat5               79182\n",
       "Cat6                 320\n",
       "Cat7              102002\n",
       "Cat8                  28\n",
       "Cat9                   0\n",
       "Cat10                 61\n",
       "Cat11                420\n",
       "Cat12                373\n",
       "OrdCat               115\n",
       "Var1                   0\n",
       "Var2                   0\n",
       "Var3                   0\n",
       "Var4                   0\n",
       "Var5                   0\n",
       "Var6                   0\n",
       "Var7                   0\n",
       "Var8                   0\n",
       "NVCat                  0\n",
       "NVVar1                 0\n",
       "NVVar2                 0\n",
       "NVVar3                 0\n",
       "NVVar4                 0\n",
       "Claim_Amount           0\n",
       "Claim_Event            0\n",
       "dtype: int64"
      ]
     },
     "execution_count": 15,
     "metadata": {},
     "output_type": "execute_result"
    }
   ],
   "source": [
    "df_downsampled.isnull().sum()"
   ]
  },
  {
   "cell_type": "markdown",
   "metadata": {},
   "source": [
    "#### Because we have too many missing values under the cat2, cat4, cat5, cat7, simple missing value imputation method would cause biased result. That's why we chose to drop these columns."
   ]
  },
  {
   "cell_type": "code",
   "execution_count": 16,
   "metadata": {
    "collapsed": true
   },
   "outputs": [],
   "source": [
    "df_downsampled = df_downsampled.drop(['Cat2','Cat4','Cat5','Cat7'],axis=1)"
   ]
  },
  {
   "cell_type": "markdown",
   "metadata": {},
   "source": [
    "#### We splitted the data into three parts, which is 40% for train, 30% for test and 30% for validation."
   ]
  },
  {
   "cell_type": "code",
   "execution_count": 17,
   "metadata": {
    "collapsed": false
   },
   "outputs": [
    {
     "name": "stderr",
     "output_type": "stream",
     "text": [
      "/Users/mindabangong/anaconda3/lib/python3.6/site-packages/sklearn/cross_validation.py:41: DeprecationWarning: This module was deprecated in version 0.18 in favor of the model_selection module into which all the refactored classes and functions are moved. Also note that the interface of the new CV iterators are different from that of this module. This module will be removed in 0.20.\n",
      "  \"This module will be removed in 0.20.\", DeprecationWarning)\n"
     ]
    }
   ],
   "source": [
    "from sklearn.cross_validation import train_test_split"
   ]
  },
  {
   "cell_type": "code",
   "execution_count": 18,
   "metadata": {
    "collapsed": true
   },
   "outputs": [],
   "source": [
    "train, test = train_test_split(df_downsampled, test_size=0.3, random_state=123)\n",
    "train, val = train_test_split(train, test_size=0.43, random_state=123)"
   ]
  },
  {
   "cell_type": "markdown",
   "metadata": {},
   "source": [
    "### 4. (1 pt.) Impute any missing values."
   ]
  },
  {
   "cell_type": "markdown",
   "metadata": {},
   "source": [
    "#### First we checked how many missing values we have in the training set then we chose to impute the missing values with mode."
   ]
  },
  {
   "cell_type": "code",
   "execution_count": 19,
   "metadata": {
    "collapsed": false
   },
   "outputs": [
    {
     "data": {
      "text/plain": [
       "Row_ID              0\n",
       "Household_ID        0\n",
       "Vehicle             0\n",
       "Calendar_Year       0\n",
       "Model_Year          0\n",
       "Blind_Make         40\n",
       "Blind_Model        40\n",
       "Blind_Submodel     40\n",
       "Cat1              131\n",
       "Cat3               20\n",
       "Cat6              131\n",
       "Cat8               10\n",
       "Cat9                0\n",
       "Cat10              31\n",
       "Cat11             185\n",
       "Cat12             165\n",
       "OrdCat             45\n",
       "Var1                0\n",
       "Var2                0\n",
       "Var3                0\n",
       "Var4                0\n",
       "Var5                0\n",
       "Var6                0\n",
       "Var7                0\n",
       "Var8                0\n",
       "NVCat               0\n",
       "NVVar1              0\n",
       "NVVar2              0\n",
       "NVVar3              0\n",
       "NVVar4              0\n",
       "Claim_Amount        0\n",
       "Claim_Event         0\n",
       "dtype: int64"
      ]
     },
     "execution_count": 19,
     "metadata": {},
     "output_type": "execute_result"
    }
   ],
   "source": [
    "train.isnull().sum()"
   ]
  },
  {
   "cell_type": "markdown",
   "metadata": {},
   "source": [
    "#### After checking the mode number for 'Blind_Make', 'Blind_Model' and 'Blind_Submodel' for all three subsets, we found that the result is K, K.7 and AU 58.0. AU 58.0 is clearly not from the car K. So we used the second most popular submodel k.7.3 to impute the missing values for 'Blind_Submodel'."
   ]
  },
  {
   "cell_type": "code",
   "execution_count": 20,
   "metadata": {
    "collapsed": true
   },
   "outputs": [],
   "source": [
    "train['Blind_Make'] = train.Blind_Make.fillna(train.Blind_Make.mode().item())"
   ]
  },
  {
   "cell_type": "code",
   "execution_count": 21,
   "metadata": {
    "collapsed": false
   },
   "outputs": [
    {
     "name": "stderr",
     "output_type": "stream",
     "text": [
      "/Users/mindabangong/anaconda3/lib/python3.6/site-packages/ipykernel_launcher.py:2: SettingWithCopyWarning: \n",
      "A value is trying to be set on a copy of a slice from a DataFrame.\n",
      "Try using .loc[row_indexer,col_indexer] = value instead\n",
      "\n",
      "See the caveats in the documentation: http://pandas.pydata.org/pandas-docs/stable/indexing.html#indexing-view-versus-copy\n",
      "  \n"
     ]
    }
   ],
   "source": [
    "val['Blind_Make'] = val.Blind_Make.fillna(val.Blind_Make.mode().item())\n",
    "test['Blind_Make'] = test.Blind_Make.fillna(test.Blind_Make.mode().item())"
   ]
  },
  {
   "cell_type": "code",
   "execution_count": 22,
   "metadata": {
    "collapsed": true
   },
   "outputs": [],
   "source": [
    "train['Blind_Model'] = train.Blind_Model.fillna(train.Blind_Model.mode().item())"
   ]
  },
  {
   "cell_type": "code",
   "execution_count": 23,
   "metadata": {
    "collapsed": false
   },
   "outputs": [
    {
     "name": "stderr",
     "output_type": "stream",
     "text": [
      "/Users/mindabangong/anaconda3/lib/python3.6/site-packages/ipykernel_launcher.py:2: SettingWithCopyWarning: \n",
      "A value is trying to be set on a copy of a slice from a DataFrame.\n",
      "Try using .loc[row_indexer,col_indexer] = value instead\n",
      "\n",
      "See the caveats in the documentation: http://pandas.pydata.org/pandas-docs/stable/indexing.html#indexing-view-versus-copy\n",
      "  \n"
     ]
    }
   ],
   "source": [
    "val['Blind_Model'] = val.Blind_Model.fillna(val.Blind_Model.mode().item())\n",
    "test['Blind_Model'] = test.Blind_Model.fillna(test.Blind_Model.mode().item())"
   ]
  },
  {
   "cell_type": "code",
   "execution_count": 24,
   "metadata": {
    "collapsed": true
   },
   "outputs": [],
   "source": [
    "train['Blind_Submodel'] = train.Blind_Submodel.fillna('K.7.3')"
   ]
  },
  {
   "cell_type": "code",
   "execution_count": 25,
   "metadata": {
    "collapsed": false
   },
   "outputs": [
    {
     "name": "stderr",
     "output_type": "stream",
     "text": [
      "/Users/mindabangong/anaconda3/lib/python3.6/site-packages/ipykernel_launcher.py:2: SettingWithCopyWarning: \n",
      "A value is trying to be set on a copy of a slice from a DataFrame.\n",
      "Try using .loc[row_indexer,col_indexer] = value instead\n",
      "\n",
      "See the caveats in the documentation: http://pandas.pydata.org/pandas-docs/stable/indexing.html#indexing-view-versus-copy\n",
      "  \n"
     ]
    }
   ],
   "source": [
    "val['Blind_Submodel'] = val.Blind_Submodel.fillna('K.7.3')\n",
    "test['Blind_Submodel'] = test.Blind_Submodel.fillna('K.7.3')"
   ]
  },
  {
   "cell_type": "code",
   "execution_count": 26,
   "metadata": {
    "collapsed": false
   },
   "outputs": [
    {
     "data": {
      "text/plain": [
       "422"
      ]
     },
     "execution_count": 26,
     "metadata": {},
     "output_type": "execute_result"
    }
   ],
   "source": [
    "len(train[train.isnull().any(axis=1)])"
   ]
  },
  {
   "cell_type": "code",
   "execution_count": 27,
   "metadata": {
    "collapsed": false
   },
   "outputs": [
    {
     "data": {
      "text/plain": [
       "289"
      ]
     },
     "execution_count": 27,
     "metadata": {},
     "output_type": "execute_result"
    }
   ],
   "source": [
    "len(test[test.isnull().any(axis=1)])"
   ]
  },
  {
   "cell_type": "code",
   "execution_count": 28,
   "metadata": {
    "collapsed": false
   },
   "outputs": [
    {
     "data": {
      "text/plain": [
       "293"
      ]
     },
     "execution_count": 28,
     "metadata": {},
     "output_type": "execute_result"
    }
   ],
   "source": [
    "len(val[val.isnull().any(axis=1)])"
   ]
  },
  {
   "cell_type": "markdown",
   "metadata": {},
   "source": [
    "#### Because we have different data types under the OrdCat variable, including integer and string. We converted all of them into string type."
   ]
  },
  {
   "cell_type": "code",
   "execution_count": 29,
   "metadata": {
    "collapsed": true
   },
   "outputs": [],
   "source": [
    "train['OrdCat'] = train['OrdCat'].astype(str)"
   ]
  },
  {
   "cell_type": "code",
   "execution_count": 30,
   "metadata": {
    "collapsed": false
   },
   "outputs": [
    {
     "name": "stderr",
     "output_type": "stream",
     "text": [
      "/Users/mindabangong/anaconda3/lib/python3.6/site-packages/ipykernel_launcher.py:1: SettingWithCopyWarning: \n",
      "A value is trying to be set on a copy of a slice from a DataFrame.\n",
      "Try using .loc[row_indexer,col_indexer] = value instead\n",
      "\n",
      "See the caveats in the documentation: http://pandas.pydata.org/pandas-docs/stable/indexing.html#indexing-view-versus-copy\n",
      "  \"\"\"Entry point for launching an IPython kernel.\n"
     ]
    }
   ],
   "source": [
    "test['OrdCat'] = test['OrdCat'].astype(str)\n",
    "val['OrdCat'] = val['OrdCat'].astype(str)"
   ]
  },
  {
   "cell_type": "markdown",
   "metadata": {},
   "source": [
    "#### We used the same method to fill in the missing values for the following categorical variables with mode in the training set, testing set and the validation set."
   ]
  },
  {
   "cell_type": "code",
   "execution_count": 31,
   "metadata": {
    "collapsed": true
   },
   "outputs": [],
   "source": [
    "train['Cat1'] = train.Cat1.fillna(train.Cat1.mode().item())"
   ]
  },
  {
   "cell_type": "code",
   "execution_count": 32,
   "metadata": {
    "collapsed": true
   },
   "outputs": [],
   "source": [
    "train['Cat3'] = train.Cat3.fillna(train.Cat3.mode().item())\n",
    "train['Cat6'] = train.Cat6.fillna(train.Cat6.mode().item())\n",
    "train['Cat8'] = train.Cat8.fillna(train.Cat8.mode().item())\n",
    "train['Cat9'] = train.Cat9.fillna(train.Cat9.mode().item())\n",
    "train['Cat10'] = train.Cat10.fillna(train.Cat10.mode().item())\n",
    "train['Cat11'] = train.Cat11.fillna(train.Cat11.mode().item())\n",
    "train['Cat12'] = train.Cat12.fillna(train.Cat12.mode().item())"
   ]
  },
  {
   "cell_type": "markdown",
   "metadata": {},
   "source": [
    "#### We converted OrdCat by \"astype(str)\", for some reasons the \"NaN\" is considered as a string, thus the \"fillna()\" function does not work anymore. We used replace function to impute missing values with mode instead."
   ]
  },
  {
   "cell_type": "code",
   "execution_count": 33,
   "metadata": {
    "collapsed": true
   },
   "outputs": [],
   "source": [
    "train['OrdCat'] = train.OrdCat.fillna(train.OrdCat.mode().item())"
   ]
  },
  {
   "cell_type": "code",
   "execution_count": 34,
   "metadata": {
    "collapsed": false
   },
   "outputs": [
    {
     "name": "stderr",
     "output_type": "stream",
     "text": [
      "/Users/mindabangong/anaconda3/lib/python3.6/site-packages/ipykernel_launcher.py:1: SettingWithCopyWarning: \n",
      "A value is trying to be set on a copy of a slice from a DataFrame.\n",
      "Try using .loc[row_indexer,col_indexer] = value instead\n",
      "\n",
      "See the caveats in the documentation: http://pandas.pydata.org/pandas-docs/stable/indexing.html#indexing-view-versus-copy\n",
      "  \"\"\"Entry point for launching an IPython kernel.\n",
      "/Users/mindabangong/anaconda3/lib/python3.6/site-packages/ipykernel_launcher.py:2: SettingWithCopyWarning: \n",
      "A value is trying to be set on a copy of a slice from a DataFrame.\n",
      "Try using .loc[row_indexer,col_indexer] = value instead\n",
      "\n",
      "See the caveats in the documentation: http://pandas.pydata.org/pandas-docs/stable/indexing.html#indexing-view-versus-copy\n",
      "  \n",
      "/Users/mindabangong/anaconda3/lib/python3.6/site-packages/ipykernel_launcher.py:3: SettingWithCopyWarning: \n",
      "A value is trying to be set on a copy of a slice from a DataFrame.\n",
      "Try using .loc[row_indexer,col_indexer] = value instead\n",
      "\n",
      "See the caveats in the documentation: http://pandas.pydata.org/pandas-docs/stable/indexing.html#indexing-view-versus-copy\n",
      "  This is separate from the ipykernel package so we can avoid doing imports until\n",
      "/Users/mindabangong/anaconda3/lib/python3.6/site-packages/ipykernel_launcher.py:4: SettingWithCopyWarning: \n",
      "A value is trying to be set on a copy of a slice from a DataFrame.\n",
      "Try using .loc[row_indexer,col_indexer] = value instead\n",
      "\n",
      "See the caveats in the documentation: http://pandas.pydata.org/pandas-docs/stable/indexing.html#indexing-view-versus-copy\n",
      "  after removing the cwd from sys.path.\n",
      "/Users/mindabangong/anaconda3/lib/python3.6/site-packages/ipykernel_launcher.py:5: SettingWithCopyWarning: \n",
      "A value is trying to be set on a copy of a slice from a DataFrame.\n",
      "Try using .loc[row_indexer,col_indexer] = value instead\n",
      "\n",
      "See the caveats in the documentation: http://pandas.pydata.org/pandas-docs/stable/indexing.html#indexing-view-versus-copy\n",
      "  \"\"\"\n",
      "/Users/mindabangong/anaconda3/lib/python3.6/site-packages/ipykernel_launcher.py:6: SettingWithCopyWarning: \n",
      "A value is trying to be set on a copy of a slice from a DataFrame.\n",
      "Try using .loc[row_indexer,col_indexer] = value instead\n",
      "\n",
      "See the caveats in the documentation: http://pandas.pydata.org/pandas-docs/stable/indexing.html#indexing-view-versus-copy\n",
      "  \n",
      "/Users/mindabangong/anaconda3/lib/python3.6/site-packages/ipykernel_launcher.py:7: SettingWithCopyWarning: \n",
      "A value is trying to be set on a copy of a slice from a DataFrame.\n",
      "Try using .loc[row_indexer,col_indexer] = value instead\n",
      "\n",
      "See the caveats in the documentation: http://pandas.pydata.org/pandas-docs/stable/indexing.html#indexing-view-versus-copy\n",
      "  import sys\n",
      "/Users/mindabangong/anaconda3/lib/python3.6/site-packages/ipykernel_launcher.py:8: SettingWithCopyWarning: \n",
      "A value is trying to be set on a copy of a slice from a DataFrame.\n",
      "Try using .loc[row_indexer,col_indexer] = value instead\n",
      "\n",
      "See the caveats in the documentation: http://pandas.pydata.org/pandas-docs/stable/indexing.html#indexing-view-versus-copy\n",
      "  \n"
     ]
    }
   ],
   "source": [
    "test['Cat1'] = test.Cat1.fillna(test.Cat1.mode().item())\n",
    "test['Cat3'] = test.Cat3.fillna(test.Cat3.mode().item())\n",
    "test['Cat6'] = test.Cat6.fillna(test.Cat6.mode().item())\n",
    "test['Cat8'] = test.Cat8.fillna(test.Cat8.mode().item())\n",
    "test['Cat10'] = test.Cat10.fillna(test.Cat10.mode().item())\n",
    "test['Cat11'] = test.Cat11.fillna(test.Cat11.mode().item())\n",
    "test['Cat12'] = test.Cat12.fillna(test.Cat12.mode().item())\n",
    "test['OrdCat'] = test.OrdCat.fillna(test.OrdCat.mode().item())"
   ]
  },
  {
   "cell_type": "code",
   "execution_count": 35,
   "metadata": {
    "collapsed": false
   },
   "outputs": [
    {
     "data": {
      "text/plain": [
       "Row_ID            0\n",
       "Household_ID      0\n",
       "Vehicle           0\n",
       "Calendar_Year     0\n",
       "Model_Year        0\n",
       "Blind_Make        0\n",
       "Blind_Model       0\n",
       "Blind_Submodel    0\n",
       "Cat1              0\n",
       "Cat3              0\n",
       "Cat6              0\n",
       "Cat8              0\n",
       "Cat9              0\n",
       "Cat10             0\n",
       "Cat11             0\n",
       "Cat12             0\n",
       "OrdCat            0\n",
       "Var1              0\n",
       "Var2              0\n",
       "Var3              0\n",
       "Var4              0\n",
       "Var5              0\n",
       "Var6              0\n",
       "Var7              0\n",
       "Var8              0\n",
       "NVCat             0\n",
       "NVVar1            0\n",
       "NVVar2            0\n",
       "NVVar3            0\n",
       "NVVar4            0\n",
       "Claim_Amount      0\n",
       "Claim_Event       0\n",
       "dtype: int64"
      ]
     },
     "execution_count": 35,
     "metadata": {},
     "output_type": "execute_result"
    }
   ],
   "source": [
    "test.isnull().sum()"
   ]
  },
  {
   "cell_type": "code",
   "execution_count": 36,
   "metadata": {
    "collapsed": true
   },
   "outputs": [],
   "source": [
    "val['Cat1'] = val.Cat1.fillna(val.Cat1.mode().item())\n",
    "val['Cat3'] = val.Cat3.fillna(val.Cat3.mode().item())\n",
    "val['Cat6'] = val.Cat6.fillna(val.Cat6.mode().item())\n",
    "val['Cat8'] = val.Cat8.fillna(val.Cat8.mode().item())\n",
    "val['Cat10'] = val.Cat10.fillna(val.Cat10.mode().item())\n",
    "val['Cat11'] = val.Cat11.fillna(val.Cat11.mode().item())\n",
    "val['Cat12'] = val.Cat12.fillna(val.Cat12.mode().item())\n",
    "val['OrdCat'] = val.OrdCat.fillna(val.OrdCat.mode().item())"
   ]
  },
  {
   "cell_type": "code",
   "execution_count": 37,
   "metadata": {
    "collapsed": false
   },
   "outputs": [
    {
     "data": {
      "text/plain": [
       "Row_ID            0\n",
       "Household_ID      0\n",
       "Vehicle           0\n",
       "Calendar_Year     0\n",
       "Model_Year        0\n",
       "Blind_Make        0\n",
       "Blind_Model       0\n",
       "Blind_Submodel    0\n",
       "Cat1              0\n",
       "Cat3              0\n",
       "Cat6              0\n",
       "Cat8              0\n",
       "Cat9              0\n",
       "Cat10             0\n",
       "Cat11             0\n",
       "Cat12             0\n",
       "OrdCat            0\n",
       "Var1              0\n",
       "Var2              0\n",
       "Var3              0\n",
       "Var4              0\n",
       "Var5              0\n",
       "Var6              0\n",
       "Var7              0\n",
       "Var8              0\n",
       "NVCat             0\n",
       "NVVar1            0\n",
       "NVVar2            0\n",
       "NVVar3            0\n",
       "NVVar4            0\n",
       "Claim_Amount      0\n",
       "Claim_Event       0\n",
       "dtype: int64"
      ]
     },
     "execution_count": 37,
     "metadata": {},
     "output_type": "execute_result"
    }
   ],
   "source": [
    "val.isnull().sum()"
   ]
  },
  {
   "cell_type": "markdown",
   "metadata": {},
   "source": [
    "### 5. (2 pts.) Create numeric features for the blind_make, blind_model, and blind_submodel high cardinality categorical variables and use them in your model."
   ]
  },
  {
   "cell_type": "code",
   "execution_count": 38,
   "metadata": {
    "collapsed": true
   },
   "outputs": [],
   "source": [
    "from numpy.random import uniform"
   ]
  },
  {
   "cell_type": "code",
   "execution_count": 39,
   "metadata": {
    "collapsed": false
   },
   "outputs": [
    {
     "data": {
      "text/plain": [
       "Index(['Row_ID', 'Household_ID', 'Vehicle', 'Calendar_Year', 'Model_Year',\n",
       "       'Blind_Make', 'Blind_Model', 'Blind_Submodel', 'Cat1', 'Cat3', 'Cat6',\n",
       "       'Cat8', 'Cat9', 'Cat10', 'Cat11', 'Cat12', 'OrdCat', 'Var1', 'Var2',\n",
       "       'Var3', 'Var4', 'Var5', 'Var6', 'Var7', 'Var8', 'NVCat', 'NVVar1',\n",
       "       'NVVar2', 'NVVar3', 'NVVar4', 'Claim_Amount', 'Claim_Event'],\n",
       "      dtype='object')"
      ]
     },
     "execution_count": 39,
     "metadata": {},
     "output_type": "execute_result"
    }
   ],
   "source": [
    "train.columns"
   ]
  },
  {
   "cell_type": "markdown",
   "metadata": {},
   "source": [
    "####  We created numeric features for the blind_make, blind_model, and blind_submodel variables."
   ]
  },
  {
   "cell_type": "code",
   "execution_count": 40,
   "metadata": {
    "collapsed": true
   },
   "outputs": [],
   "source": [
    "for col_name in train.columns[5:8]:\n",
    "    new_col_name = col_name + '_encode'\n",
    "    # create a dictionary of original categorical value:event rate for that value\n",
    "    row_val_dict = {}\n",
    "    for level in train[col_name].unique():\n",
    "        row_val_dict[level] = train[train[col_name] == level]['Claim_Event'].mean()\n",
    "    # apply the transform from the dictionary on all rows in the column\n",
    "    train[new_col_name] = train[col_name].apply(lambda i: row_val_dict[i] + uniform(low=-0.05, high=0.05))"
   ]
  },
  {
   "cell_type": "code",
   "execution_count": 41,
   "metadata": {
    "collapsed": true
   },
   "outputs": [],
   "source": [
    "for col_name in val.columns[5:8]:\n",
    "    new_col_name = col_name + '_encode'\n",
    "    # create a dictionary of original categorical value:event rate for that value\n",
    "    row_val_dict = {}\n",
    "    for level in val[col_name].unique():\n",
    "        row_val_dict[level] = val[val[col_name] == level]['Claim_Event'].mean()\n",
    "    # apply the transform from the dictionary on all rows in the column\n",
    "    val[new_col_name] = val[col_name].apply(lambda i: row_val_dict[i] + uniform(low=-0.05, high=0.05))"
   ]
  },
  {
   "cell_type": "code",
   "execution_count": 42,
   "metadata": {
    "collapsed": false
   },
   "outputs": [
    {
     "name": "stderr",
     "output_type": "stream",
     "text": [
      "/Users/mindabangong/anaconda3/lib/python3.6/site-packages/ipykernel_launcher.py:8: SettingWithCopyWarning: \n",
      "A value is trying to be set on a copy of a slice from a DataFrame.\n",
      "Try using .loc[row_indexer,col_indexer] = value instead\n",
      "\n",
      "See the caveats in the documentation: http://pandas.pydata.org/pandas-docs/stable/indexing.html#indexing-view-versus-copy\n",
      "  \n"
     ]
    }
   ],
   "source": [
    "for col_name in test.columns[5:8]:\n",
    "    new_col_name = col_name + '_encode'\n",
    "    # create a dictionary of original categorical value:event rate for that value\n",
    "    row_val_dict = {}\n",
    "    for level in test[col_name].unique():\n",
    "        row_val_dict[level] = test[test[col_name] == level]['Claim_Event'].mean()\n",
    "    # apply the transform from the dictionary on all rows in the column\n",
    "    test[new_col_name] = test[col_name].apply(lambda i: row_val_dict[i] + uniform(low=-0.05, high=0.05))"
   ]
  },
  {
   "cell_type": "code",
   "execution_count": 43,
   "metadata": {
    "collapsed": false
   },
   "outputs": [
    {
     "data": {
      "text/html": [
       "<div>\n",
       "<style>\n",
       "    .dataframe thead tr:only-child th {\n",
       "        text-align: right;\n",
       "    }\n",
       "\n",
       "    .dataframe thead th {\n",
       "        text-align: left;\n",
       "    }\n",
       "\n",
       "    .dataframe tbody tr th {\n",
       "        vertical-align: top;\n",
       "    }\n",
       "</style>\n",
       "<table border=\"1\" class=\"dataframe\">\n",
       "  <thead>\n",
       "    <tr style=\"text-align: right;\">\n",
       "      <th></th>\n",
       "      <th>Row_ID</th>\n",
       "      <th>Household_ID</th>\n",
       "      <th>Vehicle</th>\n",
       "      <th>Calendar_Year</th>\n",
       "      <th>Model_Year</th>\n",
       "      <th>Blind_Make</th>\n",
       "      <th>Blind_Model</th>\n",
       "      <th>Blind_Submodel</th>\n",
       "      <th>Cat1</th>\n",
       "      <th>Cat3</th>\n",
       "      <th>...</th>\n",
       "      <th>NVCat</th>\n",
       "      <th>NVVar1</th>\n",
       "      <th>NVVar2</th>\n",
       "      <th>NVVar3</th>\n",
       "      <th>NVVar4</th>\n",
       "      <th>Claim_Amount</th>\n",
       "      <th>Claim_Event</th>\n",
       "      <th>Blind_Make_encode</th>\n",
       "      <th>Blind_Model_encode</th>\n",
       "      <th>Blind_Submodel_encode</th>\n",
       "    </tr>\n",
       "  </thead>\n",
       "  <tbody>\n",
       "    <tr>\n",
       "      <th>11579586</th>\n",
       "      <td>11579587</td>\n",
       "      <td>6839840</td>\n",
       "      <td>1</td>\n",
       "      <td>2005</td>\n",
       "      <td>1997</td>\n",
       "      <td>K</td>\n",
       "      <td>K.7</td>\n",
       "      <td>K.7.0</td>\n",
       "      <td>B</td>\n",
       "      <td>A</td>\n",
       "      <td>...</td>\n",
       "      <td>M</td>\n",
       "      <td>-0.23153</td>\n",
       "      <td>-0.266117</td>\n",
       "      <td>-0.272337</td>\n",
       "      <td>-0.251419</td>\n",
       "      <td>0.00000</td>\n",
       "      <td>0</td>\n",
       "      <td>0.471561</td>\n",
       "      <td>0.533590</td>\n",
       "      <td>0.539134</td>\n",
       "    </tr>\n",
       "    <tr>\n",
       "      <th>13181757</th>\n",
       "      <td>13181758</td>\n",
       "      <td>7540085</td>\n",
       "      <td>1</td>\n",
       "      <td>2005</td>\n",
       "      <td>2003</td>\n",
       "      <td>AU</td>\n",
       "      <td>AU.40</td>\n",
       "      <td>AU.40.0</td>\n",
       "      <td>I</td>\n",
       "      <td>F</td>\n",
       "      <td>...</td>\n",
       "      <td>O</td>\n",
       "      <td>-0.23153</td>\n",
       "      <td>-0.266117</td>\n",
       "      <td>-0.272337</td>\n",
       "      <td>-0.251419</td>\n",
       "      <td>12.38141</td>\n",
       "      <td>1</td>\n",
       "      <td>0.581584</td>\n",
       "      <td>0.510680</td>\n",
       "      <td>0.507141</td>\n",
       "    </tr>\n",
       "    <tr>\n",
       "      <th>8144269</th>\n",
       "      <td>8144270</td>\n",
       "      <td>5202275</td>\n",
       "      <td>1</td>\n",
       "      <td>2007</td>\n",
       "      <td>1999</td>\n",
       "      <td>K</td>\n",
       "      <td>K.7</td>\n",
       "      <td>K.7.1</td>\n",
       "      <td>B</td>\n",
       "      <td>A</td>\n",
       "      <td>...</td>\n",
       "      <td>M</td>\n",
       "      <td>-0.23153</td>\n",
       "      <td>-0.266117</td>\n",
       "      <td>-0.272337</td>\n",
       "      <td>-0.251419</td>\n",
       "      <td>0.00000</td>\n",
       "      <td>0</td>\n",
       "      <td>0.543132</td>\n",
       "      <td>0.561698</td>\n",
       "      <td>0.562724</td>\n",
       "    </tr>\n",
       "    <tr>\n",
       "      <th>10928815</th>\n",
       "      <td>10928816</td>\n",
       "      <td>6622402</td>\n",
       "      <td>1</td>\n",
       "      <td>2006</td>\n",
       "      <td>1993</td>\n",
       "      <td>K</td>\n",
       "      <td>K.51</td>\n",
       "      <td>K.51.0</td>\n",
       "      <td>D</td>\n",
       "      <td>C</td>\n",
       "      <td>...</td>\n",
       "      <td>M</td>\n",
       "      <td>-0.23153</td>\n",
       "      <td>-0.266117</td>\n",
       "      <td>-0.272337</td>\n",
       "      <td>-0.251419</td>\n",
       "      <td>0.00000</td>\n",
       "      <td>0</td>\n",
       "      <td>0.528122</td>\n",
       "      <td>0.410964</td>\n",
       "      <td>0.480145</td>\n",
       "    </tr>\n",
       "    <tr>\n",
       "      <th>2006297</th>\n",
       "      <td>2006298</td>\n",
       "      <td>1203346</td>\n",
       "      <td>2</td>\n",
       "      <td>2007</td>\n",
       "      <td>1990</td>\n",
       "      <td>AJ</td>\n",
       "      <td>AJ.76</td>\n",
       "      <td>AJ.76.2</td>\n",
       "      <td>D</td>\n",
       "      <td>C</td>\n",
       "      <td>...</td>\n",
       "      <td>M</td>\n",
       "      <td>-0.23153</td>\n",
       "      <td>-0.266117</td>\n",
       "      <td>-0.272337</td>\n",
       "      <td>-0.251419</td>\n",
       "      <td>0.00000</td>\n",
       "      <td>0</td>\n",
       "      <td>0.513446</td>\n",
       "      <td>0.496811</td>\n",
       "      <td>0.463755</td>\n",
       "    </tr>\n",
       "  </tbody>\n",
       "</table>\n",
       "<p>5 rows × 35 columns</p>\n",
       "</div>"
      ],
      "text/plain": [
       "            Row_ID  Household_ID  Vehicle  Calendar_Year  Model_Year  \\\n",
       "11579586  11579587       6839840        1           2005        1997   \n",
       "13181757  13181758       7540085        1           2005        2003   \n",
       "8144269    8144270       5202275        1           2007        1999   \n",
       "10928815  10928816       6622402        1           2006        1993   \n",
       "2006297    2006298       1203346        2           2007        1990   \n",
       "\n",
       "         Blind_Make Blind_Model Blind_Submodel Cat1 Cat3  \\\n",
       "11579586          K         K.7          K.7.0    B    A   \n",
       "13181757         AU       AU.40        AU.40.0    I    F   \n",
       "8144269           K         K.7          K.7.1    B    A   \n",
       "10928815          K        K.51         K.51.0    D    C   \n",
       "2006297          AJ       AJ.76        AJ.76.2    D    C   \n",
       "\n",
       "                  ...           NVCat   NVVar1    NVVar2    NVVar3    NVVar4  \\\n",
       "11579586          ...               M -0.23153 -0.266117 -0.272337 -0.251419   \n",
       "13181757          ...               O -0.23153 -0.266117 -0.272337 -0.251419   \n",
       "8144269           ...               M -0.23153 -0.266117 -0.272337 -0.251419   \n",
       "10928815          ...               M -0.23153 -0.266117 -0.272337 -0.251419   \n",
       "2006297           ...               M -0.23153 -0.266117 -0.272337 -0.251419   \n",
       "\n",
       "         Claim_Amount Claim_Event  Blind_Make_encode  Blind_Model_encode  \\\n",
       "11579586      0.00000           0           0.471561            0.533590   \n",
       "13181757     12.38141           1           0.581584            0.510680   \n",
       "8144269       0.00000           0           0.543132            0.561698   \n",
       "10928815      0.00000           0           0.528122            0.410964   \n",
       "2006297       0.00000           0           0.513446            0.496811   \n",
       "\n",
       "          Blind_Submodel_encode  \n",
       "11579586               0.539134  \n",
       "13181757               0.507141  \n",
       "8144269                0.562724  \n",
       "10928815               0.480145  \n",
       "2006297                0.463755  \n",
       "\n",
       "[5 rows x 35 columns]"
      ]
     },
     "execution_count": 43,
     "metadata": {},
     "output_type": "execute_result"
    }
   ],
   "source": [
    "train.head(5)"
   ]
  },
  {
   "cell_type": "markdown",
   "metadata": {},
   "source": [
    "### 6. (1 pt.) Train a logistic regression model with variable selection based on minimizing validation error or maximizing another suitable validation accuracy measure."
   ]
  },
  {
   "cell_type": "markdown",
   "metadata": {},
   "source": [
    "#### Because theoretically Row_ID, House_ID and Vehicle have nothing to do with the result of Claim_Event, we dropped all the useless variables out of the dataset."
   ]
  },
  {
   "cell_type": "code",
   "execution_count": 44,
   "metadata": {
    "collapsed": true
   },
   "outputs": [],
   "source": [
    "train = train.drop(['Row_ID','Household_ID','Vehicle','Blind_Make','Blind_Model','Blind_Submodel','Claim_Amount'],axis=1)"
   ]
  },
  {
   "cell_type": "code",
   "execution_count": 45,
   "metadata": {
    "collapsed": true
   },
   "outputs": [],
   "source": [
    "val = val.drop(['Row_ID','Household_ID','Vehicle','Blind_Make','Blind_Model','Blind_Submodel','Claim_Amount'],axis=1)\n",
    "test = test.drop(['Row_ID','Household_ID','Vehicle','Blind_Make','Blind_Model','Blind_Submodel','Claim_Amount'],axis=1)"
   ]
  },
  {
   "cell_type": "markdown",
   "metadata": {},
   "source": [
    "#### We loaded H20 to train a logistic regression model."
   ]
  },
  {
   "cell_type": "code",
   "execution_count": 46,
   "metadata": {
    "collapsed": true
   },
   "outputs": [],
   "source": [
    "import h2o\n",
    "from h2o.estimators.glm import H2OGeneralizedLinearEstimator"
   ]
  },
  {
   "cell_type": "code",
   "execution_count": 47,
   "metadata": {
    "collapsed": false
   },
   "outputs": [
    {
     "name": "stdout",
     "output_type": "stream",
     "text": [
      "Checking whether there is an H2O instance running at http://localhost:54321. connected.\n"
     ]
    },
    {
     "data": {
      "text/html": [
       "<div style=\"overflow:auto\"><table style=\"width:50%\"><tr><td>H2O cluster uptime:</td>\n",
       "<td>7 days 20 hours 52 mins</td></tr>\n",
       "<tr><td>H2O cluster timezone:</td>\n",
       "<td>America/New_York</td></tr>\n",
       "<tr><td>H2O data parsing timezone:</td>\n",
       "<td>UTC</td></tr>\n",
       "<tr><td>H2O cluster version:</td>\n",
       "<td>3.18.0.2</td></tr>\n",
       "<tr><td>H2O cluster version age:</td>\n",
       "<td>14 days, 22 hours and 57 minutes </td></tr>\n",
       "<tr><td>H2O cluster name:</td>\n",
       "<td>H2O_from_python_mindabangong_k0k5xv</td></tr>\n",
       "<tr><td>H2O cluster total nodes:</td>\n",
       "<td>1</td></tr>\n",
       "<tr><td>H2O cluster free memory:</td>\n",
       "<td>590 Mb</td></tr>\n",
       "<tr><td>H2O cluster total cores:</td>\n",
       "<td>4</td></tr>\n",
       "<tr><td>H2O cluster allowed cores:</td>\n",
       "<td>4</td></tr>\n",
       "<tr><td>H2O cluster status:</td>\n",
       "<td>locked, healthy</td></tr>\n",
       "<tr><td>H2O connection url:</td>\n",
       "<td>http://localhost:54321</td></tr>\n",
       "<tr><td>H2O connection proxy:</td>\n",
       "<td>None</td></tr>\n",
       "<tr><td>H2O internal security:</td>\n",
       "<td>False</td></tr>\n",
       "<tr><td>H2O API Extensions:</td>\n",
       "<td>XGBoost, Algos, AutoML, Core V3, Core V4</td></tr>\n",
       "<tr><td>Python version:</td>\n",
       "<td>3.6.2 final</td></tr></table></div>"
      ],
      "text/plain": [
       "--------------------------  ----------------------------------------\n",
       "H2O cluster uptime:         7 days 20 hours 52 mins\n",
       "H2O cluster timezone:       America/New_York\n",
       "H2O data parsing timezone:  UTC\n",
       "H2O cluster version:        3.18.0.2\n",
       "H2O cluster version age:    14 days, 22 hours and 57 minutes\n",
       "H2O cluster name:           H2O_from_python_mindabangong_k0k5xv\n",
       "H2O cluster total nodes:    1\n",
       "H2O cluster free memory:    590 Mb\n",
       "H2O cluster total cores:    4\n",
       "H2O cluster allowed cores:  4\n",
       "H2O cluster status:         locked, healthy\n",
       "H2O connection url:         http://localhost:54321\n",
       "H2O connection proxy:\n",
       "H2O internal security:      False\n",
       "H2O API Extensions:         XGBoost, Algos, AutoML, Core V3, Core V4\n",
       "Python version:             3.6.2 final\n",
       "--------------------------  ----------------------------------------"
      ]
     },
     "metadata": {},
     "output_type": "display_data"
    }
   ],
   "source": [
    "h2o.init()"
   ]
  },
  {
   "cell_type": "code",
   "execution_count": 48,
   "metadata": {
    "collapsed": false
   },
   "outputs": [
    {
     "name": "stdout",
     "output_type": "stream",
     "text": [
      "Parse progress: |█████████████████████████████████████████████████████████| 100%\n"
     ]
    }
   ],
   "source": [
    "trainhf = h2o.H2OFrame(train)"
   ]
  },
  {
   "cell_type": "code",
   "execution_count": 49,
   "metadata": {
    "collapsed": false
   },
   "outputs": [
    {
     "name": "stdout",
     "output_type": "stream",
     "text": [
      "Parse progress: |█████████████████████████████████████████████████████████| 100%\n"
     ]
    }
   ],
   "source": [
    "valhf = h2o.H2OFrame(val)"
   ]
  },
  {
   "cell_type": "code",
   "execution_count": 50,
   "metadata": {
    "collapsed": false
   },
   "outputs": [
    {
     "name": "stdout",
     "output_type": "stream",
     "text": [
      "Parse progress: |█████████████████████████████████████████████████████████| 100%\n"
     ]
    }
   ],
   "source": [
    "testhf = h2o.H2OFrame(test)"
   ]
  },
  {
   "cell_type": "markdown",
   "metadata": {},
   "source": [
    "#### We set target and categorical variables to factor for logisitic regression model."
   ]
  },
  {
   "cell_type": "code",
   "execution_count": 51,
   "metadata": {
    "collapsed": true
   },
   "outputs": [],
   "source": [
    "trainhf['OrdCat'] = trainhf['OrdCat'].asfactor()\n",
    "testhf['OrdCat'] = testhf['OrdCat'].asfactor()\n",
    "valhf['OrdCat'] = valhf['OrdCat'].asfactor()"
   ]
  },
  {
   "cell_type": "code",
   "execution_count": 52,
   "metadata": {
    "collapsed": true
   },
   "outputs": [],
   "source": [
    "trainhf['Calendar_Year'] = trainhf['Calendar_Year'].asfactor()\n",
    "testhf['Calendar_Year'] = testhf['Calendar_Year'].asfactor()\n",
    "valhf['Calendar_Year'] = valhf['Calendar_Year'].asfactor()"
   ]
  },
  {
   "cell_type": "code",
   "execution_count": 53,
   "metadata": {
    "collapsed": true
   },
   "outputs": [],
   "source": [
    "trainhf['Model_Year'] = trainhf['Model_Year'].asfactor()\n",
    "testhf['Model_Year'] = testhf['Model_Year'].asfactor()\n",
    "valhf['Model_Year'] = valhf['Model_Year'].asfactor()"
   ]
  },
  {
   "cell_type": "code",
   "execution_count": 54,
   "metadata": {
    "collapsed": true
   },
   "outputs": [],
   "source": [
    "y = 'Claim_Event'\n",
    "X = [name for name in trainhf.columns if name not in ['C1',y]]"
   ]
  },
  {
   "cell_type": "code",
   "execution_count": 55,
   "metadata": {
    "collapsed": false
   },
   "outputs": [
    {
     "name": "stdout",
     "output_type": "stream",
     "text": [
      "Claim_Event\n",
      "['Calendar_Year', 'Model_Year', 'Cat1', 'Cat3', 'Cat6', 'Cat8', 'Cat9', 'Cat10', 'Cat11', 'Cat12', 'OrdCat', 'Var1', 'Var2', 'Var3', 'Var4', 'Var5', 'Var6', 'Var7', 'Var8', 'NVCat', 'NVVar1', 'NVVar2', 'NVVar3', 'NVVar4', 'Blind_Make_encode', 'Blind_Model_encode', 'Blind_Submodel_encode']\n"
     ]
    }
   ],
   "source": [
    "print(y)\n",
    "print(X)"
   ]
  },
  {
   "cell_type": "code",
   "execution_count": 56,
   "metadata": {
    "collapsed": true
   },
   "outputs": [],
   "source": [
    "trainhf[y] = trainhf[y].asfactor()\n",
    "testhf[y] = testhf[y].asfactor()\n",
    "valhf[y] = valhf[y].asfactor()"
   ]
  },
  {
   "cell_type": "code",
   "execution_count": 57,
   "metadata": {
    "collapsed": false
   },
   "outputs": [
    {
     "name": "stdout",
     "output_type": "stream",
     "text": [
      "Rows:76292\n",
      "Cols:28\n",
      "\n",
      "\n"
     ]
    },
    {
     "data": {
      "text/html": [
       "<table>\n",
       "<thead>\n",
       "<tr><th>       </th><th>Calendar_Year  </th><th>Model_Year  </th><th>Cat1  </th><th>Cat3  </th><th>Cat6  </th><th>Cat8  </th><th>Cat9  </th><th>Cat10  </th><th>Cat11  </th><th>Cat12  </th><th>OrdCat  </th><th>Var1                </th><th>Var2                </th><th>Var3               </th><th>Var4                </th><th>Var5                 </th><th>Var6                </th><th>Var7                 </th><th>Var8                 </th><th>NVCat  </th><th>NVVar1             </th><th>NVVar2             </th><th>NVVar3              </th><th>NVVar4            </th><th>Claim_Event  </th><th>Blind_Make_encode   </th><th>Blind_Model_encode   </th><th>Blind_Submodel_encode  </th></tr>\n",
       "</thead>\n",
       "<tbody>\n",
       "<tr><td>type   </td><td>enum           </td><td>enum        </td><td>enum  </td><td>enum  </td><td>enum  </td><td>enum  </td><td>enum  </td><td>enum   </td><td>enum   </td><td>enum   </td><td>enum    </td><td>real                </td><td>real                </td><td>real               </td><td>real                </td><td>real                 </td><td>real                </td><td>real                 </td><td>real                 </td><td>enum   </td><td>real               </td><td>real               </td><td>real                </td><td>real              </td><td>enum         </td><td>real                </td><td>real                 </td><td>real                   </td></tr>\n",
       "<tr><td>mins   </td><td>               </td><td>            </td><td>      </td><td>      </td><td>      </td><td>      </td><td>      </td><td>       </td><td>       </td><td>       </td><td>        </td><td>-2.5782217999999997 </td><td>-2.4069371          </td><td>-2.7903352000000003</td><td>-2.4236476          </td><td>-3.3503442000000003  </td><td>-2.3345472999999997 </td><td>-2.7784905           </td><td>-1.9651488           </td><td>       </td><td>-0.2315299         </td><td>-0.2661168         </td><td>-0.27233720000000006</td><td>-0.2514189        </td><td>             </td><td>-0.04972123772028189</td><td>-0.049879298535897024</td><td>-0.04985531168839318   </td></tr>\n",
       "<tr><td>mean   </td><td>               </td><td>            </td><td>      </td><td>      </td><td>      </td><td>      </td><td>      </td><td>       </td><td>       </td><td>       </td><td>        </td><td>-0.02949798548602732</td><td>-0.096161874883343  </td><td>-0.0556787600652756</td><td>-0.08478846161196461</td><td>-0.008717678603261145</td><td>-0.07175581118334816</td><td>-0.052634356451528384</td><td>-0.0863067037172967  </td><td>       </td><td>0.03548116248492627</td><td>0.10341345003276883</td><td>0.1100108745333718  </td><td>0.0419018123800661</td><td>             </td><td>0.49972869156365696 </td><td>0.49981000495504774  </td><td>0.4998491743482984     </td></tr>\n",
       "<tr><td>maxs   </td><td>               </td><td>            </td><td>      </td><td>      </td><td>      </td><td>      </td><td>      </td><td>       </td><td>       </td><td>       </td><td>        </td><td>5.1433916           </td><td>7.2069383           </td><td>5.5633254          </td><td>6.980369099999999   </td><td>3.8635409            </td><td>4.5842886           </td><td>3.9059711            </td><td>33.457737            </td><td>       </td><td>6.627110000000001  </td><td>8.8830814          </td><td>8.691144            </td><td>6.3888025         </td><td>             </td><td>1.025374490600591   </td><td>1.0446987748099794   </td><td>1.049957919687348      </td></tr>\n",
       "<tr><td>sigma  </td><td>               </td><td>            </td><td>      </td><td>      </td><td>      </td><td>      </td><td>      </td><td>       </td><td>       </td><td>       </td><td>        </td><td>0.9645341672012594  </td><td>0.9457363074845767  </td><td>1.006548220765828  </td><td>0.9458107717305771  </td><td>0.9759744127356131   </td><td>0.9711688983097996  </td><td>1.0002479524804553   </td><td>0.9423646456781296   </td><td>       </td><td>1.065288598294371  </td><td>1.1780800946125565 </td><td>1.1731477240113848  </td><td>1.0774940980381331</td><td>             </td><td>0.0430776754686454  </td><td>0.08136705794402514  </td><td>0.10065186683142653    </td></tr>\n",
       "<tr><td>zeros  </td><td>               </td><td>            </td><td>      </td><td>      </td><td>      </td><td>      </td><td>      </td><td>       </td><td>       </td><td>       </td><td>        </td><td>12                  </td><td>14                  </td><td>131                </td><td>14                  </td><td>131                  </td><td>80                  </td><td>131                  </td><td>131                  </td><td>       </td><td>0                  </td><td>0                  </td><td>0                   </td><td>0                 </td><td>             </td><td>0                   </td><td>0                    </td><td>0                      </td></tr>\n",
       "<tr><td>missing</td><td>0              </td><td>0           </td><td>0     </td><td>0     </td><td>0     </td><td>0     </td><td>0     </td><td>0      </td><td>0      </td><td>0      </td><td>45      </td><td>0                   </td><td>0                   </td><td>0                  </td><td>0                   </td><td>0                    </td><td>0                   </td><td>0                    </td><td>0                    </td><td>0      </td><td>0                  </td><td>0                  </td><td>0                   </td><td>0                 </td><td>0            </td><td>0                   </td><td>0                    </td><td>0                      </td></tr>\n",
       "<tr><td>0      </td><td>2005           </td><td>1997        </td><td>B     </td><td>A     </td><td>B     </td><td>A     </td><td>B     </td><td>A      </td><td>E      </td><td>C      </td><td>2       </td><td>-0.5453724          </td><td>-0.9890633          </td><td>-0.4531614000000001</td><td>-0.9859833          </td><td>-0.15672809999999998 </td><td>-0.7051409000000001 </td><td>-0.8984856999999999  </td><td>-0.4080388           </td><td>M      </td><td>-0.2315299         </td><td>-0.2661168         </td><td>-0.27233720000000006</td><td>-0.2514189        </td><td>0            </td><td>0.4715605311860616  </td><td>0.5335900268978209   </td><td>0.539134435593037      </td></tr>\n",
       "<tr><td>1      </td><td>2005           </td><td>2003        </td><td>I     </td><td>F     </td><td>B     </td><td>A     </td><td>A     </td><td>A      </td><td>A      </td><td>C      </td><td>4       </td><td>-0.4569876          </td><td>0.9129624           </td><td>-0.0829161         </td><td>0.9929196           </td><td>-0.5016624           </td><td>0.6365166999999999  </td><td>0.6620411            </td><td>0.7040576            </td><td>O      </td><td>-0.2315299         </td><td>-0.2661168         </td><td>-0.27233720000000006</td><td>-0.2514189        </td><td>1            </td><td>0.581583944828677   </td><td>0.5106802498947309   </td><td>0.507141090944622      </td></tr>\n",
       "<tr><td>2      </td><td>2007           </td><td>1999        </td><td>B     </td><td>A     </td><td>B     </td><td>C     </td><td>B     </td><td>B      </td><td>A      </td><td>D      </td><td>2       </td><td>-0.5453724          </td><td>-0.9890633          </td><td>-0.4531614000000001</td><td>-0.9521559000000002 </td><td>-0.15672809999999998 </td><td>-0.6794073          </td><td>-0.8984856999999999  </td><td>-0.3314632           </td><td>M      </td><td>-0.2315299         </td><td>-0.2661168         </td><td>-0.27233720000000006</td><td>-0.2514189        </td><td>0            </td><td>0.5431322989165766  </td><td>0.5616976778583459   </td><td>0.5627237243481078     </td></tr>\n",
       "<tr><td>3      </td><td>2006           </td><td>1993        </td><td>D     </td><td>C     </td><td>C     </td><td>A     </td><td>B     </td><td>A      </td><td>E      </td><td>C      </td><td>2       </td><td>-0.7221419          </td><td>-1.2311393          </td><td>-1.2862133999999998</td><td>-1.2735162          </td><td>-0.983381            </td><td>-1.0782784          </td><td>-0.23495460000000004 </td><td>-1.21974             </td><td>M      </td><td>-0.2315299         </td><td>-0.2661168         </td><td>-0.27233720000000006</td><td>-0.2514189        </td><td>0            </td><td>0.528121614150449   </td><td>0.4109644550879309   </td><td>0.4801452124387341     </td></tr>\n",
       "<tr><td>4      </td><td>2007           </td><td>1990        </td><td>D     </td><td>C     </td><td>E     </td><td>A     </td><td>B     </td><td>A      </td><td>A      </td><td>D      </td><td>5       </td><td>3.4560462999999997  </td><td>0.740051            </td><td>1.6063284          </td><td>0.6546456           </td><td>2.4421737            </td><td>1.3956586000000002  </td><td>1.4361608            </td><td>-0.6211376999999999  </td><td>M      </td><td>-0.2315299         </td><td>-0.2661168         </td><td>-0.27233720000000006</td><td>-0.2514189        </td><td>0            </td><td>0.5134456828375159  </td><td>0.4968110186274842   </td><td>0.4637554990364504     </td></tr>\n",
       "<tr><td>5      </td><td>2007           </td><td>2001        </td><td>D     </td><td>A     </td><td>D     </td><td>A     </td><td>B     </td><td>A      </td><td>B      </td><td>D      </td><td>5       </td><td>2.1463451           </td><td>0.6535951999999999  </td><td>1.6757493000000003 </td><td>0.6546456           </td><td>1.9604551            </td><td>1.3593976           </td><td>1.0921077            </td><td>-0.015096600000000002</td><td>M      </td><td>-0.2315299         </td><td>-0.2661168         </td><td>-0.27233720000000006</td><td>-0.2514189        </td><td>1            </td><td>0.4692717800197195  </td><td>0.5344655036896697   </td><td>0.5098658967766833     </td></tr>\n",
       "<tr><td>6      </td><td>2005           </td><td>1997        </td><td>F     </td><td>A     </td><td>D     </td><td>B     </td><td>B     </td><td>B      </td><td>B      </td><td>D      </td><td>4       </td><td>-0.3605679          </td><td>-0.5567847          </td><td>0.1022066          </td><td>-0.5293134          </td><td>0.5688234999999999   </td><td>-0.3121183          </td><td>-1.0950875           </td><td>-0.5970711           </td><td>J      </td><td>-0.2315299         </td><td>2.0211828          </td><td>1.9685332           </td><td>-0.2514189        </td><td>0            </td><td>0.5402767751641543  </td><td>0.5041295759396055   </td><td>0.500606834594987      </td></tr>\n",
       "<tr><td>7      </td><td>2005           </td><td>1989        </td><td>C     </td><td>C     </td><td>C     </td><td>A     </td><td>B     </td><td>A      </td><td>C      </td><td>D      </td><td>2       </td><td>-0.9230164          </td><td>-1.7498736          </td><td>-0.6845648         </td><td>-1.7132723          </td><td>-0.6860239           </td><td>-0.9741743          </td><td>-1.303977            </td><td>-1.3244299           </td><td>M      </td><td>-0.2315299         </td><td>-0.2661168         </td><td>-0.27233720000000006</td><td>-0.2514189        </td><td>0            </td><td>0.5347912009755438  </td><td>0.5524793046914249   </td><td>0.39193380447927967    </td></tr>\n",
       "<tr><td>8      </td><td>2007           </td><td>1991        </td><td>B     </td><td>D     </td><td>C     </td><td>A     </td><td>B     </td><td>C      </td><td>F      </td><td>C      </td><td>2       </td><td>-0.7703518          </td><td>-1.2484305          </td><td>-1.0779504999999998</td><td>0.1472346           </td><td>-0.5373453           </td><td>-1.0326598          </td><td>-1.0582247           </td><td>-0.7263744000000001  </td><td>N      </td><td>-0.2315299         </td><td>-0.2661168         </td><td>-0.27233720000000006</td><td>-0.2514189        </td><td>1            </td><td>0.5497364940776457  </td><td>0.5741957881520177   </td><td>0.5448254031546254     </td></tr>\n",
       "<tr><td>9      </td><td>2005           </td><td>1992        </td><td>I     </td><td>C     </td><td>C     </td><td>A     </td><td>B     </td><td>A      </td><td>E      </td><td>D      </td><td>4       </td><td>-0.8507016          </td><td>0.048405199999999995</td><td>-0.3606001         </td><td>-0.0219024          </td><td>-1.3283154           </td><td>-0.6618616999999999 </td><td>0.0722357            </td><td>-0.3393395           </td><td>O      </td><td>-0.2315299         </td><td>-0.2661168         </td><td>-0.27233720000000006</td><td>-0.2514189        </td><td>1            </td><td>0.5225363264997125  </td><td>0.4952230804111616   </td><td>0.46471568473708413    </td></tr>\n",
       "</tbody>\n",
       "</table>"
      ]
     },
     "metadata": {},
     "output_type": "display_data"
    }
   ],
   "source": [
    "trainhf.describe()"
   ]
  },
  {
   "cell_type": "markdown",
   "metadata": {},
   "source": [
    "#### We built the logistic regression model on training dataset."
   ]
  },
  {
   "cell_type": "code",
   "execution_count": 58,
   "metadata": {
    "collapsed": false
   },
   "outputs": [
    {
     "name": "stdout",
     "output_type": "stream",
     "text": [
      "glm Model Build progress: |███████████████████████████████████████████████| 100%\n"
     ]
    }
   ],
   "source": [
    "claim_logistic = H2OGeneralizedLinearEstimator(family='binomial',\n",
    "                                         model_id='claim_logistic',\n",
    "                                         solver='IRLSM',\n",
    "                                         standardize=True,\n",
    "                                         lambda_search=True)\n",
    "\n",
    "\n",
    "claim_logistic.train(X, y, training_frame=trainhf, validation_frame=valhf)\n"
   ]
  },
  {
   "cell_type": "markdown",
   "metadata": {},
   "source": [
    "### 7. (1 pt.) Report your test AUC and give its exact interpretation."
   ]
  },
  {
   "cell_type": "markdown",
   "metadata": {},
   "source": [
    "#### We calculated the AUC score in three datasets to see if our model is good enough to fit the dataset."
   ]
  },
  {
   "cell_type": "code",
   "execution_count": 59,
   "metadata": {
    "collapsed": false
   },
   "outputs": [
    {
     "name": "stdout",
     "output_type": "stream",
     "text": [
      "0.6244767149524039\n",
      "0.632581533967085\n",
      "0.636464642513237\n"
     ]
    }
   ],
   "source": [
    "print(claim_logistic.auc(train=True))\n",
    "print(claim_logistic.auc(valid=True))\n",
    "print(claim_logistic.model_performance(test_data=testhf).auc())"
   ]
  },
  {
   "cell_type": "markdown",
   "metadata": {},
   "source": [
    "#### The interpretation of AUC is: If we randomly select a true YES and a true NO, the probability that our model gives a higher probability to the true YES than to the true NO is 0.636"
   ]
  },
  {
   "cell_type": "markdown",
   "metadata": {},
   "source": [
    "### 8. (2 pts.) Explain the 3 most important variables in your model in terms of the odds that a policy will have a claim associated with it."
   ]
  },
  {
   "cell_type": "code",
   "execution_count": 60,
   "metadata": {
    "collapsed": false
   },
   "outputs": [
    {
     "name": "stdout",
     "output_type": "stream",
     "text": [
      "Intercept :  -1.9292735603738163\n",
      "NVCat.L :  0.021659802953515286\n",
      "NVCat.M :  -0.3512657459731928\n",
      "NVCat.O :  -0.08946597502466531\n",
      "OrdCat.4 :  0.0025374790873976504\n",
      "Cat3.A :  0.03384613577383472\n",
      "Cat3.C :  -0.0109737967737661\n",
      "Cat11.A :  -0.006457662915027659\n",
      "Calendar_Year.2005 :  0.030807762183225767\n",
      "Var2 :  -0.004173916706301869\n",
      "Var3 :  0.003964791819310119\n",
      "Var5 :  0.005406015598870943\n",
      "Var7 :  0.022476863820086176\n",
      "Var8 :  0.0292711859428556\n",
      "NVVar1 :  0.014871859924714957\n",
      "NVVar2 :  0.0898931509488534\n",
      "NVVar3 :  0.10406447895621516\n",
      "NVVar4 :  0.017009708348955415\n",
      "Blind_Model_encode :  0.5121707781818976\n",
      "Blind_Submodel_encode :  3.561402451665348\n"
     ]
    }
   ],
   "source": [
    "# print non-zero model parameters\n",
    "for name, val in claim_logistic.coef().items():\n",
    "    if val != 0.0:\n",
    "        print(name, ': ', val)"
   ]
  },
  {
   "cell_type": "code",
   "execution_count": 61,
   "metadata": {
    "collapsed": false
   },
   "outputs": [
    {
     "name": "stdout",
     "output_type": "stream",
     "text": [
      "H2O session _sid_b5fe closed.\n"
     ]
    }
   ],
   "source": [
    "h2o.cluster().shutdown(prompt=False)"
   ]
  },
  {
   "cell_type": "markdown",
   "metadata": {},
   "source": [
    "#### The 3 most important variables are Blind_Model_encode, Blind_Submodel_encode and NVCat.M which is a level of the NVCat variable. \n",
    "\n",
    "* For a 1 unit increase in blind_model_encode the odds of a claim occuring change by a factor of 1.67 on average holding all other variables constant. \n",
    "\n",
    "* For a 1 unit increase in blind_submodel_encode the odds of a claim occuring change by a factor of 35.1 on average holding all other variables constant.\n",
    "\n",
    "* When the NVCat = M the odds of a claim change by a factor of 0.7 on average holding all other variables constant. (There are no reference levels for penalized GLM in H2O.) "
   ]
  }
 ],
 "metadata": {
  "anaconda-cloud": {},
  "kernelspec": {
   "display_name": "Python [default]",
   "language": "python",
   "name": "python3"
  },
  "language_info": {
   "codemirror_mode": {
    "name": "ipython",
    "version": 3
   },
   "file_extension": ".py",
   "mimetype": "text/x-python",
   "name": "python",
   "nbconvert_exporter": "python",
   "pygments_lexer": "ipython3",
   "version": "3.5.2"
  }
 },
 "nbformat": 4,
 "nbformat_minor": 2
}
